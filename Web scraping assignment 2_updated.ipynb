{
 "cells": [
  {
   "cell_type": "code",
   "execution_count": 1,
   "id": "eccad364",
   "metadata": {},
   "outputs": [
    {
     "name": "stdout",
     "output_type": "stream",
     "text": [
      "Defaulting to user installation because normal site-packages is not writeable\n",
      "Requirement already satisfied: selenium in c:\\users\\dell\\appdata\\roaming\\python\\python39\\site-packages (4.11.2)\n",
      "Requirement already satisfied: trio~=0.17 in c:\\users\\dell\\appdata\\roaming\\python\\python39\\site-packages (from selenium) (0.22.2)\n",
      "Requirement already satisfied: trio-websocket~=0.9 in c:\\users\\dell\\appdata\\roaming\\python\\python39\\site-packages (from selenium) (0.10.3)\n",
      "Requirement already satisfied: urllib3[socks]<3,>=1.26 in c:\\programdata\\anaconda3\\lib\\site-packages (from selenium) (1.26.11)\n",
      "Requirement already satisfied: certifi>=2021.10.8 in c:\\programdata\\anaconda3\\lib\\site-packages (from selenium) (2022.9.14)\n",
      "Requirement already satisfied: cffi>=1.14 in c:\\programdata\\anaconda3\\lib\\site-packages (from trio~=0.17->selenium) (1.15.1)\n",
      "Requirement already satisfied: sortedcontainers in c:\\programdata\\anaconda3\\lib\\site-packages (from trio~=0.17->selenium) (2.4.0)\n",
      "Requirement already satisfied: exceptiongroup>=1.0.0rc9 in c:\\users\\dell\\appdata\\roaming\\python\\python39\\site-packages (from trio~=0.17->selenium) (1.1.3)\n",
      "Requirement already satisfied: sniffio in c:\\programdata\\anaconda3\\lib\\site-packages (from trio~=0.17->selenium) (1.2.0)\n",
      "Requirement already satisfied: outcome in c:\\users\\dell\\appdata\\roaming\\python\\python39\\site-packages (from trio~=0.17->selenium) (1.2.0)\n",
      "Requirement already satisfied: attrs>=20.1.0 in c:\\programdata\\anaconda3\\lib\\site-packages (from trio~=0.17->selenium) (21.4.0)\n",
      "Requirement already satisfied: idna in c:\\programdata\\anaconda3\\lib\\site-packages (from trio~=0.17->selenium) (3.3)\n",
      "Requirement already satisfied: wsproto>=0.14 in c:\\users\\dell\\appdata\\roaming\\python\\python39\\site-packages (from trio-websocket~=0.9->selenium) (1.2.0)\n",
      "Requirement already satisfied: PySocks!=1.5.7,<2.0,>=1.5.6 in c:\\programdata\\anaconda3\\lib\\site-packages (from urllib3[socks]<3,>=1.26->selenium) (1.7.1)\n",
      "Requirement already satisfied: pycparser in c:\\programdata\\anaconda3\\lib\\site-packages (from cffi>=1.14->trio~=0.17->selenium) (2.21)\n",
      "Requirement already satisfied: h11<1,>=0.9.0 in c:\\users\\dell\\appdata\\roaming\\python\\python39\\site-packages (from wsproto>=0.14->trio-websocket~=0.9->selenium) (0.14.0)\n"
     ]
    }
   ],
   "source": [
    "!pip install selenium"
   ]
  },
  {
   "cell_type": "code",
   "execution_count": 2,
   "id": "53fc4a6e",
   "metadata": {},
   "outputs": [],
   "source": [
    "import selenium                    \n",
    "from selenium import webdriver     \n",
    "import pandas as pd\n",
    "from selenium.webdriver.common.by import By  \n",
    "import warnings                     \n",
    "warnings.filterwarnings(\"ignore\")\n",
    "import time"
   ]
  },
  {
   "cell_type": "code",
   "execution_count": 4,
   "id": "70b0591a",
   "metadata": {},
   "outputs": [],
   "source": [
    "#1.\n",
    "\n",
    "driver = webdriver.Chrome()"
   ]
  },
  {
   "cell_type": "code",
   "execution_count": 5,
   "id": "d4a14496",
   "metadata": {},
   "outputs": [],
   "source": [
    "driver.get(\"https://www.shine.com/\")"
   ]
  },
  {
   "cell_type": "code",
   "execution_count": 7,
   "id": "59ec0fda",
   "metadata": {},
   "outputs": [],
   "source": [
    "designation= driver.find_element(By.XPATH,\"/html/body/div[1]/div[4]/div/div[2]/div[2]/div/form/div/div[1]/ul/li[1]/div/input\")\n",
    "designation.send_keys('Data Analyst')"
   ]
  },
  {
   "cell_type": "code",
   "execution_count": 8,
   "id": "e66498a0",
   "metadata": {},
   "outputs": [],
   "source": [
    "location= driver.find_element(By.XPATH,\"/html/body/div[1]/div[4]/div/div[2]/div[2]/div/form/div/div[1]/ul/li[2]/div/input\")\n",
    "location.send_keys('Bangalore')"
   ]
  },
  {
   "cell_type": "code",
   "execution_count": 9,
   "id": "c0c4eb86",
   "metadata": {},
   "outputs": [],
   "source": [
    "search= driver.find_element(By.XPATH, \"/html/body/div[1]/div[4]/div/div[2]/div[2]/div/form/div/div[2]/div/button\")\n",
    "search.click()"
   ]
  },
  {
   "cell_type": "code",
   "execution_count": 10,
   "id": "97b1a3cc",
   "metadata": {},
   "outputs": [],
   "source": [
    "job_title=[]\n",
    "job_location=[]\n",
    "company_name=[]\n",
    "experience_required=[]"
   ]
  },
  {
   "cell_type": "code",
   "execution_count": 11,
   "id": "fa28ca95",
   "metadata": {},
   "outputs": [],
   "source": [
    "title_tags=driver.find_elements(By.XPATH,'//h2[@itemprop=\"name\"]')\n",
    "for i in title_tags[0:11]:\n",
    "    title=i.text\n",
    "    job_title.append(title)"
   ]
  },
  {
   "cell_type": "code",
   "execution_count": 12,
   "id": "6e0ff7ac",
   "metadata": {},
   "outputs": [],
   "source": [
    "location_tags=driver.find_elements(By.XPATH,'//div[@class=\" jobCard_jobCard_lists_item__YxRkV jobCard_locationIcon__zrWt2\"]')\n",
    "for i in location_tags[0:11]:\n",
    "    location=i.text\n",
    "    job_location.append(location)"
   ]
  },
  {
   "cell_type": "code",
   "execution_count": 13,
   "id": "780a177c",
   "metadata": {},
   "outputs": [],
   "source": [
    "company_tags=driver.find_elements(By.XPATH,'//div[@class=\"jobCard_jobCard_cName__mYnow\"]')\n",
    "for i in company_tags[0:11]:\n",
    "    company=i.text\n",
    "    company_name.append(company)"
   ]
  },
  {
   "cell_type": "code",
   "execution_count": 14,
   "id": "a2243ce0",
   "metadata": {},
   "outputs": [],
   "source": [
    "experience_tags=driver.find_elements(By.XPATH,'//div[@class=\" jobCard_jobCard_lists_item__YxRkV jobCard_jobIcon__3FB1t\"]')\n",
    "for i in experience_tags[0:11]:\n",
    "    experience=i.text\n",
    "    experience_required.append(experience)"
   ]
  },
  {
   "cell_type": "code",
   "execution_count": 15,
   "id": "7b25ef79",
   "metadata": {},
   "outputs": [
    {
     "name": "stdout",
     "output_type": "stream",
     "text": [
      "11 11 11 11\n"
     ]
    }
   ],
   "source": [
    "print(len(job_title),len(job_location),len(company_name),len(experience_required))"
   ]
  },
  {
   "cell_type": "code",
   "execution_count": 16,
   "id": "d9ec0dd2",
   "metadata": {},
   "outputs": [
    {
     "data": {
      "text/html": [
       "<div>\n",
       "<style scoped>\n",
       "    .dataframe tbody tr th:only-of-type {\n",
       "        vertical-align: middle;\n",
       "    }\n",
       "\n",
       "    .dataframe tbody tr th {\n",
       "        vertical-align: top;\n",
       "    }\n",
       "\n",
       "    .dataframe thead th {\n",
       "        text-align: right;\n",
       "    }\n",
       "</style>\n",
       "<table border=\"1\" class=\"dataframe\">\n",
       "  <thead>\n",
       "    <tr style=\"text-align: right;\">\n",
       "      <th></th>\n",
       "      <th>Title</th>\n",
       "      <th>Location</th>\n",
       "      <th>Company_name</th>\n",
       "      <th>Experience</th>\n",
       "    </tr>\n",
       "  </thead>\n",
       "  <tbody>\n",
       "    <tr>\n",
       "      <th>0</th>\n",
       "      <td>Project Coordinator (Data Analyst)</td>\n",
       "      <td>Bangalore</td>\n",
       "      <td>futures and careers</td>\n",
       "      <td>2 to 4 Yrs</td>\n",
       "    </tr>\n",
       "    <tr>\n",
       "      <th>1</th>\n",
       "      <td>Data Analyst - Java/Python</td>\n",
       "      <td>Bangalore</td>\n",
       "      <td>boyen haddin consulting and technol...</td>\n",
       "      <td>3 to 6 Yrs</td>\n",
       "    </tr>\n",
       "    <tr>\n",
       "      <th>2</th>\n",
       "      <td>Hiring For Data Analyst</td>\n",
       "      <td>Bangalore\\n+14</td>\n",
       "      <td>kavya staffing solutions</td>\n",
       "      <td>0 to 4 Yrs</td>\n",
       "    </tr>\n",
       "    <tr>\n",
       "      <th>3</th>\n",
       "      <td>Senior Data Analyst</td>\n",
       "      <td>Bangalore</td>\n",
       "      <td>ara resources private limited</td>\n",
       "      <td>2 to 5 Yrs</td>\n",
       "    </tr>\n",
       "    <tr>\n",
       "      <th>4</th>\n",
       "      <td>Data Analyst</td>\n",
       "      <td>Bangalore\\n+9</td>\n",
       "      <td>ashutosh sabhashankar chaturvedi hi...</td>\n",
       "      <td>7 to 12 Yrs</td>\n",
       "    </tr>\n",
       "    <tr>\n",
       "      <th>5</th>\n",
       "      <td>Data Analyst Urgent Recruiment</td>\n",
       "      <td>Bangalore\\n+14</td>\n",
       "      <td>divya interprises</td>\n",
       "      <td>0 to 4 Yrs</td>\n",
       "    </tr>\n",
       "    <tr>\n",
       "      <th>6</th>\n",
       "      <td>Apply Now a Data Analyst</td>\n",
       "      <td>Bangalore</td>\n",
       "      <td>deuglo infosystem private limited</td>\n",
       "      <td>1 to 2 Yrs</td>\n",
       "    </tr>\n",
       "    <tr>\n",
       "      <th>7</th>\n",
       "      <td>Apply Now Data Analyst</td>\n",
       "      <td>Bangalore</td>\n",
       "      <td>deuglo infosystem private limited</td>\n",
       "      <td>1 to 2 Yrs</td>\n",
       "    </tr>\n",
       "    <tr>\n",
       "      <th>8</th>\n",
       "      <td>Needed for Data Analyst</td>\n",
       "      <td>Bangalore</td>\n",
       "      <td>deuglo infosystem private limited</td>\n",
       "      <td>1 to 2 Yrs</td>\n",
       "    </tr>\n",
       "    <tr>\n",
       "      <th>9</th>\n",
       "      <td>Urgently need a Data Analyst</td>\n",
       "      <td>Bangalore</td>\n",
       "      <td>deuglo infosystem private limited</td>\n",
       "      <td>1 to 2 Yrs</td>\n",
       "    </tr>\n",
       "    <tr>\n",
       "      <th>10</th>\n",
       "      <td>Require now Data Analyst</td>\n",
       "      <td>Bangalore</td>\n",
       "      <td>deuglo infosystem private limited</td>\n",
       "      <td>1 to 2 Yrs</td>\n",
       "    </tr>\n",
       "  </tbody>\n",
       "</table>\n",
       "</div>"
      ],
      "text/plain": [
       "                                 Title        Location  \\\n",
       "0   Project Coordinator (Data Analyst)       Bangalore   \n",
       "1           Data Analyst - Java/Python       Bangalore   \n",
       "2              Hiring For Data Analyst  Bangalore\\n+14   \n",
       "3                  Senior Data Analyst       Bangalore   \n",
       "4                         Data Analyst   Bangalore\\n+9   \n",
       "5       Data Analyst Urgent Recruiment  Bangalore\\n+14   \n",
       "6             Apply Now a Data Analyst       Bangalore   \n",
       "7               Apply Now Data Analyst       Bangalore   \n",
       "8              Needed for Data Analyst       Bangalore   \n",
       "9         Urgently need a Data Analyst       Bangalore   \n",
       "10            Require now Data Analyst       Bangalore   \n",
       "\n",
       "                              Company_name   Experience  \n",
       "0                      futures and careers   2 to 4 Yrs  \n",
       "1   boyen haddin consulting and technol...   3 to 6 Yrs  \n",
       "2                 kavya staffing solutions   0 to 4 Yrs  \n",
       "3            ara resources private limited   2 to 5 Yrs  \n",
       "4   ashutosh sabhashankar chaturvedi hi...  7 to 12 Yrs  \n",
       "5                        divya interprises   0 to 4 Yrs  \n",
       "6        deuglo infosystem private limited   1 to 2 Yrs  \n",
       "7        deuglo infosystem private limited   1 to 2 Yrs  \n",
       "8        deuglo infosystem private limited   1 to 2 Yrs  \n",
       "9        deuglo infosystem private limited   1 to 2 Yrs  \n",
       "10       deuglo infosystem private limited   1 to 2 Yrs  "
      ]
     },
     "execution_count": 16,
     "metadata": {},
     "output_type": "execute_result"
    }
   ],
   "source": [
    "import pandas as pd\n",
    "df=pd.DataFrame({'Title':job_title, 'Location':job_location,'Company_name':company_name,'Experience':experience_required})\n",
    "df"
   ]
  },
  {
   "cell_type": "code",
   "execution_count": 17,
   "id": "e7f5399a",
   "metadata": {},
   "outputs": [],
   "source": [
    "#2.\n",
    "driver = webdriver.Chrome()"
   ]
  },
  {
   "cell_type": "code",
   "execution_count": 18,
   "id": "c7017645",
   "metadata": {},
   "outputs": [],
   "source": [
    "driver.get(\"https://www.shine.com/\")"
   ]
  },
  {
   "cell_type": "code",
   "execution_count": 19,
   "id": "8f303f9f",
   "metadata": {},
   "outputs": [],
   "source": [
    "designation= driver.find_element(By.XPATH,\"/html/body/div[1]/div[4]/div/div[2]/div[2]/div/form/div/div[1]/ul/li[1]/div/input\")\n",
    "designation.send_keys('Data Scientist')"
   ]
  },
  {
   "cell_type": "code",
   "execution_count": 20,
   "id": "bb414e38",
   "metadata": {},
   "outputs": [],
   "source": [
    "location= driver.find_element(By.XPATH,\"/html/body/div[1]/div[4]/div/div[2]/div[2]/div/form/div/div[1]/ul/li[2]/div/input\")\n",
    "location.send_keys('Bangalore')"
   ]
  },
  {
   "cell_type": "code",
   "execution_count": 21,
   "id": "7c569992",
   "metadata": {},
   "outputs": [],
   "source": [
    "search= driver.find_element(By.XPATH, \"/html/body/div[1]/div[4]/div/div[2]/div[2]/div/form/div/div[2]/div/button\")\n",
    "search.click()"
   ]
  },
  {
   "cell_type": "code",
   "execution_count": 35,
   "id": "d8933728",
   "metadata": {},
   "outputs": [],
   "source": [
    "job_title=[]\n",
    "job_location=[]\n",
    "company_name=[]"
   ]
  },
  {
   "cell_type": "code",
   "execution_count": 36,
   "id": "8e4d9e94",
   "metadata": {},
   "outputs": [],
   "source": [
    "title_tags=driver.find_elements(By.XPATH, '//h2[@itemprop=\"name\"]')\n",
    "for i in title_tags[0:11]:\n",
    "    title=i.text\n",
    "    job_title.append(title)"
   ]
  },
  {
   "cell_type": "code",
   "execution_count": 37,
   "id": "3d4d079b",
   "metadata": {},
   "outputs": [],
   "source": [
    "location_tags=driver.find_elements(By.XPATH,'//div[@class=\" jobCard_jobCard_lists_item__YxRkV jobCard_locationIcon__zrWt2\"]')\n",
    "for i in location_tags[0:11]:\n",
    "    location=i.text\n",
    "    job_location.append(location)"
   ]
  },
  {
   "cell_type": "code",
   "execution_count": 38,
   "id": "fb5c63c5",
   "metadata": {},
   "outputs": [],
   "source": [
    "company_tags=driver.find_elements(By.XPATH,'//div[@class=\"jobCard_jobCard_cName__mYnow\"]')\n",
    "for i in company_tags[0:11]:\n",
    "    company=i.text\n",
    "    company_name.append(company)"
   ]
  },
  {
   "cell_type": "code",
   "execution_count": 39,
   "id": "8de095de",
   "metadata": {},
   "outputs": [
    {
     "name": "stdout",
     "output_type": "stream",
     "text": [
      "11 11 11\n"
     ]
    }
   ],
   "source": [
    "print(len(job_title),len(job_location),len(company_name))"
   ]
  },
  {
   "cell_type": "code",
   "execution_count": 40,
   "id": "58d5ea9b",
   "metadata": {},
   "outputs": [
    {
     "data": {
      "text/html": [
       "<div>\n",
       "<style scoped>\n",
       "    .dataframe tbody tr th:only-of-type {\n",
       "        vertical-align: middle;\n",
       "    }\n",
       "\n",
       "    .dataframe tbody tr th {\n",
       "        vertical-align: top;\n",
       "    }\n",
       "\n",
       "    .dataframe thead th {\n",
       "        text-align: right;\n",
       "    }\n",
       "</style>\n",
       "<table border=\"1\" class=\"dataframe\">\n",
       "  <thead>\n",
       "    <tr style=\"text-align: right;\">\n",
       "      <th></th>\n",
       "      <th>Title</th>\n",
       "      <th>Location</th>\n",
       "      <th>Company_name</th>\n",
       "    </tr>\n",
       "  </thead>\n",
       "  <tbody>\n",
       "    <tr>\n",
       "      <th>0</th>\n",
       "      <td>Hiring For Data Scientist</td>\n",
       "      <td>Bangalore\\n+17</td>\n",
       "      <td>kavya staffing solutions</td>\n",
       "    </tr>\n",
       "    <tr>\n",
       "      <th>1</th>\n",
       "      <td>Hiring For Data Scientist</td>\n",
       "      <td>Bangalore\\n+17</td>\n",
       "      <td>kavya staffing solutions</td>\n",
       "    </tr>\n",
       "    <tr>\n",
       "      <th>2</th>\n",
       "      <td>Data Scientist</td>\n",
       "      <td>Bangalore</td>\n",
       "      <td>skyleaf consultants</td>\n",
       "    </tr>\n",
       "    <tr>\n",
       "      <th>3</th>\n",
       "      <td>Data Scientist Urgent Recruitment</td>\n",
       "      <td>Bangalore\\n+14</td>\n",
       "      <td>divya interprises</td>\n",
       "    </tr>\n",
       "    <tr>\n",
       "      <th>4</th>\n",
       "      <td>Required for Data Scientist</td>\n",
       "      <td>Bangalore</td>\n",
       "      <td>deuglo infosystem private limited</td>\n",
       "    </tr>\n",
       "    <tr>\n",
       "      <th>5</th>\n",
       "      <td>Urgently need Data Scientist</td>\n",
       "      <td>Bangalore\\n+8</td>\n",
       "      <td>deuglo infosystem private limited</td>\n",
       "    </tr>\n",
       "    <tr>\n",
       "      <th>6</th>\n",
       "      <td>Data scientist Bangalore</td>\n",
       "      <td>Bangalore</td>\n",
       "      <td>seven geomax consulting private lim...</td>\n",
       "    </tr>\n",
       "    <tr>\n",
       "      <th>7</th>\n",
       "      <td>Data Scientist</td>\n",
       "      <td>Bangalore</td>\n",
       "      <td>employberry consultants hiring for ...</td>\n",
       "    </tr>\n",
       "    <tr>\n",
       "      <th>8</th>\n",
       "      <td>Hiring For Data Scientist</td>\n",
       "      <td>Bangalore\\n+15</td>\n",
       "      <td>niharika enterprises</td>\n",
       "    </tr>\n",
       "    <tr>\n",
       "      <th>9</th>\n",
       "      <td>Needed for the post Data Scientist</td>\n",
       "      <td>Bangalore\\n+8</td>\n",
       "      <td>deuglo infosystem private limited</td>\n",
       "    </tr>\n",
       "    <tr>\n",
       "      <th>10</th>\n",
       "      <td>Data Scientist</td>\n",
       "      <td>Bangalore\\n+6</td>\n",
       "      <td>quiscon biotech</td>\n",
       "    </tr>\n",
       "  </tbody>\n",
       "</table>\n",
       "</div>"
      ],
      "text/plain": [
       "                                 Title        Location  \\\n",
       "0            Hiring For Data Scientist  Bangalore\\n+17   \n",
       "1            Hiring For Data Scientist  Bangalore\\n+17   \n",
       "2                       Data Scientist       Bangalore   \n",
       "3    Data Scientist Urgent Recruitment  Bangalore\\n+14   \n",
       "4          Required for Data Scientist       Bangalore   \n",
       "5         Urgently need Data Scientist   Bangalore\\n+8   \n",
       "6             Data scientist Bangalore       Bangalore   \n",
       "7                       Data Scientist       Bangalore   \n",
       "8            Hiring For Data Scientist  Bangalore\\n+15   \n",
       "9   Needed for the post Data Scientist   Bangalore\\n+8   \n",
       "10                      Data Scientist   Bangalore\\n+6   \n",
       "\n",
       "                              Company_name  \n",
       "0                 kavya staffing solutions  \n",
       "1                 kavya staffing solutions  \n",
       "2                      skyleaf consultants  \n",
       "3                        divya interprises  \n",
       "4        deuglo infosystem private limited  \n",
       "5        deuglo infosystem private limited  \n",
       "6   seven geomax consulting private lim...  \n",
       "7   employberry consultants hiring for ...  \n",
       "8                     niharika enterprises  \n",
       "9        deuglo infosystem private limited  \n",
       "10                         quiscon biotech  "
      ]
     },
     "execution_count": 40,
     "metadata": {},
     "output_type": "execute_result"
    }
   ],
   "source": [
    "import pandas as pd\n",
    "df=pd.DataFrame({'Title':job_title, 'Location':job_location,'Company_name':company_name})\n",
    "df"
   ]
  },
  {
   "cell_type": "code",
   "execution_count": 2,
   "id": "99b8621b",
   "metadata": {},
   "outputs": [],
   "source": [
    "import selenium                    \n",
    "from selenium import webdriver     \n",
    "import pandas as pd\n",
    "from selenium.webdriver.common.by import By  \n",
    "import warnings                     \n",
    "warnings.filterwarnings(\"ignore\")\n",
    "import time"
   ]
  },
  {
   "cell_type": "code",
   "execution_count": 77,
   "id": "1e6555fb",
   "metadata": {},
   "outputs": [],
   "source": [
    "#3.\n",
    "driver = webdriver.Chrome()"
   ]
  },
  {
   "cell_type": "code",
   "execution_count": 78,
   "id": "09cb7c43",
   "metadata": {},
   "outputs": [],
   "source": [
    "driver.get(\"https://www.shine.com/\")"
   ]
  },
  {
   "cell_type": "code",
   "execution_count": 79,
   "id": "e926be28",
   "metadata": {},
   "outputs": [],
   "source": [
    "designation= driver.find_element(By.XPATH,\"/html/body/div[1]/div[4]/div/div[2]/div[2]/div/form/div/div[1]/ul/li[1]/div/input\")\n",
    "designation.send_keys('Data Scientist')"
   ]
  },
  {
   "cell_type": "code",
   "execution_count": 80,
   "id": "2755b49e",
   "metadata": {},
   "outputs": [],
   "source": [
    "search= driver.find_element(By.XPATH, \"/html/body/div[1]/div[4]/div/div[2]/div[2]/div/form/div/div[2]/div/button\")\n",
    "search.click()"
   ]
  },
  {
   "cell_type": "code",
   "execution_count": 82,
   "id": "11d5d73a",
   "metadata": {},
   "outputs": [],
   "source": [
    "location_checkbox= driver.find_element(By.XPATH, \"/html/body/div[1]/div[1]/div[4]/div/div[1]/div/div[2]/div/ul/li[1]/button\")\n",
    "location_checkbox.click()"
   ]
  },
  {
   "cell_type": "code",
   "execution_count": 83,
   "id": "1e9ce012",
   "metadata": {},
   "outputs": [],
   "source": [
    "search= driver.find_element(By.XPATH, \"/html/body/div[1]/div[1]/div[4]/div/div[1]/div/div[2]/div[2]/div/div/div/div[3]/div/div/div/ul/li[8]/span/label\")\n",
    "search.click()"
   ]
  },
  {
   "cell_type": "code",
   "execution_count": 84,
   "id": "f57d8fde",
   "metadata": {},
   "outputs": [],
   "source": [
    "search= driver.find_element(By.XPATH, \"/html/body/div[1]/div[1]/div[4]/div/div[1]/div/div[2]/div[2]/div/div/div/div[4]/button[2]\")\n",
    "search.click()"
   ]
  },
  {
   "cell_type": "code",
   "execution_count": 85,
   "id": "d1ed601b",
   "metadata": {},
   "outputs": [],
   "source": [
    "salary_checkbox= driver.find_element(By.XPATH, \"/html/body/div[1]/div[1]/div[4]/div/div[1]/div/div[2]/div/ul/li[3]/button\")\n",
    "salary_checkbox.click()"
   ]
  },
  {
   "cell_type": "code",
   "execution_count": 86,
   "id": "dad9b1d6",
   "metadata": {},
   "outputs": [],
   "source": [
    "search= driver.find_element(By.XPATH, \"/html/body/div[1]/div[1]/div[4]/div/div[1]/div/div[2]/div[2]/div/div/div/div[3]/div/div/div/ul/li[3]/span/label\")\n",
    "search.click()"
   ]
  },
  {
   "cell_type": "code",
   "execution_count": 87,
   "id": "2005de46",
   "metadata": {},
   "outputs": [],
   "source": [
    "search= driver.find_element(By.XPATH, \"/html/body/div[1]/div[1]/div[4]/div/div[1]/div/div[2]/div[2]/div/div/div/div[4]/button[2]\")\n",
    "search.click()"
   ]
  },
  {
   "cell_type": "code",
   "execution_count": 88,
   "id": "869907a3",
   "metadata": {},
   "outputs": [],
   "source": [
    "JOB_title=[]\n",
    "JOB_location=[]\n",
    "COMPANY_name=[]\n",
    "EXPERIENCE_required=[]"
   ]
  },
  {
   "cell_type": "code",
   "execution_count": 89,
   "id": "3cb6ad60",
   "metadata": {},
   "outputs": [],
   "source": [
    "Title_tags=driver.find_elements(By.XPATH,'//h2[@itemprop=\"name\"]')\n",
    "for i in Title_tags[0:10]:\n",
    "    title=i.text\n",
    "    JOB_title.append(title)\n",
    "    \n",
    "Location_tags=driver.find_elements(By.XPATH,'//div[@class=\" jobCard_jobCard_lists_item__YxRkV jobCard_locationIcon__zrWt2\"]')\n",
    "for i in Location_tags[0:10]:\n",
    "    location=i.text\n",
    "    JOB_location.append(location)\n",
    "    \n",
    "Company_tags=driver.find_elements(By.XPATH,'//div[@class=\"jobCard_jobCard_cName__mYnow\"]')\n",
    "for i in Company_tags[0:10]:\n",
    "    company=i.text\n",
    "    COMPANY_name.append(company)\n",
    "    \n",
    "Experience_tags=driver.find_elements(By.XPATH,'//div[@class=\" jobCard_jobCard_lists_item__YxRkV jobCard_jobIcon__3FB1t\"]')\n",
    "for i in Experience_tags[0:10]:\n",
    "    experience=i.text\n",
    "    EXPERIENCE_required.append(experience)"
   ]
  },
  {
   "cell_type": "code",
   "execution_count": 90,
   "id": "0a9f9f0f",
   "metadata": {},
   "outputs": [
    {
     "name": "stdout",
     "output_type": "stream",
     "text": [
      "10 10 10 10\n"
     ]
    }
   ],
   "source": [
    "print(len(JOB_title),len(JOB_location),len(COMPANY_name),len(EXPERIENCE_required))"
   ]
  },
  {
   "cell_type": "code",
   "execution_count": 91,
   "id": "e20f602f",
   "metadata": {},
   "outputs": [
    {
     "data": {
      "text/html": [
       "<div>\n",
       "<style scoped>\n",
       "    .dataframe tbody tr th:only-of-type {\n",
       "        vertical-align: middle;\n",
       "    }\n",
       "\n",
       "    .dataframe tbody tr th {\n",
       "        vertical-align: top;\n",
       "    }\n",
       "\n",
       "    .dataframe thead th {\n",
       "        text-align: right;\n",
       "    }\n",
       "</style>\n",
       "<table border=\"1\" class=\"dataframe\">\n",
       "  <thead>\n",
       "    <tr style=\"text-align: right;\">\n",
       "      <th></th>\n",
       "      <th>Title</th>\n",
       "      <th>Location</th>\n",
       "      <th>Company_name</th>\n",
       "      <th>Experience</th>\n",
       "    </tr>\n",
       "  </thead>\n",
       "  <tbody>\n",
       "    <tr>\n",
       "      <th>0</th>\n",
       "      <td>Data Scientist</td>\n",
       "      <td>Delhi\\n+6</td>\n",
       "      <td>quiscon biotech</td>\n",
       "      <td>0 to 3 Yrs</td>\n",
       "    </tr>\n",
       "    <tr>\n",
       "      <th>1</th>\n",
       "      <td>Data Scientist</td>\n",
       "      <td>Delhi</td>\n",
       "      <td>skyleaf consultants</td>\n",
       "      <td>3 to 6 Yrs</td>\n",
       "    </tr>\n",
       "    <tr>\n",
       "      <th>2</th>\n",
       "      <td>Data Scientist</td>\n",
       "      <td>Delhi\\n+6</td>\n",
       "      <td>quiscon biotech</td>\n",
       "      <td>0 to 1 Yr</td>\n",
       "    </tr>\n",
       "    <tr>\n",
       "      <th>3</th>\n",
       "      <td>Data Scientist</td>\n",
       "      <td>Delhi\\n+4</td>\n",
       "      <td>acme services private limited</td>\n",
       "      <td>3 to 5 Yrs</td>\n",
       "    </tr>\n",
       "    <tr>\n",
       "      <th>4</th>\n",
       "      <td>for _GCP Data Engineer/Lead/Architect- Delhi</td>\n",
       "      <td>Delhi</td>\n",
       "      <td>nina s hr consultancy</td>\n",
       "      <td>2 to 3 Yrs</td>\n",
       "    </tr>\n",
       "    <tr>\n",
       "      <th>5</th>\n",
       "      <td>for _GCP Data Engineer/Lead/Architect- Delhi</td>\n",
       "      <td>Delhi</td>\n",
       "      <td>nina s hr consultancy</td>\n",
       "      <td>2 to 3 Yrs</td>\n",
       "    </tr>\n",
       "    <tr>\n",
       "      <th>6</th>\n",
       "      <td>Req. For Data Scientist -Reputed Data Analytic...</td>\n",
       "      <td>Delhi</td>\n",
       "      <td>seven consultancy</td>\n",
       "      <td>2 to 6 Yrs</td>\n",
       "    </tr>\n",
       "    <tr>\n",
       "      <th>7</th>\n",
       "      <td>For Senior Data Scientist-Reputed IT Industry</td>\n",
       "      <td>Delhi</td>\n",
       "      <td>seven consultancy</td>\n",
       "      <td>4 to 8 Yrs</td>\n",
       "    </tr>\n",
       "    <tr>\n",
       "      <th>8</th>\n",
       "      <td>Req. now Data Scientist</td>\n",
       "      <td>Delhi</td>\n",
       "      <td>seven consultancy</td>\n",
       "      <td>3 to 5 Yrs</td>\n",
       "    </tr>\n",
       "    <tr>\n",
       "      <th>9</th>\n",
       "      <td>Data Scientist</td>\n",
       "      <td>Delhi</td>\n",
       "      <td>skyleaf consultants</td>\n",
       "      <td>3 to 6 Yrs</td>\n",
       "    </tr>\n",
       "  </tbody>\n",
       "</table>\n",
       "</div>"
      ],
      "text/plain": [
       "                                               Title   Location  \\\n",
       "0                                     Data Scientist  Delhi\\n+6   \n",
       "1                                     Data Scientist      Delhi   \n",
       "2                                     Data Scientist  Delhi\\n+6   \n",
       "3                                     Data Scientist  Delhi\\n+4   \n",
       "4       for _GCP Data Engineer/Lead/Architect- Delhi      Delhi   \n",
       "5       for _GCP Data Engineer/Lead/Architect- Delhi      Delhi   \n",
       "6  Req. For Data Scientist -Reputed Data Analytic...      Delhi   \n",
       "7      For Senior Data Scientist-Reputed IT Industry      Delhi   \n",
       "8                            Req. now Data Scientist      Delhi   \n",
       "9                                     Data Scientist      Delhi   \n",
       "\n",
       "                    Company_name  Experience  \n",
       "0                quiscon biotech  0 to 3 Yrs  \n",
       "1            skyleaf consultants  3 to 6 Yrs  \n",
       "2                quiscon biotech   0 to 1 Yr  \n",
       "3  acme services private limited  3 to 5 Yrs  \n",
       "4          nina s hr consultancy  2 to 3 Yrs  \n",
       "5          nina s hr consultancy  2 to 3 Yrs  \n",
       "6              seven consultancy  2 to 6 Yrs  \n",
       "7              seven consultancy  4 to 8 Yrs  \n",
       "8              seven consultancy  3 to 5 Yrs  \n",
       "9            skyleaf consultants  3 to 6 Yrs  "
      ]
     },
     "execution_count": 91,
     "metadata": {},
     "output_type": "execute_result"
    }
   ],
   "source": [
    "import pandas as pd\n",
    "df=pd.DataFrame({'Title':JOB_title, 'Location':JOB_location,'Company_name':COMPANY_name,'Experience':EXPERIENCE_required})\n",
    "df"
   ]
  },
  {
   "cell_type": "code",
   "execution_count": 92,
   "id": "517172e0",
   "metadata": {},
   "outputs": [],
   "source": [
    "import selenium                    \n",
    "from selenium import webdriver     \n",
    "import pandas as pd\n",
    "from selenium.webdriver.common.by import By  \n",
    "import warnings                     \n",
    "warnings.filterwarnings(\"ignore\")\n",
    "import time"
   ]
  },
  {
   "cell_type": "code",
   "execution_count": 110,
   "id": "93408e11",
   "metadata": {},
   "outputs": [],
   "source": [
    "#4. \n",
    "driver = webdriver.Chrome()"
   ]
  },
  {
   "cell_type": "code",
   "execution_count": 111,
   "id": "26f0a62f",
   "metadata": {},
   "outputs": [],
   "source": [
    "driver.get(\"https://www.flipkart.com/\")"
   ]
  },
  {
   "cell_type": "code",
   "execution_count": 112,
   "id": "1a302fd1",
   "metadata": {},
   "outputs": [],
   "source": [
    "Product= driver.find_element(By.XPATH,\"/html/body/div[1]/div/div[1]/div/div/div/div/div[1]/div/div[1]/div/div[1]/header/div[1]/div[2]/form/div/div/input\")\n",
    "Product.send_keys('sunglasses')"
   ]
  },
  {
   "cell_type": "code",
   "execution_count": 114,
   "id": "eaf2be90",
   "metadata": {},
   "outputs": [],
   "source": [
    "search= driver.find_element(By.XPATH, \"/html/body/div[1]/div/div[1]/div/div/div/div/div[1]/div/div[1]/div/div[1]/header/div[1]/div[2]/form/div/button\")\n",
    "search.click()"
   ]
  },
  {
   "cell_type": "code",
   "execution_count": 116,
   "id": "80c073a1",
   "metadata": {},
   "outputs": [],
   "source": [
    "BRAND=[]\n",
    "DESCRIPTION=[]\n",
    "PRICE=[]"
   ]
  },
  {
   "cell_type": "code",
   "execution_count": 117,
   "id": "25f988fd",
   "metadata": {},
   "outputs": [],
   "source": [
    "Brand_tags=driver.find_elements(By.XPATH,'//div[@class=\"_2WkVRV\"]')\n",
    "for i in Brand_tags:\n",
    "    brand=i.text\n",
    "    BRAND.append(brand)\n",
    "\n",
    "Description_tags=driver.find_elements(By.XPATH,'//a[@class=\"IRpwTa\"]')\n",
    "for i in Description_tags:\n",
    "    description=i.text\n",
    "    DESCRIPTION.append(description)\n",
    "\n",
    "Description_tags=driver.find_elements(By.XPATH,'//a[@class=\"IRpwTa _2-ICcC\"]')\n",
    "for i in Description_tags:\n",
    "    description=i.text\n",
    "    DESCRIPTION.append(description)\n",
    "    \n",
    "Price_tags=driver.find_elements(By.XPATH,'//div[@class=\"_30jeq3\"]')\n",
    "for i in Price_tags:\n",
    "    price=i.text\n",
    "    PRICE.append(price)"
   ]
  },
  {
   "cell_type": "code",
   "execution_count": 118,
   "id": "a6ae93f4",
   "metadata": {},
   "outputs": [
    {
     "name": "stdout",
     "output_type": "stream",
     "text": [
      "40 40 40\n"
     ]
    }
   ],
   "source": [
    "print(len(BRAND),len(DESCRIPTION),len(PRICE))"
   ]
  },
  {
   "cell_type": "code",
   "execution_count": 119,
   "id": "aa7dcc6c",
   "metadata": {},
   "outputs": [
    {
     "data": {
      "text/html": [
       "<div>\n",
       "<style scoped>\n",
       "    .dataframe tbody tr th:only-of-type {\n",
       "        vertical-align: middle;\n",
       "    }\n",
       "\n",
       "    .dataframe tbody tr th {\n",
       "        vertical-align: top;\n",
       "    }\n",
       "\n",
       "    .dataframe thead th {\n",
       "        text-align: right;\n",
       "    }\n",
       "</style>\n",
       "<table border=\"1\" class=\"dataframe\">\n",
       "  <thead>\n",
       "    <tr style=\"text-align: right;\">\n",
       "      <th></th>\n",
       "      <th>Brand</th>\n",
       "      <th>Product Description</th>\n",
       "      <th>Price</th>\n",
       "    </tr>\n",
       "  </thead>\n",
       "  <tbody>\n",
       "    <tr>\n",
       "      <th>0</th>\n",
       "      <td>VINCENT CHASE</td>\n",
       "      <td>UV Protection, Polarized Over-sized Sunglasses...</td>\n",
       "      <td>₹899</td>\n",
       "    </tr>\n",
       "    <tr>\n",
       "      <th>1</th>\n",
       "      <td>Singco India</td>\n",
       "      <td>Riding Glasses, UV Protection Clubmaster, Wayf...</td>\n",
       "      <td>₹379</td>\n",
       "    </tr>\n",
       "    <tr>\n",
       "      <th>2</th>\n",
       "      <td>SRPM</td>\n",
       "      <td>UV Protection Wayfarer Sunglasses (50)</td>\n",
       "      <td>₹204</td>\n",
       "    </tr>\n",
       "    <tr>\n",
       "      <th>3</th>\n",
       "      <td>PIRASO</td>\n",
       "      <td>UV Protection Clubmaster Sunglasses (54)</td>\n",
       "      <td>₹239</td>\n",
       "    </tr>\n",
       "    <tr>\n",
       "      <th>4</th>\n",
       "      <td>Elligator</td>\n",
       "      <td>UV Protection Cat-eye, Retro Square, Oval, Rou...</td>\n",
       "      <td>₹179</td>\n",
       "    </tr>\n",
       "    <tr>\n",
       "      <th>5</th>\n",
       "      <td>Elligator</td>\n",
       "      <td>UV Protection, Mirrored Wayfarer Sunglasses (54)</td>\n",
       "      <td>₹199</td>\n",
       "    </tr>\n",
       "    <tr>\n",
       "      <th>6</th>\n",
       "      <td>Rich Club</td>\n",
       "      <td>UV Protection Aviator Sunglasses (58)</td>\n",
       "      <td>₹495</td>\n",
       "    </tr>\n",
       "    <tr>\n",
       "      <th>7</th>\n",
       "      <td>GANSTA</td>\n",
       "      <td>UV Protection Rectangular Sunglasses (Free Size)</td>\n",
       "      <td>₹242</td>\n",
       "    </tr>\n",
       "    <tr>\n",
       "      <th>8</th>\n",
       "      <td>Fastrack</td>\n",
       "      <td>UV Protection Wayfarer Sunglasses (58)</td>\n",
       "      <td>₹629</td>\n",
       "    </tr>\n",
       "    <tr>\n",
       "      <th>9</th>\n",
       "      <td>Fastrack</td>\n",
       "      <td>Polarized, UV Protection Round Sunglasses (50)</td>\n",
       "      <td>₹769</td>\n",
       "    </tr>\n",
       "    <tr>\n",
       "      <th>10</th>\n",
       "      <td>VINCENT CHASE</td>\n",
       "      <td>UV Protection, Gradient Rectangular Sunglasses...</td>\n",
       "      <td>₹883</td>\n",
       "    </tr>\n",
       "    <tr>\n",
       "      <th>11</th>\n",
       "      <td>ROZZETTA CRAFT</td>\n",
       "      <td>UV Protection Retro Square Sunglasses (Free Size)</td>\n",
       "      <td>₹335</td>\n",
       "    </tr>\n",
       "    <tr>\n",
       "      <th>12</th>\n",
       "      <td>iCopertina</td>\n",
       "      <td>UV Protection Cat-eye Sunglasses (41)</td>\n",
       "      <td>₹219</td>\n",
       "    </tr>\n",
       "    <tr>\n",
       "      <th>13</th>\n",
       "      <td>VOYAGE</td>\n",
       "      <td>Polarized, UV Protection Retro Square Sunglass...</td>\n",
       "      <td>₹999</td>\n",
       "    </tr>\n",
       "    <tr>\n",
       "      <th>14</th>\n",
       "      <td>BKGE</td>\n",
       "      <td>UV Protection, Gradient Butterfly Sunglasses (62)</td>\n",
       "      <td>₹197</td>\n",
       "    </tr>\n",
       "    <tr>\n",
       "      <th>15</th>\n",
       "      <td>ROYAL SON</td>\n",
       "      <td>Polarized, UV Protection Round Sunglasses (51)</td>\n",
       "      <td>₹594</td>\n",
       "    </tr>\n",
       "    <tr>\n",
       "      <th>16</th>\n",
       "      <td>VINCENT CHASE</td>\n",
       "      <td>UV Protection Rectangular Sunglasses (55)</td>\n",
       "      <td>₹965</td>\n",
       "    </tr>\n",
       "    <tr>\n",
       "      <th>17</th>\n",
       "      <td>Singco India</td>\n",
       "      <td>Night Vision Retro Square Sunglasses (60)</td>\n",
       "      <td>₹502</td>\n",
       "    </tr>\n",
       "    <tr>\n",
       "      <th>18</th>\n",
       "      <td>SmartGlass</td>\n",
       "      <td>Polarized, UV Protection Round Sunglasses (48)</td>\n",
       "      <td>₹429</td>\n",
       "    </tr>\n",
       "    <tr>\n",
       "      <th>19</th>\n",
       "      <td>PIRASO</td>\n",
       "      <td>Polarized, UV Protection Retro Square Sunglass...</td>\n",
       "      <td>₹379</td>\n",
       "    </tr>\n",
       "    <tr>\n",
       "      <th>20</th>\n",
       "      <td>john jacobs</td>\n",
       "      <td>UV Protection Wayfarer, Sports, Spectacle , Re...</td>\n",
       "      <td>₹6,000</td>\n",
       "    </tr>\n",
       "    <tr>\n",
       "      <th>21</th>\n",
       "      <td>ROYAL SON</td>\n",
       "      <td>UV Protection Aviator Sunglasses (58)</td>\n",
       "      <td>₹594</td>\n",
       "    </tr>\n",
       "    <tr>\n",
       "      <th>22</th>\n",
       "      <td>ROADWAY</td>\n",
       "      <td>UV Protection Wayfarer Sunglasses (59)</td>\n",
       "      <td>₹294</td>\n",
       "    </tr>\n",
       "    <tr>\n",
       "      <th>23</th>\n",
       "      <td>Fastrack</td>\n",
       "      <td>Polarized, UV Protection Rectangular Sunglasse...</td>\n",
       "      <td>₹1,037</td>\n",
       "    </tr>\n",
       "    <tr>\n",
       "      <th>24</th>\n",
       "      <td>Elligator</td>\n",
       "      <td>UV Protection Rectangular, Retro Square Sungla...</td>\n",
       "      <td>₹168</td>\n",
       "    </tr>\n",
       "    <tr>\n",
       "      <th>25</th>\n",
       "      <td>VINCENT CHASE</td>\n",
       "      <td>UV Protection Retro Square Sunglasses (54)</td>\n",
       "      <td>₹569</td>\n",
       "    </tr>\n",
       "    <tr>\n",
       "      <th>26</th>\n",
       "      <td>Eyewearlabs</td>\n",
       "      <td>Mirrored Aviator Sunglasses (55)</td>\n",
       "      <td>₹2,199</td>\n",
       "    </tr>\n",
       "    <tr>\n",
       "      <th>27</th>\n",
       "      <td>ROYAL SON</td>\n",
       "      <td>by Lenskart Polarized, UV Protection Round Sun...</td>\n",
       "      <td>₹497</td>\n",
       "    </tr>\n",
       "    <tr>\n",
       "      <th>28</th>\n",
       "      <td>SmartGlass</td>\n",
       "      <td>UV Protection Aviator Sunglasses (62)</td>\n",
       "      <td>₹429</td>\n",
       "    </tr>\n",
       "    <tr>\n",
       "      <th>29</th>\n",
       "      <td>Rich Club</td>\n",
       "      <td>UV Protection Round Sunglasses (Free Size)</td>\n",
       "      <td>₹488</td>\n",
       "    </tr>\n",
       "    <tr>\n",
       "      <th>30</th>\n",
       "      <td>ROYAL SON</td>\n",
       "      <td>UV Protection, Gradient Rectangular Sunglasses...</td>\n",
       "      <td>₹398</td>\n",
       "    </tr>\n",
       "    <tr>\n",
       "      <th>31</th>\n",
       "      <td>VINCENT CHASE</td>\n",
       "      <td>by Lenskart Polarized, UV Protection Cat-eye S...</td>\n",
       "      <td>₹883</td>\n",
       "    </tr>\n",
       "    <tr>\n",
       "      <th>32</th>\n",
       "      <td>ROZZETTA CRAFT</td>\n",
       "      <td>UV Protection Retro Square Sunglasses (51)</td>\n",
       "      <td>₹649</td>\n",
       "    </tr>\n",
       "    <tr>\n",
       "      <th>33</th>\n",
       "      <td>PROVOGUE</td>\n",
       "      <td>Polarized, Riding Glasses Sports, Wrap-around ...</td>\n",
       "      <td>₹664</td>\n",
       "    </tr>\n",
       "    <tr>\n",
       "      <th>34</th>\n",
       "      <td>SmartGlass</td>\n",
       "      <td>Polarized, UV Protection Wayfarer Sunglasses (61)</td>\n",
       "      <td>₹429</td>\n",
       "    </tr>\n",
       "    <tr>\n",
       "      <th>35</th>\n",
       "      <td>ROZZETTA CRAFT</td>\n",
       "      <td>UV Protection Retro Square Sunglasses (54)</td>\n",
       "      <td>₹299</td>\n",
       "    </tr>\n",
       "    <tr>\n",
       "      <th>36</th>\n",
       "      <td>VINCENT CHASE</td>\n",
       "      <td>UV Protection Aviator Sunglasses (Free Size)</td>\n",
       "      <td>₹883</td>\n",
       "    </tr>\n",
       "    <tr>\n",
       "      <th>37</th>\n",
       "      <td>john jacobs</td>\n",
       "      <td>UV Protection Aviator, Wayfarer Sunglasses (54)</td>\n",
       "      <td>₹3,134</td>\n",
       "    </tr>\n",
       "    <tr>\n",
       "      <th>38</th>\n",
       "      <td>ROZZETTA CRAFT</td>\n",
       "      <td>UV Protection Aviator Sunglasses (Free Size)</td>\n",
       "      <td>₹497</td>\n",
       "    </tr>\n",
       "    <tr>\n",
       "      <th>39</th>\n",
       "      <td>ROYAL SON</td>\n",
       "      <td>UV Protection Aviator Sunglasses (Free Size)</td>\n",
       "      <td>₹559</td>\n",
       "    </tr>\n",
       "  </tbody>\n",
       "</table>\n",
       "</div>"
      ],
      "text/plain": [
       "             Brand                                Product Description   Price\n",
       "0    VINCENT CHASE  UV Protection, Polarized Over-sized Sunglasses...    ₹899\n",
       "1     Singco India  Riding Glasses, UV Protection Clubmaster, Wayf...    ₹379\n",
       "2             SRPM             UV Protection Wayfarer Sunglasses (50)    ₹204\n",
       "3           PIRASO           UV Protection Clubmaster Sunglasses (54)    ₹239\n",
       "4        Elligator  UV Protection Cat-eye, Retro Square, Oval, Rou...    ₹179\n",
       "5        Elligator   UV Protection, Mirrored Wayfarer Sunglasses (54)    ₹199\n",
       "6        Rich Club              UV Protection Aviator Sunglasses (58)    ₹495\n",
       "7           GANSTA   UV Protection Rectangular Sunglasses (Free Size)    ₹242\n",
       "8         Fastrack             UV Protection Wayfarer Sunglasses (58)    ₹629\n",
       "9         Fastrack     Polarized, UV Protection Round Sunglasses (50)    ₹769\n",
       "10   VINCENT CHASE  UV Protection, Gradient Rectangular Sunglasses...    ₹883\n",
       "11  ROZZETTA CRAFT  UV Protection Retro Square Sunglasses (Free Size)    ₹335\n",
       "12      iCopertina              UV Protection Cat-eye Sunglasses (41)    ₹219\n",
       "13          VOYAGE  Polarized, UV Protection Retro Square Sunglass...    ₹999\n",
       "14            BKGE  UV Protection, Gradient Butterfly Sunglasses (62)    ₹197\n",
       "15       ROYAL SON     Polarized, UV Protection Round Sunglasses (51)    ₹594\n",
       "16   VINCENT CHASE          UV Protection Rectangular Sunglasses (55)    ₹965\n",
       "17    Singco India          Night Vision Retro Square Sunglasses (60)    ₹502\n",
       "18      SmartGlass     Polarized, UV Protection Round Sunglasses (48)    ₹429\n",
       "19          PIRASO  Polarized, UV Protection Retro Square Sunglass...    ₹379\n",
       "20     john jacobs  UV Protection Wayfarer, Sports, Spectacle , Re...  ₹6,000\n",
       "21       ROYAL SON              UV Protection Aviator Sunglasses (58)    ₹594\n",
       "22         ROADWAY             UV Protection Wayfarer Sunglasses (59)    ₹294\n",
       "23        Fastrack  Polarized, UV Protection Rectangular Sunglasse...  ₹1,037\n",
       "24       Elligator  UV Protection Rectangular, Retro Square Sungla...    ₹168\n",
       "25   VINCENT CHASE         UV Protection Retro Square Sunglasses (54)    ₹569\n",
       "26     Eyewearlabs                   Mirrored Aviator Sunglasses (55)  ₹2,199\n",
       "27       ROYAL SON  by Lenskart Polarized, UV Protection Round Sun...    ₹497\n",
       "28      SmartGlass              UV Protection Aviator Sunglasses (62)    ₹429\n",
       "29       Rich Club         UV Protection Round Sunglasses (Free Size)    ₹488\n",
       "30       ROYAL SON  UV Protection, Gradient Rectangular Sunglasses...    ₹398\n",
       "31   VINCENT CHASE  by Lenskart Polarized, UV Protection Cat-eye S...    ₹883\n",
       "32  ROZZETTA CRAFT         UV Protection Retro Square Sunglasses (51)    ₹649\n",
       "33        PROVOGUE  Polarized, Riding Glasses Sports, Wrap-around ...    ₹664\n",
       "34      SmartGlass  Polarized, UV Protection Wayfarer Sunglasses (61)    ₹429\n",
       "35  ROZZETTA CRAFT         UV Protection Retro Square Sunglasses (54)    ₹299\n",
       "36   VINCENT CHASE       UV Protection Aviator Sunglasses (Free Size)    ₹883\n",
       "37     john jacobs    UV Protection Aviator, Wayfarer Sunglasses (54)  ₹3,134\n",
       "38  ROZZETTA CRAFT       UV Protection Aviator Sunglasses (Free Size)    ₹497\n",
       "39       ROYAL SON       UV Protection Aviator Sunglasses (Free Size)    ₹559"
      ]
     },
     "execution_count": 119,
     "metadata": {},
     "output_type": "execute_result"
    }
   ],
   "source": [
    "import pandas as pd\n",
    "df=pd.DataFrame({'Brand':BRAND, 'Product Description':DESCRIPTION,'Price':PRICE})\n",
    "df"
   ]
  },
  {
   "cell_type": "code",
   "execution_count": 120,
   "id": "2e180442",
   "metadata": {},
   "outputs": [],
   "source": [
    "BRAND=[]\n",
    "start=0\n",
    "end=3\n",
    "for page in range(start,end):\n",
    "    Brand=driver.find_elements(By.XPATH,'//div[@class=\"_2WkVRV\"]')\n",
    "    for i in Brand:\n",
    "        BRAND.append(i.text)\n",
    "    next_button= driver.find_element(By.XPATH, '//a[@class=\"_1LKTO3\"]')\n",
    "    next_button.click()\n",
    "    time.sleep(4)"
   ]
  },
  {
   "cell_type": "code",
   "execution_count": 121,
   "id": "74185196",
   "metadata": {},
   "outputs": [
    {
     "data": {
      "text/plain": [
       "120"
      ]
     },
     "execution_count": 121,
     "metadata": {},
     "output_type": "execute_result"
    }
   ],
   "source": [
    "len(BRAND)"
   ]
  },
  {
   "cell_type": "code",
   "execution_count": 123,
   "id": "4e99b97a",
   "metadata": {},
   "outputs": [],
   "source": [
    "DESCRIPTION=[]\n",
    "start=0\n",
    "end=3\n",
    "for page in range(start,end):\n",
    "    Product_Description=driver.find_elements(By.CLASS_NAME,'IRpwTa')\n",
    "    for i in Product_Description:\n",
    "        DESCRIPTION.append(i.text)\n",
    "    next_button= driver.find_element(By.XPATH, '//a[@class=\"_1LKTO3\"]')\n",
    "    next_button.click()\n",
    "    time.sleep(4)"
   ]
  },
  {
   "cell_type": "code",
   "execution_count": 124,
   "id": "69155bc3",
   "metadata": {},
   "outputs": [
    {
     "data": {
      "text/plain": [
       "120"
      ]
     },
     "execution_count": 124,
     "metadata": {},
     "output_type": "execute_result"
    }
   ],
   "source": [
    "len(DESCRIPTION)"
   ]
  },
  {
   "cell_type": "code",
   "execution_count": 125,
   "id": "facccdc1",
   "metadata": {},
   "outputs": [],
   "source": [
    "PRICE=[]\n",
    "start=0\n",
    "end=3\n",
    "for page in range(start,end):\n",
    "    Price=driver.find_elements(By.XPATH,'//div[@class=\"_30jeq3\"]')\n",
    "    for i in Price:\n",
    "        PRICE.append(i.text)\n",
    "    next_button= driver.find_element(By.XPATH, '//a[@class=\"_1LKTO3\"]')\n",
    "    next_button.click()\n",
    "    time.sleep(4)"
   ]
  },
  {
   "cell_type": "code",
   "execution_count": 126,
   "id": "9840eaab",
   "metadata": {},
   "outputs": [
    {
     "data": {
      "text/plain": [
       "120"
      ]
     },
     "execution_count": 126,
     "metadata": {},
     "output_type": "execute_result"
    }
   ],
   "source": [
    "len(PRICE)"
   ]
  },
  {
   "cell_type": "code",
   "execution_count": 128,
   "id": "af8fd22e",
   "metadata": {},
   "outputs": [
    {
     "data": {
      "text/html": [
       "<div>\n",
       "<style scoped>\n",
       "    .dataframe tbody tr th:only-of-type {\n",
       "        vertical-align: middle;\n",
       "    }\n",
       "\n",
       "    .dataframe tbody tr th {\n",
       "        vertical-align: top;\n",
       "    }\n",
       "\n",
       "    .dataframe thead th {\n",
       "        text-align: right;\n",
       "    }\n",
       "</style>\n",
       "<table border=\"1\" class=\"dataframe\">\n",
       "  <thead>\n",
       "    <tr style=\"text-align: right;\">\n",
       "      <th></th>\n",
       "      <th>Brand</th>\n",
       "      <th>Product Description</th>\n",
       "      <th>Price</th>\n",
       "    </tr>\n",
       "  </thead>\n",
       "  <tbody>\n",
       "    <tr>\n",
       "      <th>0</th>\n",
       "      <td>VINCENT CHASE</td>\n",
       "      <td>UV Protection, Polarized Over-sized Sunglasses...</td>\n",
       "      <td>₹899</td>\n",
       "    </tr>\n",
       "    <tr>\n",
       "      <th>1</th>\n",
       "      <td>Singco India</td>\n",
       "      <td>Riding Glasses, UV Protection Clubmaster, Wayf...</td>\n",
       "      <td>₹379</td>\n",
       "    </tr>\n",
       "    <tr>\n",
       "      <th>2</th>\n",
       "      <td>SRPM</td>\n",
       "      <td>Night Vision, UV Protection, Polarized Wrap-ar...</td>\n",
       "      <td>₹204</td>\n",
       "    </tr>\n",
       "    <tr>\n",
       "      <th>3</th>\n",
       "      <td>PIRASO</td>\n",
       "      <td>UV Protection Sunglass</td>\n",
       "      <td>₹239</td>\n",
       "    </tr>\n",
       "    <tr>\n",
       "      <th>4</th>\n",
       "      <td>Elligator</td>\n",
       "      <td>UV Protection, Gradient Rectangular Sunglasses...</td>\n",
       "      <td>₹179</td>\n",
       "    </tr>\n",
       "    <tr>\n",
       "      <th>...</th>\n",
       "      <td>...</td>\n",
       "      <td>...</td>\n",
       "      <td>...</td>\n",
       "    </tr>\n",
       "    <tr>\n",
       "      <th>95</th>\n",
       "      <td>ROYAL SON</td>\n",
       "      <td>by Lenskart Polarized, UV Protection Aviator S...</td>\n",
       "      <td>₹594</td>\n",
       "    </tr>\n",
       "    <tr>\n",
       "      <th>96</th>\n",
       "      <td>VINCENT CHASE</td>\n",
       "      <td>UV Protection Wayfarer Sunglasses (62)</td>\n",
       "      <td>₹502</td>\n",
       "    </tr>\n",
       "    <tr>\n",
       "      <th>97</th>\n",
       "      <td>ROYAL SON</td>\n",
       "      <td>UV Protection, Mirrored Clubmaster Sunglasses ...</td>\n",
       "      <td>₹2,199</td>\n",
       "    </tr>\n",
       "    <tr>\n",
       "      <th>98</th>\n",
       "      <td>SmartGlass</td>\n",
       "      <td>UV Protection Wayfarer Sunglasses (53)</td>\n",
       "      <td>₹429</td>\n",
       "    </tr>\n",
       "    <tr>\n",
       "      <th>99</th>\n",
       "      <td>ROADWAY</td>\n",
       "      <td>UV Protection Wayfarer Sunglasses (50)</td>\n",
       "      <td>₹294</td>\n",
       "    </tr>\n",
       "  </tbody>\n",
       "</table>\n",
       "<p>100 rows × 3 columns</p>\n",
       "</div>"
      ],
      "text/plain": [
       "            Brand                                Product Description   Price\n",
       "0   VINCENT CHASE  UV Protection, Polarized Over-sized Sunglasses...    ₹899\n",
       "1    Singco India  Riding Glasses, UV Protection Clubmaster, Wayf...    ₹379\n",
       "2            SRPM  Night Vision, UV Protection, Polarized Wrap-ar...    ₹204\n",
       "3          PIRASO                             UV Protection Sunglass    ₹239\n",
       "4       Elligator  UV Protection, Gradient Rectangular Sunglasses...    ₹179\n",
       "..            ...                                                ...     ...\n",
       "95      ROYAL SON  by Lenskart Polarized, UV Protection Aviator S...    ₹594\n",
       "96  VINCENT CHASE             UV Protection Wayfarer Sunglasses (62)    ₹502\n",
       "97      ROYAL SON  UV Protection, Mirrored Clubmaster Sunglasses ...  ₹2,199\n",
       "98     SmartGlass             UV Protection Wayfarer Sunglasses (53)    ₹429\n",
       "99        ROADWAY             UV Protection Wayfarer Sunglasses (50)    ₹294\n",
       "\n",
       "[100 rows x 3 columns]"
      ]
     },
     "execution_count": 128,
     "metadata": {},
     "output_type": "execute_result"
    }
   ],
   "source": [
    "import pandas as pd\n",
    "df=pd.DataFrame({'Brand':BRAND, 'Product Description':DESCRIPTION,'Price':PRICE})\n",
    "df[0:100]"
   ]
  },
  {
   "cell_type": "code",
   "execution_count": 129,
   "id": "9072aa27",
   "metadata": {},
   "outputs": [],
   "source": [
    "#5. \n",
    "\n",
    "driver = webdriver.Chrome()"
   ]
  },
  {
   "cell_type": "code",
   "execution_count": 130,
   "id": "1ed8333d",
   "metadata": {},
   "outputs": [],
   "source": [
    "driver.get(\"https://www.flipkart.com/apple-iphone-11-black-64-gb/product-reviews/itm4e5041ba101fd?pid=MOBFWQ6BXGJCEYNY&lid=LSTMOBFWQ6BXGJCEYNYZXSHRJ&market\")"
   ]
  },
  {
   "cell_type": "code",
   "execution_count": 132,
   "id": "530cb7bd",
   "metadata": {},
   "outputs": [],
   "source": [
    "Ratings=[]\n",
    "Review_Summary=[]\n",
    "Full_Review=[]"
   ]
  },
  {
   "cell_type": "code",
   "execution_count": 133,
   "id": "83a839fe",
   "metadata": {},
   "outputs": [],
   "source": [
    "Rating_tags=driver.find_elements(By.XPATH,'//div[@class=\"_3LWZlK _1BLPMq\"]')\n",
    "for i in Rating_tags[0:10]:\n",
    "    RATINGS=i.text\n",
    "    Ratings.append(RATINGS)\n",
    "    \n",
    "Review_tags=driver.find_elements(By.XPATH,'//p[@class=\"_2-N8zT\"]')\n",
    "for i in Review_tags[0:10]:\n",
    "    REVIEW=i.text\n",
    "    Review_Summary.append(REVIEW)\n",
    "    \n",
    "Fullreview_tags=driver.find_elements(By.XPATH,'//div[@class=\"t-ZTKy\"]')\n",
    "for i in Fullreview_tags[0:10]:\n",
    "    FULLREVIEW=i.text\n",
    "    Full_Review.append(FULLREVIEW)"
   ]
  },
  {
   "cell_type": "code",
   "execution_count": 134,
   "id": "f2b6d614",
   "metadata": {},
   "outputs": [
    {
     "data": {
      "text/html": [
       "<div>\n",
       "<style scoped>\n",
       "    .dataframe tbody tr th:only-of-type {\n",
       "        vertical-align: middle;\n",
       "    }\n",
       "\n",
       "    .dataframe tbody tr th {\n",
       "        vertical-align: top;\n",
       "    }\n",
       "\n",
       "    .dataframe thead th {\n",
       "        text-align: right;\n",
       "    }\n",
       "</style>\n",
       "<table border=\"1\" class=\"dataframe\">\n",
       "  <thead>\n",
       "    <tr style=\"text-align: right;\">\n",
       "      <th></th>\n",
       "      <th>RATINGS</th>\n",
       "      <th>REVIEW SUMMARY</th>\n",
       "      <th>FULL REVIEW</th>\n",
       "    </tr>\n",
       "  </thead>\n",
       "  <tbody>\n",
       "    <tr>\n",
       "      <th>0</th>\n",
       "      <td>5</td>\n",
       "      <td>Classy product</td>\n",
       "      <td>Photos super</td>\n",
       "    </tr>\n",
       "    <tr>\n",
       "      <th>1</th>\n",
       "      <td>5</td>\n",
       "      <td>Classy product</td>\n",
       "      <td>Camera is awesome\\nBest battery backup\\nA perf...</td>\n",
       "    </tr>\n",
       "    <tr>\n",
       "      <th>2</th>\n",
       "      <td>5</td>\n",
       "      <td>Terrific</td>\n",
       "      <td>Very very good</td>\n",
       "    </tr>\n",
       "    <tr>\n",
       "      <th>3</th>\n",
       "      <td>5</td>\n",
       "      <td>Wonderful</td>\n",
       "      <td>This is amazing at all</td>\n",
       "    </tr>\n",
       "    <tr>\n",
       "      <th>4</th>\n",
       "      <td>5</td>\n",
       "      <td>Perfect product!</td>\n",
       "      <td>V Good all</td>\n",
       "    </tr>\n",
       "    <tr>\n",
       "      <th>5</th>\n",
       "      <td>5</td>\n",
       "      <td>Worth every penny</td>\n",
       "      <td>Feeling awesome after getting the delivery of ...</td>\n",
       "    </tr>\n",
       "    <tr>\n",
       "      <th>6</th>\n",
       "      <td>5</td>\n",
       "      <td>Best in the market!</td>\n",
       "      <td>Good Camera</td>\n",
       "    </tr>\n",
       "    <tr>\n",
       "      <th>7</th>\n",
       "      <td>5</td>\n",
       "      <td>Just wow!</td>\n",
       "      <td>Perfect Product!!</td>\n",
       "    </tr>\n",
       "    <tr>\n",
       "      <th>8</th>\n",
       "      <td>5</td>\n",
       "      <td>Fabulous!</td>\n",
       "      <td>Super🔥 and good performance 👌❤️</td>\n",
       "    </tr>\n",
       "    <tr>\n",
       "      <th>9</th>\n",
       "      <td>5</td>\n",
       "      <td>Great product</td>\n",
       "      <td>Purple is best</td>\n",
       "    </tr>\n",
       "  </tbody>\n",
       "</table>\n",
       "</div>"
      ],
      "text/plain": [
       "  RATINGS       REVIEW SUMMARY  \\\n",
       "0       5       Classy product   \n",
       "1       5       Classy product   \n",
       "2       5             Terrific   \n",
       "3       5            Wonderful   \n",
       "4       5     Perfect product!   \n",
       "5       5    Worth every penny   \n",
       "6       5  Best in the market!   \n",
       "7       5            Just wow!   \n",
       "8       5            Fabulous!   \n",
       "9       5        Great product   \n",
       "\n",
       "                                         FULL REVIEW  \n",
       "0                                       Photos super  \n",
       "1  Camera is awesome\\nBest battery backup\\nA perf...  \n",
       "2                                     Very very good  \n",
       "3                             This is amazing at all  \n",
       "4                                         V Good all  \n",
       "5  Feeling awesome after getting the delivery of ...  \n",
       "6                                        Good Camera  \n",
       "7                                  Perfect Product!!  \n",
       "8                    Super🔥 and good performance 👌❤️  \n",
       "9                                     Purple is best  "
      ]
     },
     "execution_count": 134,
     "metadata": {},
     "output_type": "execute_result"
    }
   ],
   "source": [
    "import pandas as pd\n",
    "df=pd.DataFrame({'RATINGS':Ratings, 'REVIEW SUMMARY':Review_Summary,'FULL REVIEW':Full_Review})\n",
    "df"
   ]
  },
  {
   "cell_type": "code",
   "execution_count": 135,
   "id": "c93a5df1",
   "metadata": {},
   "outputs": [],
   "source": [
    "Ratings=[]\n",
    "start=0\n",
    "end=10\n",
    "for page in range(start,end):\n",
    "    RATINGS=driver.find_elements(By.XPATH,'//div[@class=\"_3LWZlK _1BLPMq\"]')\n",
    "    for i in RATINGS:\n",
    "        Ratings.append(i.text)\n",
    "    next_button= driver.find_element(By.XPATH, '//a[@class=\"_1LKTO3\"]')\n",
    "    next_button.click()\n",
    "    time.sleep(11)"
   ]
  },
  {
   "cell_type": "code",
   "execution_count": 136,
   "id": "2da0ca6f",
   "metadata": {},
   "outputs": [
    {
     "data": {
      "text/plain": [
       "100"
      ]
     },
     "execution_count": 136,
     "metadata": {},
     "output_type": "execute_result"
    }
   ],
   "source": [
    "len(Ratings)"
   ]
  },
  {
   "cell_type": "code",
   "execution_count": 137,
   "id": "ab0de994",
   "metadata": {},
   "outputs": [],
   "source": [
    "Review_Summary=[]\n",
    "start=0\n",
    "end=10\n",
    "for page in range(start,end):\n",
    "    REVIEW_SUMMARY=driver.find_elements(By.XPATH,'//p[@class=\"_2-N8zT\"]')\n",
    "    for i in REVIEW_SUMMARY:\n",
    "        Review_Summary.append(i.text)\n",
    "    next_button= driver.find_element(By.XPATH, '//a[@class=\"_1LKTO3\"]')\n",
    "    next_button.click()\n",
    "    time.sleep(11)"
   ]
  },
  {
   "cell_type": "code",
   "execution_count": 138,
   "id": "1448ee5c",
   "metadata": {},
   "outputs": [
    {
     "data": {
      "text/plain": [
       "100"
      ]
     },
     "execution_count": 138,
     "metadata": {},
     "output_type": "execute_result"
    }
   ],
   "source": [
    "len(Review_Summary)"
   ]
  },
  {
   "cell_type": "code",
   "execution_count": 139,
   "id": "3eff0474",
   "metadata": {},
   "outputs": [],
   "source": [
    "Full_Review=[]\n",
    "start=0\n",
    "end=10\n",
    "for page in range(start,end):\n",
    "    FULL_REVIEW=driver.find_elements(By.XPATH,'//div[@class=\"t-ZTKy\"]')\n",
    "    for i in FULL_REVIEW:\n",
    "        Full_Review.append(i.text)\n",
    "    next_button= driver.find_element(By.XPATH, '//a[@class=\"_1LKTO3\"]')\n",
    "    next_button.click()\n",
    "    time.sleep(11)"
   ]
  },
  {
   "cell_type": "code",
   "execution_count": 140,
   "id": "5210cf45",
   "metadata": {},
   "outputs": [
    {
     "data": {
      "text/plain": [
       "100"
      ]
     },
     "execution_count": 140,
     "metadata": {},
     "output_type": "execute_result"
    }
   ],
   "source": [
    "len(Full_Review)"
   ]
  },
  {
   "cell_type": "code",
   "execution_count": 141,
   "id": "90fd0898",
   "metadata": {},
   "outputs": [
    {
     "data": {
      "text/html": [
       "<div>\n",
       "<style scoped>\n",
       "    .dataframe tbody tr th:only-of-type {\n",
       "        vertical-align: middle;\n",
       "    }\n",
       "\n",
       "    .dataframe tbody tr th {\n",
       "        vertical-align: top;\n",
       "    }\n",
       "\n",
       "    .dataframe thead th {\n",
       "        text-align: right;\n",
       "    }\n",
       "</style>\n",
       "<table border=\"1\" class=\"dataframe\">\n",
       "  <thead>\n",
       "    <tr style=\"text-align: right;\">\n",
       "      <th></th>\n",
       "      <th>RATINGS</th>\n",
       "      <th>REVIEW SUMMARY</th>\n",
       "      <th>FULL REVIEW</th>\n",
       "    </tr>\n",
       "  </thead>\n",
       "  <tbody>\n",
       "    <tr>\n",
       "      <th>0</th>\n",
       "      <td>5</td>\n",
       "      <td>Classy product</td>\n",
       "      <td>Photos super</td>\n",
       "    </tr>\n",
       "    <tr>\n",
       "      <th>1</th>\n",
       "      <td>5</td>\n",
       "      <td>Classy product</td>\n",
       "      <td>Camera is awesome\\nBest battery backup\\nA perf...</td>\n",
       "    </tr>\n",
       "    <tr>\n",
       "      <th>2</th>\n",
       "      <td>5</td>\n",
       "      <td>Terrific</td>\n",
       "      <td>Very very good</td>\n",
       "    </tr>\n",
       "    <tr>\n",
       "      <th>3</th>\n",
       "      <td>5</td>\n",
       "      <td>Wonderful</td>\n",
       "      <td>This is amazing at all</td>\n",
       "    </tr>\n",
       "    <tr>\n",
       "      <th>4</th>\n",
       "      <td>5</td>\n",
       "      <td>Perfect product!</td>\n",
       "      <td>V Good all</td>\n",
       "    </tr>\n",
       "    <tr>\n",
       "      <th>...</th>\n",
       "      <td>...</td>\n",
       "      <td>...</td>\n",
       "      <td>...</td>\n",
       "    </tr>\n",
       "    <tr>\n",
       "      <th>95</th>\n",
       "      <td>5</td>\n",
       "      <td>Brilliant</td>\n",
       "      <td>very good camera quality</td>\n",
       "    </tr>\n",
       "    <tr>\n",
       "      <th>96</th>\n",
       "      <td>5</td>\n",
       "      <td>Fabulous!</td>\n",
       "      <td>It’s very good battery life and display and vi...</td>\n",
       "    </tr>\n",
       "    <tr>\n",
       "      <th>97</th>\n",
       "      <td>5</td>\n",
       "      <td>Excellent</td>\n",
       "      <td>NYC</td>\n",
       "    </tr>\n",
       "    <tr>\n",
       "      <th>98</th>\n",
       "      <td>5</td>\n",
       "      <td>Best in the market!</td>\n",
       "      <td>Damn this phone is a blast . Upgraded from and...</td>\n",
       "    </tr>\n",
       "    <tr>\n",
       "      <th>99</th>\n",
       "      <td>5</td>\n",
       "      <td>Awesome</td>\n",
       "      <td>iPhone 11 is a good phone. Not a very big diff...</td>\n",
       "    </tr>\n",
       "  </tbody>\n",
       "</table>\n",
       "<p>100 rows × 3 columns</p>\n",
       "</div>"
      ],
      "text/plain": [
       "   RATINGS       REVIEW SUMMARY  \\\n",
       "0        5       Classy product   \n",
       "1        5       Classy product   \n",
       "2        5             Terrific   \n",
       "3        5            Wonderful   \n",
       "4        5     Perfect product!   \n",
       "..     ...                  ...   \n",
       "95       5            Brilliant   \n",
       "96       5            Fabulous!   \n",
       "97       5            Excellent   \n",
       "98       5  Best in the market!   \n",
       "99       5              Awesome   \n",
       "\n",
       "                                          FULL REVIEW  \n",
       "0                                        Photos super  \n",
       "1   Camera is awesome\\nBest battery backup\\nA perf...  \n",
       "2                                      Very very good  \n",
       "3                              This is amazing at all  \n",
       "4                                          V Good all  \n",
       "..                                                ...  \n",
       "95                           very good camera quality  \n",
       "96  It’s very good battery life and display and vi...  \n",
       "97                                                NYC  \n",
       "98  Damn this phone is a blast . Upgraded from and...  \n",
       "99  iPhone 11 is a good phone. Not a very big diff...  \n",
       "\n",
       "[100 rows x 3 columns]"
      ]
     },
     "execution_count": 141,
     "metadata": {},
     "output_type": "execute_result"
    }
   ],
   "source": [
    "import pandas as pd\n",
    "df=pd.DataFrame({'RATINGS':Ratings, 'REVIEW SUMMARY':Review_Summary,'FULL REVIEW':Full_Review})\n",
    "df"
   ]
  },
  {
   "cell_type": "code",
   "execution_count": 142,
   "id": "df839622",
   "metadata": {},
   "outputs": [],
   "source": [
    "#6.\n",
    "driver = webdriver.Chrome()"
   ]
  },
  {
   "cell_type": "code",
   "execution_count": 143,
   "id": "93413c25",
   "metadata": {},
   "outputs": [],
   "source": [
    "driver.get(\"https://www.flipkart.com/\")"
   ]
  },
  {
   "cell_type": "code",
   "execution_count": 144,
   "id": "82e1f7cb",
   "metadata": {},
   "outputs": [],
   "source": [
    "Product= driver.find_element(By.XPATH,\"/html/body/div[1]/div/div[1]/div[1]/div[2]/div[2]/form/div/div/input\")\n",
    "Product.send_keys('sneakers')"
   ]
  },
  {
   "cell_type": "code",
   "execution_count": 147,
   "id": "d628beac",
   "metadata": {},
   "outputs": [],
   "source": [
    "search= driver.find_element(By.XPATH, \"/html/body/div[1]/div/div[1]/div[1]/div[2]/div[2]/form/div/button\")\n",
    "search.click()"
   ]
  },
  {
   "cell_type": "code",
   "execution_count": 148,
   "id": "e0c37654",
   "metadata": {},
   "outputs": [],
   "source": [
    "BRAND=[]\n",
    "DESCRIPTION=[]\n",
    "PRICE=[]"
   ]
  },
  {
   "cell_type": "code",
   "execution_count": 149,
   "id": "c30b2ad5",
   "metadata": {},
   "outputs": [],
   "source": [
    "Brand_tags=driver.find_elements(By.XPATH,'//div[@class=\"_2WkVRV\"]')\n",
    "for i in Brand_tags:\n",
    "    brand=i.text\n",
    "    BRAND.append(brand)\n",
    "\n",
    "Description_tags=driver.find_elements(By.XPATH,'//a[@class=\"IRpwTa\"]')\n",
    "for i in Description_tags:\n",
    "    description=i.text\n",
    "    DESCRIPTION.append(description)\n",
    "    \n",
    "Description_tags=driver.find_elements(By.XPATH,'//a[@class=\"IRpwTa _2-ICcC\"]')\n",
    "for i in Description_tags:\n",
    "    description=i.text\n",
    "    DESCRIPTION.append(description)\n",
    "    \n",
    "Price_tags=driver.find_elements(By.XPATH,'//div[@class=\"_30jeq3\"]')\n",
    "for i in Price_tags:\n",
    "    price=i.text\n",
    "    PRICE.append(price)"
   ]
  },
  {
   "cell_type": "code",
   "execution_count": 150,
   "id": "09fd5541",
   "metadata": {},
   "outputs": [
    {
     "name": "stdout",
     "output_type": "stream",
     "text": [
      "40 40 40\n"
     ]
    }
   ],
   "source": [
    "print(len(BRAND),len(DESCRIPTION),len(PRICE))"
   ]
  },
  {
   "cell_type": "code",
   "execution_count": 151,
   "id": "289eca72",
   "metadata": {},
   "outputs": [
    {
     "data": {
      "text/html": [
       "<div>\n",
       "<style scoped>\n",
       "    .dataframe tbody tr th:only-of-type {\n",
       "        vertical-align: middle;\n",
       "    }\n",
       "\n",
       "    .dataframe tbody tr th {\n",
       "        vertical-align: top;\n",
       "    }\n",
       "\n",
       "    .dataframe thead th {\n",
       "        text-align: right;\n",
       "    }\n",
       "</style>\n",
       "<table border=\"1\" class=\"dataframe\">\n",
       "  <thead>\n",
       "    <tr style=\"text-align: right;\">\n",
       "      <th></th>\n",
       "      <th>Brand</th>\n",
       "      <th>Product Description</th>\n",
       "      <th>Price</th>\n",
       "    </tr>\n",
       "  </thead>\n",
       "  <tbody>\n",
       "    <tr>\n",
       "      <th>0</th>\n",
       "      <td>Magnolia</td>\n",
       "      <td>Modern Trendy Sneakers boot Sneakers Sneakers ...</td>\n",
       "      <td>₹449</td>\n",
       "    </tr>\n",
       "    <tr>\n",
       "      <th>1</th>\n",
       "      <td>SFR</td>\n",
       "      <td>Exclusive Affordable Collection of Trendy &amp; St...</td>\n",
       "      <td>₹349</td>\n",
       "    </tr>\n",
       "    <tr>\n",
       "      <th>2</th>\n",
       "      <td>BRUTON</td>\n",
       "      <td>Modern Trendy Shoes Sneakers For Men</td>\n",
       "      <td>₹379</td>\n",
       "    </tr>\n",
       "    <tr>\n",
       "      <th>3</th>\n",
       "      <td>Nobelite</td>\n",
       "      <td>Sneakers For Men</td>\n",
       "      <td>₹299</td>\n",
       "    </tr>\n",
       "    <tr>\n",
       "      <th>4</th>\n",
       "      <td>aadi</td>\n",
       "      <td>Synthetic Leather |Lightweight|Comfort|Summer|...</td>\n",
       "      <td>₹398</td>\n",
       "    </tr>\n",
       "    <tr>\n",
       "      <th>5</th>\n",
       "      <td>PUMA</td>\n",
       "      <td>Puma Rebound LayUp SL Sneakers For Men</td>\n",
       "      <td>₹1,930</td>\n",
       "    </tr>\n",
       "    <tr>\n",
       "      <th>6</th>\n",
       "      <td>Schuster</td>\n",
       "      <td>Sneakers For Men</td>\n",
       "      <td>₹549</td>\n",
       "    </tr>\n",
       "    <tr>\n",
       "      <th>7</th>\n",
       "      <td>ATOM</td>\n",
       "      <td>UP Sneakers For Men</td>\n",
       "      <td>₹1,485</td>\n",
       "    </tr>\n",
       "    <tr>\n",
       "      <th>8</th>\n",
       "      <td>PUMA</td>\n",
       "      <td>Buzz Sneakers For Men</td>\n",
       "      <td>₹1,508</td>\n",
       "    </tr>\n",
       "    <tr>\n",
       "      <th>9</th>\n",
       "      <td>PUMA</td>\n",
       "      <td>Sneakers For Men</td>\n",
       "      <td>₹3,599</td>\n",
       "    </tr>\n",
       "    <tr>\n",
       "      <th>10</th>\n",
       "      <td>RapidBox</td>\n",
       "      <td>Exclusive Affordable Collection of Trendy &amp; St...</td>\n",
       "      <td>₹750</td>\n",
       "    </tr>\n",
       "    <tr>\n",
       "      <th>11</th>\n",
       "      <td>SFR</td>\n",
       "      <td>Rebound LayUp SL Sneakers For Men</td>\n",
       "      <td>₹349</td>\n",
       "    </tr>\n",
       "    <tr>\n",
       "      <th>12</th>\n",
       "      <td>PUMA</td>\n",
       "      <td>Stylish and Comfirtable Shoes For Mens Sneaker...</td>\n",
       "      <td>₹2,649</td>\n",
       "    </tr>\n",
       "    <tr>\n",
       "      <th>13</th>\n",
       "      <td>Sparx</td>\n",
       "      <td>Lightweight,Comfort,Summer,Trendy,Walking,Outd...</td>\n",
       "      <td>₹629</td>\n",
       "    </tr>\n",
       "    <tr>\n",
       "      <th>14</th>\n",
       "      <td>aadi</td>\n",
       "      <td>Sneakers For Men</td>\n",
       "      <td>₹299</td>\n",
       "    </tr>\n",
       "    <tr>\n",
       "      <th>15</th>\n",
       "      <td>Nobelite</td>\n",
       "      <td>Sneakers For Men</td>\n",
       "      <td>₹299</td>\n",
       "    </tr>\n",
       "    <tr>\n",
       "      <th>16</th>\n",
       "      <td>Magnolia</td>\n",
       "      <td>Trendy Stylish Chunky Sneakers For Men</td>\n",
       "      <td>₹449</td>\n",
       "    </tr>\n",
       "    <tr>\n",
       "      <th>17</th>\n",
       "      <td>Magnolia</td>\n",
       "      <td>Sneakers For Men</td>\n",
       "      <td>₹499</td>\n",
       "    </tr>\n",
       "    <tr>\n",
       "      <th>18</th>\n",
       "      <td>Free Kicks</td>\n",
       "      <td>Hustle V2 Sneakers For Men</td>\n",
       "      <td>₹599</td>\n",
       "    </tr>\n",
       "    <tr>\n",
       "      <th>19</th>\n",
       "      <td>PUMA</td>\n",
       "      <td>asian Thunder-01 White Color Change Sneakers,C...</td>\n",
       "      <td>₹1,299</td>\n",
       "    </tr>\n",
       "    <tr>\n",
       "      <th>20</th>\n",
       "      <td>asian</td>\n",
       "      <td>Sneakers For Men</td>\n",
       "      <td>₹940</td>\n",
       "    </tr>\n",
       "    <tr>\n",
       "      <th>21</th>\n",
       "      <td>ATOM</td>\n",
       "      <td>SM-734 Sneakers For Men</td>\n",
       "      <td>₹1,485</td>\n",
       "    </tr>\n",
       "    <tr>\n",
       "      <th>22</th>\n",
       "      <td>Sparx</td>\n",
       "      <td>UP Sneakers For Men</td>\n",
       "      <td>₹519</td>\n",
       "    </tr>\n",
       "    <tr>\n",
       "      <th>23</th>\n",
       "      <td>PUMA</td>\n",
       "      <td>Club Culture Sneakers For Men</td>\n",
       "      <td>₹1,432</td>\n",
       "    </tr>\n",
       "    <tr>\n",
       "      <th>24</th>\n",
       "      <td>HRX by Hrithik Roshan</td>\n",
       "      <td>Trendy-21 White Color Change Sneakers,Casuals,...</td>\n",
       "      <td>₹1,047</td>\n",
       "    </tr>\n",
       "    <tr>\n",
       "      <th>25</th>\n",
       "      <td>asian</td>\n",
       "      <td>Sneakers For Men</td>\n",
       "      <td>₹649</td>\n",
       "    </tr>\n",
       "    <tr>\n",
       "      <th>26</th>\n",
       "      <td>Magnolia</td>\n",
       "      <td>Street Icon M Sneakers For Men</td>\n",
       "      <td>₹449</td>\n",
       "    </tr>\n",
       "    <tr>\n",
       "      <th>27</th>\n",
       "      <td>ADIDAS</td>\n",
       "      <td>Sneakers For Men</td>\n",
       "      <td>₹1,819</td>\n",
       "    </tr>\n",
       "    <tr>\n",
       "      <th>28</th>\n",
       "      <td>asian</td>\n",
       "      <td>Junior Zero1 Sports shoes for Men | Gym Traini...</td>\n",
       "      <td>₹622</td>\n",
       "    </tr>\n",
       "    <tr>\n",
       "      <th>29</th>\n",
       "      <td>Airson</td>\n",
       "      <td>Sneakers For Men</td>\n",
       "      <td>₹999</td>\n",
       "    </tr>\n",
       "    <tr>\n",
       "      <th>30</th>\n",
       "      <td>WROGN</td>\n",
       "      <td>Caven Sneakers For Men</td>\n",
       "      <td>₹1,085</td>\n",
       "    </tr>\n",
       "    <tr>\n",
       "      <th>31</th>\n",
       "      <td>WROGN</td>\n",
       "      <td>Combo Of 2 Shoes FK-570 &amp; FK-338 Sneakers For Men</td>\n",
       "      <td>₹926</td>\n",
       "    </tr>\n",
       "    <tr>\n",
       "      <th>32</th>\n",
       "      <td>Layasa</td>\n",
       "      <td>INFINITY 2.0 Sneakers For Women</td>\n",
       "      <td>₹399</td>\n",
       "    </tr>\n",
       "    <tr>\n",
       "      <th>33</th>\n",
       "      <td>PUMA</td>\n",
       "      <td>Branded Black Sneakers For Men</td>\n",
       "      <td>₹2,079</td>\n",
       "    </tr>\n",
       "    <tr>\n",
       "      <th>34</th>\n",
       "      <td>Free Kicks</td>\n",
       "      <td>Hustle V2 Sneakers For Men</td>\n",
       "      <td>₹1,400</td>\n",
       "    </tr>\n",
       "    <tr>\n",
       "      <th>35</th>\n",
       "      <td>Kraasa</td>\n",
       "      <td>Sneakers For Men</td>\n",
       "      <td>₹399</td>\n",
       "    </tr>\n",
       "    <tr>\n",
       "      <th>36</th>\n",
       "      <td>Dillions</td>\n",
       "      <td>Sneakers For Men</td>\n",
       "      <td>₹530</td>\n",
       "    </tr>\n",
       "    <tr>\n",
       "      <th>37</th>\n",
       "      <td>Zixer</td>\n",
       "      <td>Sneakers For Men</td>\n",
       "      <td>₹833</td>\n",
       "    </tr>\n",
       "    <tr>\n",
       "      <th>38</th>\n",
       "      <td>PUMA</td>\n",
       "      <td>Sneakers For Men</td>\n",
       "      <td>₹1,299</td>\n",
       "    </tr>\n",
       "    <tr>\n",
       "      <th>39</th>\n",
       "      <td>aadi</td>\n",
       "      <td>Sneakers For Men</td>\n",
       "      <td>₹435</td>\n",
       "    </tr>\n",
       "  </tbody>\n",
       "</table>\n",
       "</div>"
      ],
      "text/plain": [
       "                    Brand                                Product Description  \\\n",
       "0                Magnolia  Modern Trendy Sneakers boot Sneakers Sneakers ...   \n",
       "1                     SFR  Exclusive Affordable Collection of Trendy & St...   \n",
       "2                  BRUTON               Modern Trendy Shoes Sneakers For Men   \n",
       "3                Nobelite                                   Sneakers For Men   \n",
       "4                    aadi  Synthetic Leather |Lightweight|Comfort|Summer|...   \n",
       "5                    PUMA             Puma Rebound LayUp SL Sneakers For Men   \n",
       "6                Schuster                                   Sneakers For Men   \n",
       "7                    ATOM                                UP Sneakers For Men   \n",
       "8                    PUMA                              Buzz Sneakers For Men   \n",
       "9                    PUMA                                   Sneakers For Men   \n",
       "10               RapidBox  Exclusive Affordable Collection of Trendy & St...   \n",
       "11                    SFR                  Rebound LayUp SL Sneakers For Men   \n",
       "12                   PUMA  Stylish and Comfirtable Shoes For Mens Sneaker...   \n",
       "13                  Sparx  Lightweight,Comfort,Summer,Trendy,Walking,Outd...   \n",
       "14                   aadi                                   Sneakers For Men   \n",
       "15               Nobelite                                   Sneakers For Men   \n",
       "16               Magnolia             Trendy Stylish Chunky Sneakers For Men   \n",
       "17               Magnolia                                   Sneakers For Men   \n",
       "18             Free Kicks                         Hustle V2 Sneakers For Men   \n",
       "19                   PUMA  asian Thunder-01 White Color Change Sneakers,C...   \n",
       "20                  asian                                   Sneakers For Men   \n",
       "21                   ATOM                            SM-734 Sneakers For Men   \n",
       "22                  Sparx                                UP Sneakers For Men   \n",
       "23                   PUMA                      Club Culture Sneakers For Men   \n",
       "24  HRX by Hrithik Roshan  Trendy-21 White Color Change Sneakers,Casuals,...   \n",
       "25                  asian                                   Sneakers For Men   \n",
       "26               Magnolia                     Street Icon M Sneakers For Men   \n",
       "27                 ADIDAS                                   Sneakers For Men   \n",
       "28                  asian  Junior Zero1 Sports shoes for Men | Gym Traini...   \n",
       "29                 Airson                                   Sneakers For Men   \n",
       "30                  WROGN                             Caven Sneakers For Men   \n",
       "31                  WROGN  Combo Of 2 Shoes FK-570 & FK-338 Sneakers For Men   \n",
       "32                 Layasa                    INFINITY 2.0 Sneakers For Women   \n",
       "33                   PUMA                     Branded Black Sneakers For Men   \n",
       "34             Free Kicks                         Hustle V2 Sneakers For Men   \n",
       "35                 Kraasa                                   Sneakers For Men   \n",
       "36               Dillions                                   Sneakers For Men   \n",
       "37                  Zixer                                   Sneakers For Men   \n",
       "38                   PUMA                                   Sneakers For Men   \n",
       "39                   aadi                                   Sneakers For Men   \n",
       "\n",
       "     Price  \n",
       "0     ₹449  \n",
       "1     ₹349  \n",
       "2     ₹379  \n",
       "3     ₹299  \n",
       "4     ₹398  \n",
       "5   ₹1,930  \n",
       "6     ₹549  \n",
       "7   ₹1,485  \n",
       "8   ₹1,508  \n",
       "9   ₹3,599  \n",
       "10    ₹750  \n",
       "11    ₹349  \n",
       "12  ₹2,649  \n",
       "13    ₹629  \n",
       "14    ₹299  \n",
       "15    ₹299  \n",
       "16    ₹449  \n",
       "17    ₹499  \n",
       "18    ₹599  \n",
       "19  ₹1,299  \n",
       "20    ₹940  \n",
       "21  ₹1,485  \n",
       "22    ₹519  \n",
       "23  ₹1,432  \n",
       "24  ₹1,047  \n",
       "25    ₹649  \n",
       "26    ₹449  \n",
       "27  ₹1,819  \n",
       "28    ₹622  \n",
       "29    ₹999  \n",
       "30  ₹1,085  \n",
       "31    ₹926  \n",
       "32    ₹399  \n",
       "33  ₹2,079  \n",
       "34  ₹1,400  \n",
       "35    ₹399  \n",
       "36    ₹530  \n",
       "37    ₹833  \n",
       "38  ₹1,299  \n",
       "39    ₹435  "
      ]
     },
     "execution_count": 151,
     "metadata": {},
     "output_type": "execute_result"
    }
   ],
   "source": [
    "import pandas as pd\n",
    "df=pd.DataFrame({'Brand':BRAND, 'Product Description':DESCRIPTION,'Price':PRICE})\n",
    "df"
   ]
  },
  {
   "cell_type": "code",
   "execution_count": 153,
   "id": "e5256d3f",
   "metadata": {},
   "outputs": [],
   "source": [
    "BRAND=[]\n",
    "start=0\n",
    "end=3\n",
    "for page in range(start,end):\n",
    "    Brand=driver.find_elements(By.XPATH,'//div[@class=\"_2WkVRV\"]')\n",
    "    for i in Brand:\n",
    "        BRAND.append(i.text)\n",
    "    next_button= driver.find_element(By.XPATH, '//a[@class=\"_1LKTO3\"]')\n",
    "    next_button.click()\n",
    "    time.sleep(4)"
   ]
  },
  {
   "cell_type": "code",
   "execution_count": 154,
   "id": "384fbc5d",
   "metadata": {},
   "outputs": [
    {
     "data": {
      "text/plain": [
       "120"
      ]
     },
     "execution_count": 154,
     "metadata": {},
     "output_type": "execute_result"
    }
   ],
   "source": [
    "len(BRAND)"
   ]
  },
  {
   "cell_type": "code",
   "execution_count": 155,
   "id": "ab188648",
   "metadata": {},
   "outputs": [],
   "source": [
    "DESCRIPTION=[]\n",
    "start=0\n",
    "end=3\n",
    "for page in range(start,end):\n",
    "    Product_Description=driver.find_elements(By.CLASS_NAME,'IRpwTa')\n",
    "    for i in Product_Description:\n",
    "        DESCRIPTION.append(i.text)\n",
    "    next_button= driver.find_element(By.XPATH, '//a[@class=\"_1LKTO3\"]')\n",
    "    next_button.click()\n",
    "    time.sleep(4)"
   ]
  },
  {
   "cell_type": "code",
   "execution_count": 156,
   "id": "d6f4c1d7",
   "metadata": {},
   "outputs": [
    {
     "data": {
      "text/plain": [
       "120"
      ]
     },
     "execution_count": 156,
     "metadata": {},
     "output_type": "execute_result"
    }
   ],
   "source": [
    "len(DESCRIPTION)"
   ]
  },
  {
   "cell_type": "code",
   "execution_count": 157,
   "id": "1927490b",
   "metadata": {},
   "outputs": [],
   "source": [
    "PRICE=[]\n",
    "start=0\n",
    "end=3\n",
    "for page in range(start,end):\n",
    "    Price=driver.find_elements(By.XPATH,'//div[@class=\"_30jeq3\"]')\n",
    "    for i in Price:\n",
    "        PRICE.append(i.text)\n",
    "    next_button= driver.find_element(By.XPATH, '//a[@class=\"_1LKTO3\"]')\n",
    "    next_button.click()\n",
    "    time.sleep(4)"
   ]
  },
  {
   "cell_type": "code",
   "execution_count": 158,
   "id": "fdb3ff1e",
   "metadata": {},
   "outputs": [
    {
     "data": {
      "text/plain": [
       "120"
      ]
     },
     "execution_count": 158,
     "metadata": {},
     "output_type": "execute_result"
    }
   ],
   "source": [
    "len(PRICE)"
   ]
  },
  {
   "cell_type": "code",
   "execution_count": 159,
   "id": "a83aa871",
   "metadata": {},
   "outputs": [
    {
     "data": {
      "text/html": [
       "<div>\n",
       "<style scoped>\n",
       "    .dataframe tbody tr th:only-of-type {\n",
       "        vertical-align: middle;\n",
       "    }\n",
       "\n",
       "    .dataframe tbody tr th {\n",
       "        vertical-align: top;\n",
       "    }\n",
       "\n",
       "    .dataframe thead th {\n",
       "        text-align: right;\n",
       "    }\n",
       "</style>\n",
       "<table border=\"1\" class=\"dataframe\">\n",
       "  <thead>\n",
       "    <tr style=\"text-align: right;\">\n",
       "      <th></th>\n",
       "      <th>Brand</th>\n",
       "      <th>Product Description</th>\n",
       "      <th>Price</th>\n",
       "    </tr>\n",
       "  </thead>\n",
       "  <tbody>\n",
       "    <tr>\n",
       "      <th>0</th>\n",
       "      <td>Magnolia</td>\n",
       "      <td>Modern Trendy Sneakers boot Sneakers Sneakers ...</td>\n",
       "      <td>₹499</td>\n",
       "    </tr>\n",
       "    <tr>\n",
       "      <th>1</th>\n",
       "      <td>SFR</td>\n",
       "      <td>Exclusive Affordable Collection of Trendy &amp; St...</td>\n",
       "      <td>₹7,279</td>\n",
       "    </tr>\n",
       "    <tr>\n",
       "      <th>2</th>\n",
       "      <td>asian</td>\n",
       "      <td>Modern Trendy Shoes Sneakers For Men</td>\n",
       "      <td>₹435</td>\n",
       "    </tr>\n",
       "    <tr>\n",
       "      <th>3</th>\n",
       "      <td>Asics</td>\n",
       "      <td>Sneakers For Men</td>\n",
       "      <td>₹940</td>\n",
       "    </tr>\n",
       "    <tr>\n",
       "      <th>4</th>\n",
       "      <td>BRUTON</td>\n",
       "      <td>Synthetic Leather |Lightweight|Comfort|Summer|...</td>\n",
       "      <td>₹499</td>\n",
       "    </tr>\n",
       "    <tr>\n",
       "      <th>...</th>\n",
       "      <td>...</td>\n",
       "      <td>...</td>\n",
       "      <td>...</td>\n",
       "    </tr>\n",
       "    <tr>\n",
       "      <th>95</th>\n",
       "      <td>LIBERTY</td>\n",
       "      <td>Lightweight,Comfort,Summer,Trendy,Walking,Outd...</td>\n",
       "      <td>₹875</td>\n",
       "    </tr>\n",
       "    <tr>\n",
       "      <th>96</th>\n",
       "      <td>ADIDAS</td>\n",
       "      <td>Sneakers For Men</td>\n",
       "      <td>₹499</td>\n",
       "    </tr>\n",
       "    <tr>\n",
       "      <th>97</th>\n",
       "      <td>WROGN</td>\n",
       "      <td>Trendy Stylish Chunky Sneakers For Men</td>\n",
       "      <td>₹1,819</td>\n",
       "    </tr>\n",
       "    <tr>\n",
       "      <th>98</th>\n",
       "      <td>Rowlans</td>\n",
       "      <td>Sneakers For Men</td>\n",
       "      <td>₹513</td>\n",
       "    </tr>\n",
       "    <tr>\n",
       "      <th>99</th>\n",
       "      <td>asian</td>\n",
       "      <td>Sneakers For Men</td>\n",
       "      <td>₹587</td>\n",
       "    </tr>\n",
       "  </tbody>\n",
       "</table>\n",
       "<p>100 rows × 3 columns</p>\n",
       "</div>"
      ],
      "text/plain": [
       "       Brand                                Product Description   Price\n",
       "0   Magnolia  Modern Trendy Sneakers boot Sneakers Sneakers ...    ₹499\n",
       "1        SFR  Exclusive Affordable Collection of Trendy & St...  ₹7,279\n",
       "2      asian               Modern Trendy Shoes Sneakers For Men    ₹435\n",
       "3      Asics                                   Sneakers For Men    ₹940\n",
       "4     BRUTON  Synthetic Leather |Lightweight|Comfort|Summer|...    ₹499\n",
       "..       ...                                                ...     ...\n",
       "95   LIBERTY  Lightweight,Comfort,Summer,Trendy,Walking,Outd...    ₹875\n",
       "96    ADIDAS                                   Sneakers For Men    ₹499\n",
       "97     WROGN             Trendy Stylish Chunky Sneakers For Men  ₹1,819\n",
       "98   Rowlans                                   Sneakers For Men    ₹513\n",
       "99     asian                                   Sneakers For Men    ₹587\n",
       "\n",
       "[100 rows x 3 columns]"
      ]
     },
     "execution_count": 159,
     "metadata": {},
     "output_type": "execute_result"
    }
   ],
   "source": [
    "import pandas as pd\n",
    "df=pd.DataFrame({'Brand':BRAND, 'Product Description':DESCRIPTION,'Price':PRICE})\n",
    "df[0:100]"
   ]
  },
  {
   "cell_type": "code",
   "execution_count": 160,
   "id": "dda94c45",
   "metadata": {},
   "outputs": [],
   "source": [
    "#7.\n",
    "driver = webdriver.Chrome()"
   ]
  },
  {
   "cell_type": "code",
   "execution_count": 161,
   "id": "10d65123",
   "metadata": {},
   "outputs": [],
   "source": [
    "driver.get(\"https://www.amazon.in/\")"
   ]
  },
  {
   "cell_type": "code",
   "execution_count": 162,
   "id": "b09d7529",
   "metadata": {},
   "outputs": [],
   "source": [
    "Product= driver.find_element(By.XPATH,\"/html/body/div[1]/header/div/div[1]/div[2]/div/form/div[2]/div[1]/input\")\n",
    "Product.send_keys('Laptop')"
   ]
  },
  {
   "cell_type": "code",
   "execution_count": 163,
   "id": "6fe0fd08",
   "metadata": {},
   "outputs": [],
   "source": [
    "search= driver.find_element(By.XPATH, \"/html/body/div[1]/header/div/div[1]/div[2]/div/form/div[3]/div/span/input\")\n",
    "search.click()"
   ]
  },
  {
   "cell_type": "code",
   "execution_count": 164,
   "id": "f1b2afcc",
   "metadata": {},
   "outputs": [],
   "source": [
    "search= driver.find_element(By.XPATH, \"/html/body/div[1]/div[2]/div[1]/div[2]/div/div[3]/span/div[1]/div/div/div[6]/ul[7]/span[12]/li/span/a/span\")\n",
    "search.click()"
   ]
  },
  {
   "cell_type": "code",
   "execution_count": 182,
   "id": "90cd9c0c",
   "metadata": {},
   "outputs": [],
   "source": [
    "TITLE_TAGS=[]\n",
    "RATINGS_TAGS=[]\n",
    "PRICE_TAGS=[]"
   ]
  },
  {
   "cell_type": "code",
   "execution_count": 183,
   "id": "396a16a9",
   "metadata": {},
   "outputs": [],
   "source": [
    "TITLE_tags=driver.find_elements(By.XPATH,'//h2[@class=\"a-size-mini a-spacing-none a-color-base s-line-clamp-2\"]')\n",
    "for i in TITLE_tags[0:10]:\n",
    "    ProducT_Title=i.text\n",
    "    TITLE_TAGS.append(ProducT_Title)\n",
    "\n",
    "RATINGS_tags=driver.find_elements(By.XPATH,'//span[@class=\"a-size-base puis-normal-weight-text\"]')\n",
    "for i in RATINGS_tags[0:10]:\n",
    "    ProducT_Ratings=i.text\n",
    "    RATINGS_TAGS.append(ProducT_Ratings)\n",
    "    \n",
    "PRICE_tags=driver.find_elements(By.XPATH,'//SPAN[@class=\"a-price-whole\"]')\n",
    "for i in PRICE_tags[0:10]:\n",
    "    PRODUCt_PRICe=i.text\n",
    "    PRICE_TAGS.append(PRODUCt_PRICe)"
   ]
  },
  {
   "cell_type": "code",
   "execution_count": 184,
   "id": "47649fb0",
   "metadata": {},
   "outputs": [
    {
     "name": "stdout",
     "output_type": "stream",
     "text": [
      "10 10 10\n"
     ]
    }
   ],
   "source": [
    "print(len(TITLE_TAGS),len(RATINGS_TAGS),len(PRICE_TAGS))"
   ]
  },
  {
   "cell_type": "code",
   "execution_count": 185,
   "id": "4c86dc74",
   "metadata": {},
   "outputs": [
    {
     "data": {
      "text/html": [
       "<div>\n",
       "<style scoped>\n",
       "    .dataframe tbody tr th:only-of-type {\n",
       "        vertical-align: middle;\n",
       "    }\n",
       "\n",
       "    .dataframe tbody tr th {\n",
       "        vertical-align: top;\n",
       "    }\n",
       "\n",
       "    .dataframe thead th {\n",
       "        text-align: right;\n",
       "    }\n",
       "</style>\n",
       "<table border=\"1\" class=\"dataframe\">\n",
       "  <thead>\n",
       "    <tr style=\"text-align: right;\">\n",
       "      <th></th>\n",
       "      <th>TITLE</th>\n",
       "      <th>RATINGS</th>\n",
       "      <th>PRICE</th>\n",
       "    </tr>\n",
       "  </thead>\n",
       "  <tbody>\n",
       "    <tr>\n",
       "      <th>0</th>\n",
       "      <td>ASUS Vivobook 15, Intel Core i7-12650H 12th Ge...</td>\n",
       "      <td>4.0</td>\n",
       "      <td>64,990</td>\n",
       "    </tr>\n",
       "    <tr>\n",
       "      <th>1</th>\n",
       "      <td>MSI GF63 Thin, Intel Core i7-11800H, 40CM FHD ...</td>\n",
       "      <td>4.5</td>\n",
       "      <td>70,990</td>\n",
       "    </tr>\n",
       "    <tr>\n",
       "      <th>2</th>\n",
       "      <td>ASUS TUF Gaming F15, 15.6-inch (39.62 cms) FHD...</td>\n",
       "      <td>4.0</td>\n",
       "      <td>89,990</td>\n",
       "    </tr>\n",
       "    <tr>\n",
       "      <th>3</th>\n",
       "      <td>Acer Nitro 5 12th Gen Intel Core i7-12650H Gam...</td>\n",
       "      <td>3.3</td>\n",
       "      <td>99,990</td>\n",
       "    </tr>\n",
       "    <tr>\n",
       "      <th>4</th>\n",
       "      <td>Lenovo [SmartChoice] IdeaPad Slim 3 Intel Core...</td>\n",
       "      <td>4.4</td>\n",
       "      <td>62,990</td>\n",
       "    </tr>\n",
       "    <tr>\n",
       "      <th>5</th>\n",
       "      <td>ASUS TUF Gaming F15 (2023) 90WHr Battery, Inte...</td>\n",
       "      <td>4.6</td>\n",
       "      <td>1,15,990</td>\n",
       "    </tr>\n",
       "    <tr>\n",
       "      <th>6</th>\n",
       "      <td>Dell Vostro 5630 13th Gen Laptop,Intel i7-1355...</td>\n",
       "      <td>3.6</td>\n",
       "      <td>89,990</td>\n",
       "    </tr>\n",
       "    <tr>\n",
       "      <th>7</th>\n",
       "      <td>MSI Modern 14, Intel 12th Gen. i7-1255U, 36CM ...</td>\n",
       "      <td>3.3</td>\n",
       "      <td>52,990</td>\n",
       "    </tr>\n",
       "    <tr>\n",
       "      <th>8</th>\n",
       "      <td>Dell Inspiron 5630 13th Gen Laptop, Intel Core...</td>\n",
       "      <td>4.3</td>\n",
       "      <td>89,990</td>\n",
       "    </tr>\n",
       "    <tr>\n",
       "      <th>9</th>\n",
       "      <td>ASUS TUF Gaming F15, 15.6\"(39.62 cms) FHD 144H...</td>\n",
       "      <td>4.2</td>\n",
       "      <td>76,990</td>\n",
       "    </tr>\n",
       "  </tbody>\n",
       "</table>\n",
       "</div>"
      ],
      "text/plain": [
       "                                               TITLE RATINGS     PRICE\n",
       "0  ASUS Vivobook 15, Intel Core i7-12650H 12th Ge...     4.0    64,990\n",
       "1  MSI GF63 Thin, Intel Core i7-11800H, 40CM FHD ...     4.5    70,990\n",
       "2  ASUS TUF Gaming F15, 15.6-inch (39.62 cms) FHD...     4.0    89,990\n",
       "3  Acer Nitro 5 12th Gen Intel Core i7-12650H Gam...     3.3    99,990\n",
       "4  Lenovo [SmartChoice] IdeaPad Slim 3 Intel Core...     4.4    62,990\n",
       "5  ASUS TUF Gaming F15 (2023) 90WHr Battery, Inte...     4.6  1,15,990\n",
       "6  Dell Vostro 5630 13th Gen Laptop,Intel i7-1355...     3.6    89,990\n",
       "7  MSI Modern 14, Intel 12th Gen. i7-1255U, 36CM ...     3.3    52,990\n",
       "8  Dell Inspiron 5630 13th Gen Laptop, Intel Core...     4.3    89,990\n",
       "9  ASUS TUF Gaming F15, 15.6\"(39.62 cms) FHD 144H...     4.2    76,990"
      ]
     },
     "execution_count": 185,
     "metadata": {},
     "output_type": "execute_result"
    }
   ],
   "source": [
    "import pandas as pd\n",
    "df=pd.DataFrame({'TITLE':TITLE_TAGS, 'RATINGS':RATINGS_TAGS,'PRICE':PRICE_TAGS})\n",
    "df"
   ]
  },
  {
   "cell_type": "code",
   "execution_count": 186,
   "id": "9469036d",
   "metadata": {},
   "outputs": [],
   "source": [
    "#8.\n",
    "driver = webdriver.Chrome()"
   ]
  },
  {
   "cell_type": "code",
   "execution_count": 187,
   "id": "0ecc5f8a",
   "metadata": {},
   "outputs": [],
   "source": [
    "driver.get(\"https://www.azquotes.com/\")"
   ]
  },
  {
   "cell_type": "code",
   "execution_count": 188,
   "id": "afae2d1d",
   "metadata": {},
   "outputs": [],
   "source": [
    "search= driver.find_element(By.XPATH, \"/html/body/div[1]/div[1]/div[1]/div/div[3]/ul/li[5]/a\")\n",
    "search.click()"
   ]
  },
  {
   "cell_type": "code",
   "execution_count": 192,
   "id": "ed529c7b",
   "metadata": {},
   "outputs": [],
   "source": [
    "QUOTE=[]\n",
    "AUTHOR=[]\n",
    "TYPE=[]"
   ]
  },
  {
   "cell_type": "code",
   "execution_count": 193,
   "id": "1078db17",
   "metadata": {},
   "outputs": [],
   "source": [
    "Quote_tags=driver.find_elements(By.XPATH,'//a[@class=\"title\"]')\n",
    "for i in Quote_tags:\n",
    "    quote=i.text\n",
    "    QUOTE.append(quote)\n",
    "\n",
    "Author_tags=driver.find_elements(By.XPATH,'//div[@class=\"author\"]')\n",
    "for i in Author_tags:\n",
    "    author=i.text\n",
    "    AUTHOR.append(author)\n",
    "    \n",
    "Type_tags=driver.find_elements(By.XPATH,'//div[@class=\"tags\"]')\n",
    "for i in Type_tags:\n",
    "    type_tags=i.text\n",
    "    TYPE.append(type_tags)"
   ]
  },
  {
   "cell_type": "code",
   "execution_count": 195,
   "id": "bf0c2343",
   "metadata": {},
   "outputs": [
    {
     "name": "stdout",
     "output_type": "stream",
     "text": [
      "100 100 100\n"
     ]
    }
   ],
   "source": [
    "print(len(QUOTE),len(AUTHOR),len(TYPE))"
   ]
  },
  {
   "cell_type": "code",
   "execution_count": 196,
   "id": "81a66fca",
   "metadata": {},
   "outputs": [
    {
     "data": {
      "text/html": [
       "<div>\n",
       "<style scoped>\n",
       "    .dataframe tbody tr th:only-of-type {\n",
       "        vertical-align: middle;\n",
       "    }\n",
       "\n",
       "    .dataframe tbody tr th {\n",
       "        vertical-align: top;\n",
       "    }\n",
       "\n",
       "    .dataframe thead th {\n",
       "        text-align: right;\n",
       "    }\n",
       "</style>\n",
       "<table border=\"1\" class=\"dataframe\">\n",
       "  <thead>\n",
       "    <tr style=\"text-align: right;\">\n",
       "      <th></th>\n",
       "      <th>Quote</th>\n",
       "      <th>Author</th>\n",
       "      <th>Type of Quotes</th>\n",
       "    </tr>\n",
       "  </thead>\n",
       "  <tbody>\n",
       "    <tr>\n",
       "      <th>0</th>\n",
       "      <td>The essence of strategy is choosing what not t...</td>\n",
       "      <td>Michael Porter</td>\n",
       "      <td>Essence, Deep Thought, Transcendentalism</td>\n",
       "    </tr>\n",
       "    <tr>\n",
       "      <th>1</th>\n",
       "      <td>One cannot and must not try to erase the past ...</td>\n",
       "      <td>Golda Meir</td>\n",
       "      <td>Inspiration, Past, Trying</td>\n",
       "    </tr>\n",
       "    <tr>\n",
       "      <th>2</th>\n",
       "      <td>Patriotism means to stand by the country. It d...</td>\n",
       "      <td>Theodore Roosevelt</td>\n",
       "      <td>Country, Peace, War</td>\n",
       "    </tr>\n",
       "    <tr>\n",
       "      <th>3</th>\n",
       "      <td>Death is something inevitable. When a man has ...</td>\n",
       "      <td>Nelson Mandela</td>\n",
       "      <td>Inspirational, Motivational, Death</td>\n",
       "    </tr>\n",
       "    <tr>\n",
       "      <th>4</th>\n",
       "      <td>You have to love a nation that celebrates its ...</td>\n",
       "      <td>Erma Bombeck</td>\n",
       "      <td>4th Of July, Food, Patriotic</td>\n",
       "    </tr>\n",
       "    <tr>\n",
       "      <th>...</th>\n",
       "      <td>...</td>\n",
       "      <td>...</td>\n",
       "      <td>...</td>\n",
       "    </tr>\n",
       "    <tr>\n",
       "      <th>95</th>\n",
       "      <td>When the going gets weird, the weird turn pro.</td>\n",
       "      <td>Hunter S. Thompson</td>\n",
       "      <td>Music, Sports, Hunting</td>\n",
       "    </tr>\n",
       "    <tr>\n",
       "      <th>96</th>\n",
       "      <td>When a train goes through a tunnel and it gets...</td>\n",
       "      <td>Corrie Ten Boom</td>\n",
       "      <td>Trust, Encouraging, Uplifting</td>\n",
       "    </tr>\n",
       "    <tr>\n",
       "      <th>97</th>\n",
       "      <td>If you think you are too small to make a diffe...</td>\n",
       "      <td>Dalai Lama</td>\n",
       "      <td>Inspirational, Funny, Change</td>\n",
       "    </tr>\n",
       "    <tr>\n",
       "      <th>98</th>\n",
       "      <td>God doesn't require us to succeed, he only req...</td>\n",
       "      <td>Mother Teresa</td>\n",
       "      <td>Success, God, Mother</td>\n",
       "    </tr>\n",
       "    <tr>\n",
       "      <th>99</th>\n",
       "      <td>Change your thoughts and you change your world.</td>\n",
       "      <td>Norman Vincent Peale</td>\n",
       "      <td>Inspirational, Motivational, Change</td>\n",
       "    </tr>\n",
       "  </tbody>\n",
       "</table>\n",
       "<p>100 rows × 3 columns</p>\n",
       "</div>"
      ],
      "text/plain": [
       "                                                Quote                Author  \\\n",
       "0   The essence of strategy is choosing what not t...        Michael Porter   \n",
       "1   One cannot and must not try to erase the past ...            Golda Meir   \n",
       "2   Patriotism means to stand by the country. It d...    Theodore Roosevelt   \n",
       "3   Death is something inevitable. When a man has ...        Nelson Mandela   \n",
       "4   You have to love a nation that celebrates its ...          Erma Bombeck   \n",
       "..                                                ...                   ...   \n",
       "95     When the going gets weird, the weird turn pro.    Hunter S. Thompson   \n",
       "96  When a train goes through a tunnel and it gets...       Corrie Ten Boom   \n",
       "97  If you think you are too small to make a diffe...            Dalai Lama   \n",
       "98  God doesn't require us to succeed, he only req...         Mother Teresa   \n",
       "99    Change your thoughts and you change your world.  Norman Vincent Peale   \n",
       "\n",
       "                              Type of Quotes  \n",
       "0   Essence, Deep Thought, Transcendentalism  \n",
       "1                  Inspiration, Past, Trying  \n",
       "2                        Country, Peace, War  \n",
       "3         Inspirational, Motivational, Death  \n",
       "4               4th Of July, Food, Patriotic  \n",
       "..                                       ...  \n",
       "95                    Music, Sports, Hunting  \n",
       "96             Trust, Encouraging, Uplifting  \n",
       "97              Inspirational, Funny, Change  \n",
       "98                      Success, God, Mother  \n",
       "99       Inspirational, Motivational, Change  \n",
       "\n",
       "[100 rows x 3 columns]"
      ]
     },
     "execution_count": 196,
     "metadata": {},
     "output_type": "execute_result"
    }
   ],
   "source": [
    "import pandas as pd\n",
    "df=pd.DataFrame({'Quote':QUOTE, 'Author':AUTHOR,'Type of Quotes':TYPE})\n",
    "df"
   ]
  },
  {
   "cell_type": "code",
   "execution_count": 197,
   "id": "c71e7ac3",
   "metadata": {},
   "outputs": [],
   "source": [
    "QUOTE=[]\n",
    "start=0\n",
    "end=10\n",
    "for page in range(start,end):\n",
    "    Quote=driver.find_elements(By.XPATH,'//a[@class=\"title\"]')\n",
    "    for i in Quote:\n",
    "        QUOTE.append(i.text)\n",
    "    next_button= driver.find_element(By.XPATH, '/html/body/div[1]/div[2]/div/div/div/div[1]/div/div[4]/li[12]')\n",
    "    next_button.click()\n",
    "    time.sleep(11)"
   ]
  },
  {
   "cell_type": "code",
   "execution_count": 198,
   "id": "5bee2e68",
   "metadata": {},
   "outputs": [
    {
     "data": {
      "text/plain": [
       "1000"
      ]
     },
     "execution_count": 198,
     "metadata": {},
     "output_type": "execute_result"
    }
   ],
   "source": [
    "len(QUOTE)"
   ]
  },
  {
   "cell_type": "code",
   "execution_count": 199,
   "id": "71694182",
   "metadata": {},
   "outputs": [],
   "source": [
    "AUTHOR=[]\n",
    "start=0\n",
    "end=10\n",
    "for page in range(start,end):\n",
    "    Author=driver.find_elements(By.XPATH,'//div[@class=\"author\"]')\n",
    "    for i in Author:\n",
    "        AUTHOR.append(i.text)\n",
    "    next_button= driver.find_element(By.XPATH, '/html/body/div[1]/div[2]/div/div/div/div[1]/div/div[4]/li[12]')\n",
    "    next_button.click()\n",
    "    time.sleep(11)"
   ]
  },
  {
   "cell_type": "code",
   "execution_count": 200,
   "id": "992cd61a",
   "metadata": {},
   "outputs": [
    {
     "data": {
      "text/plain": [
       "1000"
      ]
     },
     "execution_count": 200,
     "metadata": {},
     "output_type": "execute_result"
    }
   ],
   "source": [
    "len(AUTHOR)"
   ]
  },
  {
   "cell_type": "code",
   "execution_count": 201,
   "id": "c50461e7",
   "metadata": {},
   "outputs": [],
   "source": [
    "TYPE=[]\n",
    "start=0\n",
    "end=10\n",
    "for page in range(start,end):\n",
    "    Type=driver.find_elements(By.XPATH,'//div[@class=\"tags\"]')\n",
    "    for i in Type:\n",
    "        TYPE.append(i.text)\n",
    "    next_button= driver.find_element(By.XPATH, '/html/body/div[1]/div[2]/div/div/div/div[1]/div/div[4]/li[12]')\n",
    "    next_button.click()\n",
    "    time.sleep(11)"
   ]
  },
  {
   "cell_type": "code",
   "execution_count": 202,
   "id": "949d075e",
   "metadata": {},
   "outputs": [
    {
     "data": {
      "text/plain": [
       "1000"
      ]
     },
     "execution_count": 202,
     "metadata": {},
     "output_type": "execute_result"
    }
   ],
   "source": [
    "len(TYPE)"
   ]
  },
  {
   "cell_type": "code",
   "execution_count": 203,
   "id": "9ed6b995",
   "metadata": {},
   "outputs": [
    {
     "data": {
      "text/html": [
       "<div>\n",
       "<style scoped>\n",
       "    .dataframe tbody tr th:only-of-type {\n",
       "        vertical-align: middle;\n",
       "    }\n",
       "\n",
       "    .dataframe tbody tr th {\n",
       "        vertical-align: top;\n",
       "    }\n",
       "\n",
       "    .dataframe thead th {\n",
       "        text-align: right;\n",
       "    }\n",
       "</style>\n",
       "<table border=\"1\" class=\"dataframe\">\n",
       "  <thead>\n",
       "    <tr style=\"text-align: right;\">\n",
       "      <th></th>\n",
       "      <th>Quote</th>\n",
       "      <th>Author</th>\n",
       "      <th>Type of Quotes</th>\n",
       "    </tr>\n",
       "  </thead>\n",
       "  <tbody>\n",
       "    <tr>\n",
       "      <th>0</th>\n",
       "      <td>The essence of strategy is choosing what not t...</td>\n",
       "      <td>Amelia Earhart</td>\n",
       "      <td>Inspirational, Life, Success</td>\n",
       "    </tr>\n",
       "    <tr>\n",
       "      <th>1</th>\n",
       "      <td>One cannot and must not try to erase the past ...</td>\n",
       "      <td>Ludwig von Mises</td>\n",
       "      <td>Peace, War, Government</td>\n",
       "    </tr>\n",
       "    <tr>\n",
       "      <th>2</th>\n",
       "      <td>Patriotism means to stand by the country. It d...</td>\n",
       "      <td>Elizabeth Cady Stanton</td>\n",
       "      <td>Life, Strength, Courage</td>\n",
       "    </tr>\n",
       "    <tr>\n",
       "      <th>3</th>\n",
       "      <td>Death is something inevitable. When a man has ...</td>\n",
       "      <td>Benjamin Spock</td>\n",
       "      <td>Positive, Family, Trust</td>\n",
       "    </tr>\n",
       "    <tr>\n",
       "      <th>4</th>\n",
       "      <td>You have to love a nation that celebrates its ...</td>\n",
       "      <td>Michael Jordan</td>\n",
       "      <td>Inspirational, Life, Motivational</td>\n",
       "    </tr>\n",
       "    <tr>\n",
       "      <th>...</th>\n",
       "      <td>...</td>\n",
       "      <td>...</td>\n",
       "      <td>...</td>\n",
       "    </tr>\n",
       "    <tr>\n",
       "      <th>995</th>\n",
       "      <td>Regret for the things we did can be tempered b...</td>\n",
       "      <td>Sydney J. Harris</td>\n",
       "      <td>Love, Inspirational, Motivational</td>\n",
       "    </tr>\n",
       "    <tr>\n",
       "      <th>996</th>\n",
       "      <td>America... just a nation of two hundred millio...</td>\n",
       "      <td>Hunter S. Thompson</td>\n",
       "      <td>Gun, Two, Qualms About</td>\n",
       "    </tr>\n",
       "    <tr>\n",
       "      <th>997</th>\n",
       "      <td>For every disciplined effort there is a multip...</td>\n",
       "      <td>Jim Rohn</td>\n",
       "      <td>Inspirational, Greatness, Best Effort</td>\n",
       "    </tr>\n",
       "    <tr>\n",
       "      <th>998</th>\n",
       "      <td>The spiritual journey is individual, highly pe...</td>\n",
       "      <td>Ram Dass</td>\n",
       "      <td>Spiritual, Truth, Yoga</td>\n",
       "    </tr>\n",
       "    <tr>\n",
       "      <th>999</th>\n",
       "      <td>The mind is not a vessel to be filled but a fi...</td>\n",
       "      <td>Plutarch</td>\n",
       "      <td>Inspirational, Leadership, Education</td>\n",
       "    </tr>\n",
       "  </tbody>\n",
       "</table>\n",
       "<p>1000 rows × 3 columns</p>\n",
       "</div>"
      ],
      "text/plain": [
       "                                                 Quote  \\\n",
       "0    The essence of strategy is choosing what not t...   \n",
       "1    One cannot and must not try to erase the past ...   \n",
       "2    Patriotism means to stand by the country. It d...   \n",
       "3    Death is something inevitable. When a man has ...   \n",
       "4    You have to love a nation that celebrates its ...   \n",
       "..                                                 ...   \n",
       "995  Regret for the things we did can be tempered b...   \n",
       "996  America... just a nation of two hundred millio...   \n",
       "997  For every disciplined effort there is a multip...   \n",
       "998  The spiritual journey is individual, highly pe...   \n",
       "999  The mind is not a vessel to be filled but a fi...   \n",
       "\n",
       "                     Author                         Type of Quotes  \n",
       "0            Amelia Earhart           Inspirational, Life, Success  \n",
       "1          Ludwig von Mises                 Peace, War, Government  \n",
       "2    Elizabeth Cady Stanton                Life, Strength, Courage  \n",
       "3            Benjamin Spock                Positive, Family, Trust  \n",
       "4            Michael Jordan      Inspirational, Life, Motivational  \n",
       "..                      ...                                    ...  \n",
       "995        Sydney J. Harris      Love, Inspirational, Motivational  \n",
       "996      Hunter S. Thompson                 Gun, Two, Qualms About  \n",
       "997                Jim Rohn  Inspirational, Greatness, Best Effort  \n",
       "998                Ram Dass                 Spiritual, Truth, Yoga  \n",
       "999                Plutarch   Inspirational, Leadership, Education  \n",
       "\n",
       "[1000 rows x 3 columns]"
      ]
     },
     "execution_count": 203,
     "metadata": {},
     "output_type": "execute_result"
    }
   ],
   "source": [
    "import pandas as pd\n",
    "df=pd.DataFrame({'Quote':QUOTE, 'Author':AUTHOR,'Type of Quotes':TYPE})\n",
    "df"
   ]
  },
  {
   "cell_type": "code",
   "execution_count": 204,
   "id": "23c3a28b",
   "metadata": {},
   "outputs": [],
   "source": [
    "#9.\n",
    "\n",
    "driver = webdriver.Chrome()"
   ]
  },
  {
   "cell_type": "code",
   "execution_count": 205,
   "id": "39d91583",
   "metadata": {},
   "outputs": [],
   "source": [
    "driver.get(\"https://www.jagranjosh.com/\")"
   ]
  },
  {
   "cell_type": "code",
   "execution_count": 206,
   "id": "d2d09d0c",
   "metadata": {},
   "outputs": [],
   "source": [
    "search= driver.find_element(By.XPATH, \"/html/body/div/header/nav/div/div/div[3]/ul/li[3]/a\")\n",
    "search.click()"
   ]
  },
  {
   "cell_type": "code",
   "execution_count": 207,
   "id": "c25bff9a",
   "metadata": {},
   "outputs": [],
   "source": [
    "search= driver.find_element(By.XPATH, \"/html/body/div[1]/div/div/div[2]/div/div[10]/div/div/ul/li[2]/a\")\n",
    "search.click()"
   ]
  },
  {
   "cell_type": "code",
   "execution_count": 208,
   "id": "7a474045",
   "metadata": {},
   "outputs": [],
   "source": [
    "Name=[]\n",
    "Born_Dead=[]\n",
    "Term_office=[]\n",
    "Remarks=[]"
   ]
  },
  {
   "cell_type": "code",
   "execution_count": null,
   "id": "0d76c33d",
   "metadata": {},
   "outputs": [],
   "source": [
    "Name_tags=driver.find_elements(By.XPATH,'')\n",
    "for i in Name_tags:\n",
    "    name=i.text\n",
    "    Name.append(name)\n",
    "\n",
    "Born_dead_tags=driver.find_elements(By.XPATH,'')\n",
    "for i in Born_dead_tags:\n",
    "    born_dead=i.text\n",
    "    Born_Dead.append(author)\n",
    "    \n",
    "Term_office_tags=driver.find_elements(By.XPATH,'')\n",
    "for i in Term_office_tags:\n",
    "    term=i.text\n",
    "    Term_office.append(term)\n",
    "\n",
    "Remarks_tags=driver.find_elements(By.XPATH,'')\n",
    "for i in Remarks_tags:\n",
    "    remarks=i.text\n",
    "    Remarks.append(remarks)"
   ]
  },
  {
   "cell_type": "code",
   "execution_count": 220,
   "id": "6206a6b8",
   "metadata": {},
   "outputs": [],
   "source": [
    "#10.\n",
    "\n",
    "driver = webdriver.Chrome()"
   ]
  },
  {
   "cell_type": "code",
   "execution_count": 221,
   "id": "2040313d",
   "metadata": {},
   "outputs": [],
   "source": [
    "driver.get(\"https://www.motor1.com/\")"
   ]
  },
  {
   "cell_type": "code",
   "execution_count": null,
   "id": "88f60858",
   "metadata": {},
   "outputs": [],
   "source": [
    "cars= driver.find_element(By.XPATH,\"/html/body/div[10]/div[2]/div/div/div[3]/div/div/div/form/input\")\n",
    "cars.send_keys('50 Most Expensive Cars')"
   ]
  },
  {
   "cell_type": "code",
   "execution_count": null,
   "id": "3ee6484b",
   "metadata": {},
   "outputs": [],
   "source": [
    "search= driver.find_element(By.XPATH, \"/html/body/div[10]/div[2]/div/div/div[3]/div/div/div/form/button[1]\")\n",
    "search.click()"
   ]
  },
  {
   "cell_type": "code",
   "execution_count": null,
   "id": "9249c9fd",
   "metadata": {},
   "outputs": [],
   "source": [
    "search= driver.find_element(By.XPATH, \"/html/body/div[10]/div[9]/div/div[1]/div/div/div[2]/div/div[1]\")\n",
    "search.click()"
   ]
  },
  {
   "cell_type": "code",
   "execution_count": null,
   "id": "ab2596bd",
   "metadata": {},
   "outputs": [],
   "source": [
    "car_name=[]\n",
    "price=[]"
   ]
  },
  {
   "cell_type": "code",
   "execution_count": null,
   "id": "b66f0ec7",
   "metadata": {},
   "outputs": [],
   "source": [
    "name_tags=driver.find_elements(By.XPATH.'//h3[@class=\"subheader\"]')\n",
    "for i in name_tags:\n",
    "    name=i.text\n",
    "    car_name.append(name)\n",
    "    \n",
    "price_tags=driver.find_elements(By.XPATH.'//h3[@class=\"price\"]')\n",
    "for i in price_tags:\n",
    "    Price_tags=i.text\n",
    "    price.append(Price_tags)"
   ]
  },
  {
   "cell_type": "code",
   "execution_count": null,
   "id": "61a7f2c9",
   "metadata": {},
   "outputs": [],
   "source": [
    "import pandas as pd\n",
    "df=pd.DataFrame({'cars':car_name, 'Price':price})\n",
    "df"
   ]
  }
 ],
 "metadata": {
  "kernelspec": {
   "display_name": "Python 3 (ipykernel)",
   "language": "python",
   "name": "python3"
  },
  "language_info": {
   "codemirror_mode": {
    "name": "ipython",
    "version": 3
   },
   "file_extension": ".py",
   "mimetype": "text/x-python",
   "name": "python",
   "nbconvert_exporter": "python",
   "pygments_lexer": "ipython3",
   "version": "3.9.13"
  }
 },
 "nbformat": 4,
 "nbformat_minor": 5
}
