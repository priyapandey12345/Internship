{
 "cells": [
  {
   "cell_type": "code",
   "execution_count": 1,
   "id": "d0c48b0a",
   "metadata": {},
   "outputs": [
    {
     "name": "stdout",
     "output_type": "stream",
     "text": [
      "Enter the number:6\n",
      "1\n",
      "2\n",
      "6\n",
      "24\n",
      "120\n",
      "720\n"
     ]
    }
   ],
   "source": [
    "#Write a python program to find the factorial of a number.\n",
    "\n",
    "n=int(input(\"Enter the number:\"))\n",
    "factorial=1\n",
    "\n",
    "for i in range(1, n+1):\n",
    "    factorial= factorial *i\n",
    "    print(factorial)"
   ]
  },
  {
   "cell_type": "code",
   "execution_count": 2,
   "id": "2e72cff3",
   "metadata": {},
   "outputs": [
    {
     "name": "stdout",
     "output_type": "stream",
     "text": [
      "Enter the number5\n",
      "5 is the prime number\n",
      "5 is the prime number\n",
      "5 is the prime number\n"
     ]
    }
   ],
   "source": [
    "#Write a python program to find whether a number is prime or composite\n",
    "\n",
    "num=int(input(\"Enter the number\"))\n",
    "if num==1:\n",
    "    print(\"is not prime number\")\n",
    "if num>1:\n",
    "    for n in range(2,num):\n",
    "        if num%2==0:\n",
    "            print(num, \"is not prime number\")\n",
    "        else:\n",
    "            print(num, \"is the prime number\")"
   ]
  },
  {
   "cell_type": "code",
   "execution_count": 5,
   "id": "111112b2",
   "metadata": {},
   "outputs": [
    {
     "name": "stdout",
     "output_type": "stream",
     "text": [
      "Enter a string:madam\n",
      "madam is a palindrome\n"
     ]
    }
   ],
   "source": [
    "#Write a python program to check whether a given string is palindrome or not.\n",
    "\n",
    "n=input(\"Enter a string:\")\n",
    "if n== n[::-1]:\n",
    "    print(n+ \" is a palindrome\")\n",
    "else:\n",
    "    print(n+ \" is not a palindrome\")"
   ]
  },
  {
   "cell_type": "code",
   "execution_count": 1,
   "id": "8f201a88",
   "metadata": {},
   "outputs": [
    {
     "name": "stdout",
     "output_type": "stream",
     "text": [
      "Length of the third side of the triangle is 10.0\n"
     ]
    }
   ],
   "source": [
    "#Write a Python program to get the third side of right-angled triangle from two given sides.\n",
    "\n",
    "\n",
    "import math\n",
    "def third_side(a,b):\n",
    "    c= math.sqrt(a**2 + b**2)\n",
    "    return c\n",
    "a= 6\n",
    "b= 8\n",
    "c= third_side(a,b)\n",
    "print(f'Length of the third side of the triangle is {c}')\n"
   ]
  },
  {
   "cell_type": "code",
   "execution_count": 8,
   "id": "716de44f",
   "metadata": {},
   "outputs": [
    {
     "name": "stdout",
     "output_type": "stream",
     "text": [
      "Enter a string:She is good girl\n",
      "S = 1 times\n",
      "h = 1 times\n",
      "e = 1 times\n",
      "  = 3 times\n",
      "i = 2 times\n",
      "s = 1 times\n",
      "  = 3 times\n",
      "g = 2 times\n",
      "o = 2 times\n",
      "o = 2 times\n",
      "d = 1 times\n",
      "  = 3 times\n",
      "g = 2 times\n",
      "i = 2 times\n",
      "r = 1 times\n",
      "l = 1 times\n"
     ]
    }
   ],
   "source": [
    "#Write a python program to print the frequency of each of the characters present in a given string\n",
    "\n",
    "string=input(\"Enter a string:\")\n",
    "\n",
    "for i in string:\n",
    "    \n",
    "    print(i, \"=\", string.count(i), \"times\")"
   ]
  },
  {
   "cell_type": "code",
   "execution_count": null,
   "id": "c9b05ffe",
   "metadata": {},
   "outputs": [],
   "source": []
  }
 ],
 "metadata": {
  "kernelspec": {
   "display_name": "Python 3 (ipykernel)",
   "language": "python",
   "name": "python3"
  },
  "language_info": {
   "codemirror_mode": {
    "name": "ipython",
    "version": 3
   },
   "file_extension": ".py",
   "mimetype": "text/x-python",
   "name": "python",
   "nbconvert_exporter": "python",
   "pygments_lexer": "ipython3",
   "version": "3.9.13"
  }
 },
 "nbformat": 4,
 "nbformat_minor": 5
}
