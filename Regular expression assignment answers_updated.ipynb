{
 "cells": [
  {
   "cell_type": "code",
   "execution_count": 1,
   "id": "55457eb1",
   "metadata": {},
   "outputs": [
    {
     "name": "stdout",
     "output_type": "stream",
     "text": [
      "Python:Exercises::PHP:exercises:\n"
     ]
    }
   ],
   "source": [
    "#1. Write a Python program to replace all occurrences of a space, comma, or dot with a colon.\n",
    "\n",
    "import re\n",
    "\n",
    "string= 'Python Exercises, PHP exercises.'\n",
    "\n",
    "pattern= '[\\s.,]'\n",
    "\n",
    "replace= ':'\n",
    "\n",
    "result= re.sub(pattern,replace,string)\n",
    "\n",
    "print(result)"
   ]
  },
  {
   "cell_type": "code",
   "execution_count": 3,
   "id": "0a3efdc4",
   "metadata": {},
   "outputs": [
    {
     "name": "stdout",
     "output_type": "stream",
     "text": [
      "['Elephant', 'an', 'animal', 'and', 'are', 'Arunachal']\n"
     ]
    }
   ],
   "source": [
    "#2.Write a Python program to find all words starting with 'a' or 'e' in a given string.\n",
    "\n",
    "import re\n",
    "\n",
    "string= 'Elephant is an animal and they are worship in Arunachal pradesh'\n",
    "\n",
    "pattern= r'\\b[AaEe]\\w+\\b'\n",
    "\n",
    "result= re.findall(pattern, string)\n",
    "\n",
    "print(result)"
   ]
  },
  {
   "cell_type": "code",
   "execution_count": 9,
   "id": "bc833330",
   "metadata": {},
   "outputs": [
    {
     "name": "stdout",
     "output_type": "stream",
     "text": [
      "['name', 'Shiva', 'Pandey', 'reside', 'pune', 'which', 'clean', 'city']\n"
     ]
    }
   ],
   "source": [
    "#3.Create a function in python to find all words that are at least 4 characters long in a string. The use of the re.compile() method is mandatory.\n",
    "\n",
    "import re\n",
    "\n",
    "string= 'My name is Shiva Pandey and I reside at pune which is clean city.'\n",
    "\n",
    "pattern= re.compile(r\"\\b\\w{4,}\\b\")\n",
    "\n",
    "search= pattern.findall(string)\n",
    "\n",
    "print(search)\n"
   ]
  },
  {
   "cell_type": "code",
   "execution_count": 10,
   "id": "cc447478",
   "metadata": {},
   "outputs": [
    {
     "name": "stdout",
     "output_type": "stream",
     "text": [
      "['name', 'Shiva', 'Pandey', 'and', 'reside', 'pune', 'which', 'clean', 'city']\n"
     ]
    }
   ],
   "source": [
    "#4.Create a function in python to find all three, four, and five-character words in a string. The use of the re.compile() method is mandatory.\n",
    "\n",
    "import re\n",
    "\n",
    "string= 'My name is Shiva Pandey and I reside at pune which is clean city.'\n",
    "\n",
    "pattern= re.compile(r\"\\b\\w{3,6}\\b\")\n",
    "\n",
    "search= pattern.findall(string)\n",
    "\n",
    "print(search)\n"
   ]
  },
  {
   "cell_type": "code",
   "execution_count": 6,
   "id": "be7741c2",
   "metadata": {},
   "outputs": [
    {
     "name": "stdout",
     "output_type": "stream",
     "text": [
      "example\n",
      "hr@fliprobo\n",
      "github\n",
      "Hello\n",
      "Data\n"
     ]
    }
   ],
   "source": [
    "#5.Create a function in Python to remove the parenthesis in a list of strings. The use of the re.compile() method is mandatory.\n",
    "\n",
    "import re\n",
    "\n",
    "strings=[\"example (.com)\", \"hr@fliprobo (.com)\", \"github (.com)\", \"Hello (Data Science World)\", \"Data (Scientist)\"]\n",
    "\n",
    "for string in strings:\n",
    "    print(re.sub(r\" ?\\([^)]+\\)\", \"\", string))"
   ]
  },
  {
   "cell_type": "code",
   "execution_count": 7,
   "id": "b6523901",
   "metadata": {},
   "outputs": [
    {
     "name": "stdout",
     "output_type": "stream",
     "text": [
      "example\n",
      "hr@fliprobo\n",
      "github\n",
      "Hello\n",
      "Data\n"
     ]
    }
   ],
   "source": [
    "#6.Write a python program to remove the parenthesis area from the text stored in the text file using Regular Expression.\n",
    "import re\n",
    "\n",
    "pattern= r\" ?\\([^)]+\\)\"\n",
    "\n",
    "strings=[\"example (.com)\", \"hr@fliprobo (.com)\", \"github (.com)\", \"Hello (Data Science World)\", \"Data (Scientist)\"]\n",
    "\n",
    "for string in strings:\n",
    "    print(re.sub(r\" ?\\([^)]+\\)\", \"\", string))"
   ]
  },
  {
   "cell_type": "code",
   "execution_count": 8,
   "id": "103fa2a4",
   "metadata": {},
   "outputs": [
    {
     "name": "stdout",
     "output_type": "stream",
     "text": [
      "['Importance', 'Of', 'Regular', 'Expressions', 'In', 'Python']\n"
     ]
    }
   ],
   "source": [
    "#7.Write a regular expression in Python to split a string into uppercase letters\n",
    "\n",
    "import re\n",
    "\n",
    "string = \"ImportanceOfRegularExpressionsInPython\"\n",
    "\n",
    "result= re.findall('[A-Z][^A-Z]*', string)\n",
    "\n",
    "print(result)"
   ]
  },
  {
   "cell_type": "code",
   "execution_count": 17,
   "id": "94c1f707",
   "metadata": {},
   "outputs": [
    {
     "name": "stdout",
     "output_type": "stream",
     "text": [
      "RegularExpression 1 IsAn 2 ImportantTopic 3 InPython\n"
     ]
    }
   ],
   "source": [
    "#8. Create a function in python to insert spaces between words starting with numbers.\n",
    "import re\n",
    "\n",
    "string= 'RegularExpression 1IsAn 2ImportantTopic 3InPython'\n",
    "\n",
    "pattern= r'(\\d+)(\\w+)'\n",
    "\n",
    "replace= r'\\1 \\2'\n",
    "\n",
    "search= re.sub(pattern,replace,string)\n",
    "\n",
    "print(search)"
   ]
  },
  {
   "cell_type": "code",
   "execution_count": 28,
   "id": "8c354405",
   "metadata": {},
   "outputs": [
    {
     "name": "stdout",
     "output_type": "stream",
     "text": [
      "['Regular', 'Expression', '1', 'Is', 'An', '2', 'Important', 'Topic', '3', 'In', 'Python']\n"
     ]
    }
   ],
   "source": [
    "#9. Create a function in python to insert spaces between words starting with capital letters or with numbers.\n",
    "\n",
    "import re\n",
    "\n",
    "string= 'RegularExpression 1IsAn 2ImportantTopic 3InPython'\n",
    "\n",
    "pattern= r'([A-Z][a-z0-9]+|[0-9]+)' \n",
    "\n",
    "search= re.findall(pattern,string)\n",
    "\n",
    "print(search)"
   ]
  },
  {
   "cell_type": "code",
   "execution_count": 1,
   "id": "ebf005f1",
   "metadata": {},
   "outputs": [
    {
     "ename": "FileNotFoundError",
     "evalue": "[Errno 2] No such file or directory: 'email_related.txt'",
     "output_type": "error",
     "traceback": [
      "\u001b[1;31m---------------------------------------------------------------------------\u001b[0m",
      "\u001b[1;31mFileNotFoundError\u001b[0m                         Traceback (most recent call last)",
      "\u001b[1;32m~\\AppData\\Local\\Temp\\ipykernel_13096\\155632612.py\u001b[0m in \u001b[0;36m<module>\u001b[1;34m\u001b[0m\n\u001b[0;32m      1\u001b[0m \u001b[1;32mimport\u001b[0m \u001b[0mre\u001b[0m\u001b[1;33m\u001b[0m\u001b[1;33m\u001b[0m\u001b[0m\n\u001b[1;32m----> 2\u001b[1;33m \u001b[1;32mwith\u001b[0m \u001b[0mopen\u001b[0m\u001b[1;33m(\u001b[0m\u001b[1;34m\"email_related.txt\"\u001b[0m\u001b[1;33m)\u001b[0m\u001b[1;32mas\u001b[0m \u001b[0mfile\u001b[0m\u001b[1;33m:\u001b[0m\u001b[1;33m\u001b[0m\u001b[1;33m\u001b[0m\u001b[0m\n\u001b[0m\u001b[0;32m      3\u001b[0m     \u001b[1;32mfor\u001b[0m \u001b[0mline\u001b[0m \u001b[1;32min\u001b[0m \u001b[0mfile\u001b[0m\u001b[1;33m:\u001b[0m\u001b[1;33m\u001b[0m\u001b[1;33m\u001b[0m\u001b[0m\n\u001b[0;32m      4\u001b[0m         \u001b[0memail\u001b[0m\u001b[1;33m=\u001b[0m \u001b[0mre\u001b[0m\u001b[1;33m.\u001b[0m\u001b[0mfindall\u001b[0m\u001b[1;33m(\u001b[0m\u001b[1;34m'[0-9a-zA-Z]+@[0-9a-zA-Z]+\\.[0-9a-zA-Z]+'\u001b[0m\u001b[1;33m,\u001b[0m \u001b[0mline\u001b[0m\u001b[1;33m)\u001b[0m\u001b[1;33m\u001b[0m\u001b[1;33m\u001b[0m\u001b[0m\n\u001b[0;32m      5\u001b[0m         \u001b[0mprint\u001b[0m\u001b[1;33m(\u001b[0m\u001b[0memail\u001b[0m\u001b[1;33m)\u001b[0m\u001b[1;33m\u001b[0m\u001b[1;33m\u001b[0m\u001b[0m\n",
      "\u001b[1;31mFileNotFoundError\u001b[0m: [Errno 2] No such file or directory: 'email_related.txt'"
     ]
    }
   ],
   "source": [
    "import re\n",
    "with open(\"email_related.txt\")as file:\n",
    "    for line in file:\n",
    "        email= re.findall('[0-9a-zA-Z]+@[0-9a-zA-Z]+\\.[0-9a-zA-Z]+', line)\n",
    "        print(email)"
   ]
  },
  {
   "cell_type": "code",
   "execution_count": 41,
   "id": "b727bfad",
   "metadata": {},
   "outputs": [
    {
     "name": "stdout",
     "output_type": "stream",
     "text": [
      "<re.Match object; span=(0, 8), match='World_06'>\n"
     ]
    }
   ],
   "source": [
    "#11.Write a Python program to match a string that contains only upper and lowercase letters, numbers, and underscores.\n",
    "\n",
    "import re\n",
    "\n",
    "string= 'World_06'\n",
    "\n",
    "pattern= '[A-Za-z0-9_]*$'\n",
    "\n",
    "result= re.search(pattern, string)\n",
    "\n",
    "print(result)"
   ]
  },
  {
   "cell_type": "code",
   "execution_count": 46,
   "id": "c18a9a51",
   "metadata": {},
   "outputs": [
    {
     "name": "stdout",
     "output_type": "stream",
     "text": [
      "<re.Match object; span=(0, 1), match='3'>\n"
     ]
    }
   ],
   "source": [
    "#12.Write a Python program where a string will start with a specific number. \n",
    "\n",
    "import re\n",
    "\n",
    "string= '3abc 4priya 9pandey 8ram'\n",
    "\n",
    "pattern= '^3'\n",
    "\n",
    "result= re.match(pattern, string)\n",
    "\n",
    "print(result)"
   ]
  },
  {
   "cell_type": "code",
   "execution_count": 51,
   "id": "04dc81f0",
   "metadata": {},
   "outputs": [
    {
     "name": "stdout",
     "output_type": "stream",
     "text": [
      "6.24.7.78.9\n"
     ]
    }
   ],
   "source": [
    "#13. Write a Python program to remove leading zeros from an IP address\n",
    "\n",
    "import re\n",
    "\n",
    "string= '06.24.07.78.09'\n",
    "\n",
    "pattern= r'\\b0+(\\d)'\n",
    "\n",
    "replace= r'\\1'\n",
    "\n",
    "result= re.sub(pattern,replace,string)\n",
    "\n",
    "print(result)"
   ]
  },
  {
   "cell_type": "code",
   "execution_count": null,
   "id": "5c4ff134",
   "metadata": {},
   "outputs": [],
   "source": [
    "#14"
   ]
  },
  {
   "cell_type": "code",
   "execution_count": 54,
   "id": "2b149d4a",
   "metadata": {},
   "outputs": [
    {
     "name": "stdout",
     "output_type": "stream",
     "text": [
      "fox The quick brown fox jumps over the lazy dog.\n",
      "Matched\n",
      "dog The quick brown fox jumps over the lazy dog.\n",
      "Matched\n",
      "horse The quick brown fox jumps over the lazy dog.\n",
      "Not Matched\n"
     ]
    }
   ],
   "source": [
    "#15.Write a Python program to search some literals strings in a string. \n",
    "\n",
    "import re\n",
    "\n",
    "string= 'The quick brown fox jumps over the lazy dog.'\n",
    "\n",
    "patterns= ['fox','dog','horse']\n",
    "\n",
    "for pattern in patterns:\n",
    "    print(pattern, string),\n",
    "    if re.search(pattern,string):\n",
    "        print('Matched')\n",
    "    else:\n",
    "        print('Not Matched')"
   ]
  },
  {
   "cell_type": "code",
   "execution_count": 1,
   "id": "699750a2",
   "metadata": {},
   "outputs": [
    {
     "name": "stdout",
     "output_type": "stream",
     "text": [
      "<re.Match object; span=(16, 19), match='fox'>\n"
     ]
    }
   ],
   "source": [
    "#16.Write a Python program to search a literals string in a string and also find the location within the original string where the pattern occurs\n",
    "\n",
    "import re\n",
    "\n",
    "string= 'The quick brown fox jumps over the lazy dog.'\n",
    "\n",
    "pattern= 'fox'\n",
    "\n",
    "match= re.search(pattern,string)\n",
    "\n",
    "print(match)\n"
   ]
  },
  {
   "cell_type": "code",
   "execution_count": 2,
   "id": "33b666fd",
   "metadata": {},
   "outputs": [
    {
     "name": "stdout",
     "output_type": "stream",
     "text": [
      "exercises\n",
      "exercises\n",
      "exercises\n"
     ]
    }
   ],
   "source": [
    "#17.Write a Python program to find the substrings within a string.\n",
    "import re \n",
    "\n",
    "string= 'Python exercises, PHP exercises, C# exercises'\n",
    "\n",
    "pattern= 'exercises'\n",
    "\n",
    "for match in re.findall(pattern, string):\n",
    "    \n",
    "    print(match)"
   ]
  },
  {
   "cell_type": "code",
   "execution_count": 7,
   "id": "3760c050",
   "metadata": {},
   "outputs": [
    {
     "name": "stdout",
     "output_type": "stream",
     "text": [
      "<re.Match object; span=(18, 22), match='July'>\n",
      "<re.Match object; span=(0, 4), match='July'>\n"
     ]
    }
   ],
   "source": [
    "#18.Write a Python program to find the occurrence and position of the substrings within a string.\n",
    "\n",
    "import re \n",
    "\n",
    "string= [\"Priya was born on July 20.\", \"July is month of greenery\"]\n",
    "\n",
    "for month in string:\n",
    "    search= re.search(\"July\", month)\n",
    "    print(search)\n"
   ]
  },
  {
   "cell_type": "code",
   "execution_count": 25,
   "id": "68e76bfc",
   "metadata": {},
   "outputs": [
    {
     "name": "stdout",
     "output_type": "stream",
     "text": [
      "09-06-2023\n"
     ]
    }
   ],
   "source": [
    "#19.Write a Python program to convert a date of yyyy-mm-dd format to dd-mm-yyyy format.\n",
    "\n",
    "import re\n",
    "\n",
    "string= '2023-06-09'\n",
    "\n",
    "pattern= r'(\\d{4})-(\\d{1,2})-(\\d{1,2})'\n",
    "\n",
    "replace= '\\\\3-\\\\2-\\\\1'\n",
    "\n",
    "result= re.sub(pattern, replace, string)\n",
    "\n",
    "print(result)\n"
   ]
  },
  {
   "cell_type": "code",
   "execution_count": 1,
   "id": "ec8597d1",
   "metadata": {},
   "outputs": [
    {
     "name": "stdout",
     "output_type": "stream",
     "text": [
      "['28.45', '10.3', '34.55', '60.8']\n"
     ]
    }
   ],
   "source": [
    "#20.Create a function in python to find all decimal numbers with a precision of 1 or 2 in a string. The use of the re.compile() method is mandatory.\n",
    "\n",
    "import re\n",
    "\n",
    "string= 'Quantity are 28.45, 10.3, 34.55, 60.8'\n",
    "\n",
    "pattern= re.compile('\\d+\\.\\d{1,2}')\n",
    "\n",
    "result= re.findall(pattern,string)\n",
    "\n",
    "print(result)\n"
   ]
  },
  {
   "cell_type": "code",
   "execution_count": 26,
   "id": "8fd3263d",
   "metadata": {},
   "outputs": [
    {
     "name": "stdout",
     "output_type": "stream",
     "text": [
      "30\n",
      "Index position: 17\n"
     ]
    }
   ],
   "source": [
    "#21.Write a Python program to separate and print the numbers and their position of a given string.\n",
    "\n",
    "import re\n",
    "\n",
    "string= \"Ram has purchase 30 dozens of apple.\"\n",
    "\n",
    "result= re.finditer(\"\\d+\", string)\n",
    "\n",
    "for match_obj in result:\n",
    "    \n",
    "    print(match_obj.group(0))\n",
    "    \n",
    "    print(\"Index position:\", match_obj.start())"
   ]
  },
  {
   "cell_type": "code",
   "execution_count": 28,
   "id": "05d972f5",
   "metadata": {},
   "outputs": [
    {
     "name": "stdout",
     "output_type": "stream",
     "text": [
      "950\n"
     ]
    }
   ],
   "source": [
    "#22.Write a regular expression in python program to extract maximum/largest numeric value from a string.\n",
    "\n",
    "import re\n",
    "\n",
    "string= 'My marks in each semester are: 947, 896, 926, 524, 734, 950, 642'\n",
    "\n",
    "num= re.findall(r'\\d+', string)\n",
    "\n",
    "num= [int(value) for value in num]\n",
    "\n",
    "max_marks= max(num)\n",
    "\n",
    "print(max_marks)"
   ]
  },
  {
   "cell_type": "code",
   "execution_count": 38,
   "id": "be7f27dd",
   "metadata": {},
   "outputs": [
    {
     "name": "stdout",
     "output_type": "stream",
     "text": [
      "['Regular', 'Expression', 'Is', 'An', 'Important', 'Topic', 'In', 'Python']\n"
     ]
    }
   ],
   "source": [
    "#23.Create a function in python to insert spaces between words starting with capital letters.\n",
    "\n",
    "import re\n",
    "\n",
    "string= 'RegularExpressionIsAnImportantTopicInPython'\n",
    "\n",
    "result= re.findall('[A-Z][a-z]*', string)\n",
    "\n",
    "print(result)"
   ]
  },
  {
   "cell_type": "code",
   "execution_count": 3,
   "id": "c8e4fc8c",
   "metadata": {},
   "outputs": [
    {
     "name": "stdout",
     "output_type": "stream",
     "text": [
      "['Honesty', 'Policy']\n"
     ]
    }
   ],
   "source": [
    "#24.Python regex to find sequences of one upper case letter followed by lower case letters\n",
    "\n",
    "import re\n",
    "\n",
    "string= 'Honesty is the BEST Policy'\n",
    "\n",
    "pattern= r'[A-Z][a-z]+'\n",
    "\n",
    "result= re.findall(pattern,string)\n",
    "\n",
    "print(result)"
   ]
  },
  {
   "cell_type": "code",
   "execution_count": 24,
   "id": "54628f7d",
   "metadata": {},
   "outputs": [
    {
     "name": "stdout",
     "output_type": "stream",
     "text": [
      "Hello hello world\n"
     ]
    }
   ],
   "source": [
    "#25.Write a Python program to remove continuous duplicate words from Sentence using Regular Expression.\n",
    "\n",
    "import re\n",
    "\n",
    "string= 'Hello hello world world'\n",
    "\n",
    "pattern= r'\\b(\\w+)\\s+\\1\\b'\n",
    "\n",
    "replace= r'\\1'\n",
    "\n",
    "result= re.sub(pattern, replace, string)\n",
    "\n",
    "print(result)"
   ]
  },
  {
   "cell_type": "code",
   "execution_count": 13,
   "id": "78e21bce",
   "metadata": {},
   "outputs": [
    {
     "name": "stdout",
     "output_type": "stream",
     "text": [
      "<re.Match object; span=(0, 21), match='Hello4 Priya06 howdy4'>\n"
     ]
    }
   ],
   "source": [
    "#26.Write a python program using RegEx to accept string ending with alphanumeric character.\n",
    "\n",
    "import re\n",
    "\n",
    "string= 'Hello4 Priya06 howdy4'\n",
    "\n",
    "pattern= r'^.*[a-zA-Z0-9]$'\n",
    "\n",
    "result= re.match(pattern, string)\n",
    "\n",
    "print(result)"
   ]
  },
  {
   "cell_type": "code",
   "execution_count": null,
   "id": "03ef281c",
   "metadata": {},
   "outputs": [],
   "source": [
    "#27"
   ]
  },
  {
   "cell_type": "code",
   "execution_count": null,
   "id": "555d89e1",
   "metadata": {},
   "outputs": [],
   "source": [
    "#28"
   ]
  },
  {
   "cell_type": "code",
   "execution_count": null,
   "id": "3cd0cc49",
   "metadata": {},
   "outputs": [],
   "source": [
    "#29"
   ]
  },
  {
   "cell_type": "code",
   "execution_count": 23,
   "id": "4e953988",
   "metadata": {},
   "outputs": [
    {
     "name": "stdout",
     "output_type": "stream",
     "text": [
      " following example creates  ArrayList  a capacity   elements. 4 elements   added   ArrayList   ArrayList  trimmed accordingly.\n"
     ]
    }
   ],
   "source": [
    "#30.Create a function in python to remove all words from a string of length between 2 and 4.The use of the re.compile() method is mandatory.\n",
    "\n",
    "import re\n",
    "\n",
    "string= 'The following example creates an ArrayList with a capacity of 50 elements. 4 elements are then added to the ArrayList and the ArrayList is trimmed accordingly.'\n",
    "\n",
    "pattern= r'\\b\\w{2,4}\\b'\n",
    "\n",
    "replace= ''\n",
    "\n",
    "result= re.sub(pattern, replace, string)\n",
    "\n",
    "print(result)"
   ]
  },
  {
   "cell_type": "code",
   "execution_count": null,
   "id": "3b32c261",
   "metadata": {},
   "outputs": [],
   "source": []
  }
 ],
 "metadata": {
  "kernelspec": {
   "display_name": "Python 3 (ipykernel)",
   "language": "python",
   "name": "python3"
  },
  "language_info": {
   "codemirror_mode": {
    "name": "ipython",
    "version": 3
   },
   "file_extension": ".py",
   "mimetype": "text/x-python",
   "name": "python",
   "nbconvert_exporter": "python",
   "pygments_lexer": "ipython3",
   "version": "3.9.13"
  }
 },
 "nbformat": 4,
 "nbformat_minor": 5
}
