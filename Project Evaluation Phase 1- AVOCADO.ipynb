{
 "cells": [
  {
   "cell_type": "code",
   "execution_count": 1,
   "id": "787154ff",
   "metadata": {},
   "outputs": [],
   "source": [
    "import pandas as pd\n",
    "import numpy as np\n",
    "from sklearn.preprocessing import StandardScaler\n",
    "from sklearn.linear_model import LogisticRegression\n",
    "from sklearn.model_selection import train_test_split\n",
    "from statsmodels.stats.outliers_influence import variance_inflation_factor\n",
    "from sklearn.metrics import accuracy_score, confusion_matrix, roc_curve, roc_auc_score\n",
    "import seaborn as sns\n",
    "import matplotlib.pyplot as plt\n",
    "import warnings\n",
    "warnings.filterwarnings('ignore')"
   ]
  },
  {
   "cell_type": "markdown",
   "id": "96de30aa",
   "metadata": {},
   "source": [
    "Need to update required libraries first"
   ]
  },
  {
   "cell_type": "code",
   "execution_count": 3,
   "id": "aee016c3",
   "metadata": {},
   "outputs": [
    {
     "data": {
      "text/html": [
       "<div>\n",
       "<style scoped>\n",
       "    .dataframe tbody tr th:only-of-type {\n",
       "        vertical-align: middle;\n",
       "    }\n",
       "\n",
       "    .dataframe tbody tr th {\n",
       "        vertical-align: top;\n",
       "    }\n",
       "\n",
       "    .dataframe thead th {\n",
       "        text-align: right;\n",
       "    }\n",
       "</style>\n",
       "<table border=\"1\" class=\"dataframe\">\n",
       "  <thead>\n",
       "    <tr style=\"text-align: right;\">\n",
       "      <th></th>\n",
       "      <th>Unnamed: 0</th>\n",
       "      <th>Date</th>\n",
       "      <th>AveragePrice</th>\n",
       "      <th>Total Volume</th>\n",
       "      <th>4046</th>\n",
       "      <th>4225</th>\n",
       "      <th>4770</th>\n",
       "      <th>Total Bags</th>\n",
       "      <th>Small Bags</th>\n",
       "      <th>Large Bags</th>\n",
       "      <th>XLarge Bags</th>\n",
       "      <th>type</th>\n",
       "      <th>year</th>\n",
       "      <th>region</th>\n",
       "    </tr>\n",
       "  </thead>\n",
       "  <tbody>\n",
       "    <tr>\n",
       "      <th>0</th>\n",
       "      <td>0.0</td>\n",
       "      <td>27-12-2015</td>\n",
       "      <td>1.33</td>\n",
       "      <td>64236.62</td>\n",
       "      <td>1036.74</td>\n",
       "      <td>54454.85</td>\n",
       "      <td>48.16</td>\n",
       "      <td>8696.87</td>\n",
       "      <td>8603.62</td>\n",
       "      <td>93.25</td>\n",
       "      <td>0.0</td>\n",
       "      <td>conventional</td>\n",
       "      <td>2015.0</td>\n",
       "      <td>Albany</td>\n",
       "    </tr>\n",
       "    <tr>\n",
       "      <th>1</th>\n",
       "      <td>1.0</td>\n",
       "      <td>20-12-2015</td>\n",
       "      <td>1.35</td>\n",
       "      <td>54876.98</td>\n",
       "      <td>674.28</td>\n",
       "      <td>44638.81</td>\n",
       "      <td>58.33</td>\n",
       "      <td>9505.56</td>\n",
       "      <td>9408.07</td>\n",
       "      <td>97.49</td>\n",
       "      <td>0.0</td>\n",
       "      <td>conventional</td>\n",
       "      <td>2015.0</td>\n",
       "      <td>Albany</td>\n",
       "    </tr>\n",
       "    <tr>\n",
       "      <th>2</th>\n",
       "      <td>2.0</td>\n",
       "      <td>13-12-2015</td>\n",
       "      <td>0.93</td>\n",
       "      <td>118220.22</td>\n",
       "      <td>794.70</td>\n",
       "      <td>109149.67</td>\n",
       "      <td>130.50</td>\n",
       "      <td>8145.35</td>\n",
       "      <td>8042.21</td>\n",
       "      <td>103.14</td>\n",
       "      <td>0.0</td>\n",
       "      <td>conventional</td>\n",
       "      <td>2015.0</td>\n",
       "      <td>Albany</td>\n",
       "    </tr>\n",
       "    <tr>\n",
       "      <th>3</th>\n",
       "      <td>3.0</td>\n",
       "      <td>06-12-2015</td>\n",
       "      <td>1.08</td>\n",
       "      <td>78992.15</td>\n",
       "      <td>1132.00</td>\n",
       "      <td>71976.41</td>\n",
       "      <td>72.58</td>\n",
       "      <td>5811.16</td>\n",
       "      <td>5677.40</td>\n",
       "      <td>133.76</td>\n",
       "      <td>0.0</td>\n",
       "      <td>conventional</td>\n",
       "      <td>2015.0</td>\n",
       "      <td>Albany</td>\n",
       "    </tr>\n",
       "    <tr>\n",
       "      <th>4</th>\n",
       "      <td>4.0</td>\n",
       "      <td>29-11-2015</td>\n",
       "      <td>1.28</td>\n",
       "      <td>51039.60</td>\n",
       "      <td>941.48</td>\n",
       "      <td>43838.39</td>\n",
       "      <td>75.78</td>\n",
       "      <td>6183.95</td>\n",
       "      <td>5986.26</td>\n",
       "      <td>197.69</td>\n",
       "      <td>0.0</td>\n",
       "      <td>conventional</td>\n",
       "      <td>2015.0</td>\n",
       "      <td>Albany</td>\n",
       "    </tr>\n",
       "    <tr>\n",
       "      <th>...</th>\n",
       "      <td>...</td>\n",
       "      <td>...</td>\n",
       "      <td>...</td>\n",
       "      <td>...</td>\n",
       "      <td>...</td>\n",
       "      <td>...</td>\n",
       "      <td>...</td>\n",
       "      <td>...</td>\n",
       "      <td>...</td>\n",
       "      <td>...</td>\n",
       "      <td>...</td>\n",
       "      <td>...</td>\n",
       "      <td>...</td>\n",
       "      <td>...</td>\n",
       "    </tr>\n",
       "    <tr>\n",
       "      <th>16463</th>\n",
       "      <td>NaN</td>\n",
       "      <td>NaN</td>\n",
       "      <td>NaN</td>\n",
       "      <td>NaN</td>\n",
       "      <td>NaN</td>\n",
       "      <td>NaN</td>\n",
       "      <td>NaN</td>\n",
       "      <td>NaN</td>\n",
       "      <td>NaN</td>\n",
       "      <td>NaN</td>\n",
       "      <td>NaN</td>\n",
       "      <td>NaN</td>\n",
       "      <td>NaN</td>\n",
       "      <td>NaN</td>\n",
       "    </tr>\n",
       "    <tr>\n",
       "      <th>16464</th>\n",
       "      <td>NaN</td>\n",
       "      <td>NaN</td>\n",
       "      <td>NaN</td>\n",
       "      <td>NaN</td>\n",
       "      <td>NaN</td>\n",
       "      <td>NaN</td>\n",
       "      <td>NaN</td>\n",
       "      <td>NaN</td>\n",
       "      <td>NaN</td>\n",
       "      <td>NaN</td>\n",
       "      <td>NaN</td>\n",
       "      <td>NaN</td>\n",
       "      <td>NaN</td>\n",
       "      <td>NaN</td>\n",
       "    </tr>\n",
       "    <tr>\n",
       "      <th>16465</th>\n",
       "      <td>NaN</td>\n",
       "      <td>NaN</td>\n",
       "      <td>NaN</td>\n",
       "      <td>NaN</td>\n",
       "      <td>NaN</td>\n",
       "      <td>NaN</td>\n",
       "      <td>NaN</td>\n",
       "      <td>NaN</td>\n",
       "      <td>NaN</td>\n",
       "      <td>NaN</td>\n",
       "      <td>NaN</td>\n",
       "      <td>NaN</td>\n",
       "      <td>NaN</td>\n",
       "      <td>NaN</td>\n",
       "    </tr>\n",
       "    <tr>\n",
       "      <th>16466</th>\n",
       "      <td>NaN</td>\n",
       "      <td>NaN</td>\n",
       "      <td>NaN</td>\n",
       "      <td>NaN</td>\n",
       "      <td>NaN</td>\n",
       "      <td>NaN</td>\n",
       "      <td>NaN</td>\n",
       "      <td>NaN</td>\n",
       "      <td>NaN</td>\n",
       "      <td>NaN</td>\n",
       "      <td>NaN</td>\n",
       "      <td>NaN</td>\n",
       "      <td>NaN</td>\n",
       "      <td>NaN</td>\n",
       "    </tr>\n",
       "    <tr>\n",
       "      <th>16467</th>\n",
       "      <td>NaN</td>\n",
       "      <td>NaN</td>\n",
       "      <td>NaN</td>\n",
       "      <td>NaN</td>\n",
       "      <td>NaN</td>\n",
       "      <td>NaN</td>\n",
       "      <td>NaN</td>\n",
       "      <td>NaN</td>\n",
       "      <td>NaN</td>\n",
       "      <td>NaN</td>\n",
       "      <td>NaN</td>\n",
       "      <td>NaN</td>\n",
       "      <td>NaN</td>\n",
       "      <td>NaN</td>\n",
       "    </tr>\n",
       "  </tbody>\n",
       "</table>\n",
       "<p>16468 rows × 14 columns</p>\n",
       "</div>"
      ],
      "text/plain": [
       "       Unnamed: 0        Date  AveragePrice  Total Volume     4046       4225  \\\n",
       "0             0.0  27-12-2015          1.33      64236.62  1036.74   54454.85   \n",
       "1             1.0  20-12-2015          1.35      54876.98   674.28   44638.81   \n",
       "2             2.0  13-12-2015          0.93     118220.22   794.70  109149.67   \n",
       "3             3.0  06-12-2015          1.08      78992.15  1132.00   71976.41   \n",
       "4             4.0  29-11-2015          1.28      51039.60   941.48   43838.39   \n",
       "...           ...         ...           ...           ...      ...        ...   \n",
       "16463         NaN         NaN           NaN           NaN      NaN        NaN   \n",
       "16464         NaN         NaN           NaN           NaN      NaN        NaN   \n",
       "16465         NaN         NaN           NaN           NaN      NaN        NaN   \n",
       "16466         NaN         NaN           NaN           NaN      NaN        NaN   \n",
       "16467         NaN         NaN           NaN           NaN      NaN        NaN   \n",
       "\n",
       "         4770  Total Bags  Small Bags  Large Bags  XLarge Bags          type  \\\n",
       "0       48.16     8696.87     8603.62       93.25          0.0  conventional   \n",
       "1       58.33     9505.56     9408.07       97.49          0.0  conventional   \n",
       "2      130.50     8145.35     8042.21      103.14          0.0  conventional   \n",
       "3       72.58     5811.16     5677.40      133.76          0.0  conventional   \n",
       "4       75.78     6183.95     5986.26      197.69          0.0  conventional   \n",
       "...       ...         ...         ...         ...          ...           ...   \n",
       "16463     NaN         NaN         NaN         NaN          NaN           NaN   \n",
       "16464     NaN         NaN         NaN         NaN          NaN           NaN   \n",
       "16465     NaN         NaN         NaN         NaN          NaN           NaN   \n",
       "16466     NaN         NaN         NaN         NaN          NaN           NaN   \n",
       "16467     NaN         NaN         NaN         NaN          NaN           NaN   \n",
       "\n",
       "         year  region  \n",
       "0      2015.0  Albany  \n",
       "1      2015.0  Albany  \n",
       "2      2015.0  Albany  \n",
       "3      2015.0  Albany  \n",
       "4      2015.0  Albany  \n",
       "...       ...     ...  \n",
       "16463     NaN     NaN  \n",
       "16464     NaN     NaN  \n",
       "16465     NaN     NaN  \n",
       "16466     NaN     NaN  \n",
       "16467     NaN     NaN  \n",
       "\n",
       "[16468 rows x 14 columns]"
      ]
     },
     "execution_count": 3,
     "metadata": {},
     "output_type": "execute_result"
    }
   ],
   "source": [
    "df= pd.read_csv('https://raw.githubusercontent.com/dsrscientist/Data-Science-ML-Capstone-Projects/master/avocado.csv')\n",
    "df"
   ]
  },
  {
   "cell_type": "markdown",
   "id": "ed74f390",
   "metadata": {},
   "source": [
    "Here we have to read csv file to get the dataset to proceed further"
   ]
  },
  {
   "cell_type": "code",
   "execution_count": 4,
   "id": "e7d18c9d",
   "metadata": {},
   "outputs": [
    {
     "data": {
      "text/plain": [
       "Unnamed: 0      14951\n",
       "Date            14951\n",
       "AveragePrice    14951\n",
       "Total Volume    14951\n",
       "4046            14951\n",
       "4225            14951\n",
       "4770            14951\n",
       "Total Bags      14951\n",
       "Small Bags      14951\n",
       "Large Bags      14951\n",
       "XLarge Bags     14951\n",
       "type            14951\n",
       "year            14951\n",
       "region          14951\n",
       "dtype: int64"
      ]
     },
     "execution_count": 4,
     "metadata": {},
     "output_type": "execute_result"
    }
   ],
   "source": [
    "df.isnull().sum()"
   ]
  },
  {
   "cell_type": "markdown",
   "id": "44fd65c2",
   "metadata": {},
   "source": [
    "Need to check the null values from the dataset so that we can proceed next"
   ]
  },
  {
   "cell_type": "code",
   "execution_count": 6,
   "id": "ee1131de",
   "metadata": {},
   "outputs": [],
   "source": [
    "df['Date'].fillna(df['Date'].mode()[0], inplace=True)"
   ]
  },
  {
   "cell_type": "code",
   "execution_count": 7,
   "id": "0b4a8d99",
   "metadata": {},
   "outputs": [
    {
     "name": "stdout",
     "output_type": "stream",
     "text": [
      "       Id_number        Date  AveragePrice  Total Volume     4046       4225  \\\n",
      "0            0.0  27-12-2015          1.33      64236.62  1036.74   54454.85   \n",
      "1            1.0  20-12-2015          1.35      54876.98   674.28   44638.81   \n",
      "2            2.0  13-12-2015          0.93     118220.22   794.70  109149.67   \n",
      "3            3.0  06-12-2015          1.08      78992.15  1132.00   71976.41   \n",
      "4            4.0  29-11-2015          1.28      51039.60   941.48   43838.39   \n",
      "...          ...         ...           ...           ...      ...        ...   \n",
      "16463        NaN  05-04-2015           NaN           NaN      NaN        NaN   \n",
      "16464        NaN  05-04-2015           NaN           NaN      NaN        NaN   \n",
      "16465        NaN  05-04-2015           NaN           NaN      NaN        NaN   \n",
      "16466        NaN  05-04-2015           NaN           NaN      NaN        NaN   \n",
      "16467        NaN  05-04-2015           NaN           NaN      NaN        NaN   \n",
      "\n",
      "         4770  Total Bags  Small Bags  Large Bags  XLarge Bags          type  \\\n",
      "0       48.16     8696.87     8603.62       93.25          0.0  conventional   \n",
      "1       58.33     9505.56     9408.07       97.49          0.0  conventional   \n",
      "2      130.50     8145.35     8042.21      103.14          0.0  conventional   \n",
      "3       72.58     5811.16     5677.40      133.76          0.0  conventional   \n",
      "4       75.78     6183.95     5986.26      197.69          0.0  conventional   \n",
      "...       ...         ...         ...         ...          ...           ...   \n",
      "16463     NaN         NaN         NaN         NaN          NaN           NaN   \n",
      "16464     NaN         NaN         NaN         NaN          NaN           NaN   \n",
      "16465     NaN         NaN         NaN         NaN          NaN           NaN   \n",
      "16466     NaN         NaN         NaN         NaN          NaN           NaN   \n",
      "16467     NaN         NaN         NaN         NaN          NaN           NaN   \n",
      "\n",
      "         year  region  \n",
      "0      2015.0  Albany  \n",
      "1      2015.0  Albany  \n",
      "2      2015.0  Albany  \n",
      "3      2015.0  Albany  \n",
      "4      2015.0  Albany  \n",
      "...       ...     ...  \n",
      "16463     NaN     NaN  \n",
      "16464     NaN     NaN  \n",
      "16465     NaN     NaN  \n",
      "16466     NaN     NaN  \n",
      "16467     NaN     NaN  \n",
      "\n",
      "[16468 rows x 14 columns]\n"
     ]
    }
   ],
   "source": [
    "df= df.rename(columns={'Unnamed: 0': 'Id_number'})\n",
    "print(df)"
   ]
  },
  {
   "cell_type": "markdown",
   "id": "3f0a8d3b",
   "metadata": {},
   "source": [
    "Here I have rename the column unnamed as ID_number"
   ]
  },
  {
   "cell_type": "code",
   "execution_count": 8,
   "id": "4588021a",
   "metadata": {},
   "outputs": [
    {
     "data": {
      "text/plain": [
       "(16468, 14)"
      ]
     },
     "execution_count": 8,
     "metadata": {},
     "output_type": "execute_result"
    }
   ],
   "source": [
    "df.shape"
   ]
  },
  {
   "cell_type": "code",
   "execution_count": 9,
   "id": "dc6213d1",
   "metadata": {},
   "outputs": [],
   "source": [
    "df['Id_number'].fillna(df['Id_number'].mode()[0], inplace=True)"
   ]
  },
  {
   "cell_type": "code",
   "execution_count": 10,
   "id": "ca66a719",
   "metadata": {},
   "outputs": [],
   "source": [
    "df['AveragePrice'].fillna(df['AveragePrice'].mode()[0], inplace=True)"
   ]
  },
  {
   "cell_type": "code",
   "execution_count": 11,
   "id": "e9670f32",
   "metadata": {},
   "outputs": [],
   "source": [
    "df['Total Volume'].fillna(df['Total Volume'].mode()[0], inplace=True)"
   ]
  },
  {
   "cell_type": "code",
   "execution_count": 12,
   "id": "9f187a0f",
   "metadata": {},
   "outputs": [],
   "source": [
    "df['4046'].fillna(df['4046'].mode()[0], inplace=True)"
   ]
  },
  {
   "cell_type": "code",
   "execution_count": 13,
   "id": "0295cb8c",
   "metadata": {},
   "outputs": [],
   "source": [
    "df['4225'].fillna(df['4225'].mode()[0], inplace=True)"
   ]
  },
  {
   "cell_type": "code",
   "execution_count": 14,
   "id": "0797dfa6",
   "metadata": {},
   "outputs": [],
   "source": [
    "df['4770'].fillna(df['4770'].mode()[0], inplace=True)"
   ]
  },
  {
   "cell_type": "code",
   "execution_count": 15,
   "id": "fd59b451",
   "metadata": {},
   "outputs": [],
   "source": [
    "df['Total Bags'].fillna(df['Total Bags'].mode()[0], inplace=True)"
   ]
  },
  {
   "cell_type": "code",
   "execution_count": 16,
   "id": "a3ec2d25",
   "metadata": {},
   "outputs": [],
   "source": [
    "df['Small Bags'].fillna(df['Small Bags'].mode()[0], inplace=True)"
   ]
  },
  {
   "cell_type": "code",
   "execution_count": 17,
   "id": "36a2040d",
   "metadata": {},
   "outputs": [],
   "source": [
    "df['Large Bags'].fillna(df['Large Bags'].mode()[0], inplace=True)"
   ]
  },
  {
   "cell_type": "code",
   "execution_count": 18,
   "id": "440e034f",
   "metadata": {},
   "outputs": [],
   "source": [
    "df['XLarge Bags'].fillna(df['XLarge Bags'].mode()[0], inplace=True)"
   ]
  },
  {
   "cell_type": "code",
   "execution_count": 19,
   "id": "c64de220",
   "metadata": {},
   "outputs": [],
   "source": [
    "df['type'].fillna(df['type'].mode()[0], inplace=True)"
   ]
  },
  {
   "cell_type": "code",
   "execution_count": 20,
   "id": "65f9f9df",
   "metadata": {},
   "outputs": [],
   "source": [
    "df['year'].fillna(df['year'].mode()[0], inplace=True)"
   ]
  },
  {
   "cell_type": "code",
   "execution_count": 21,
   "id": "d5c791b3",
   "metadata": {},
   "outputs": [],
   "source": [
    "df['region'].fillna(df['region'].mode()[0], inplace=True)"
   ]
  },
  {
   "cell_type": "code",
   "execution_count": 22,
   "id": "e22bc519",
   "metadata": {},
   "outputs": [
    {
     "data": {
      "text/plain": [
       "Id_number       0\n",
       "Date            0\n",
       "AveragePrice    0\n",
       "Total Volume    0\n",
       "4046            0\n",
       "4225            0\n",
       "4770            0\n",
       "Total Bags      0\n",
       "Small Bags      0\n",
       "Large Bags      0\n",
       "XLarge Bags     0\n",
       "type            0\n",
       "year            0\n",
       "region          0\n",
       "dtype: int64"
      ]
     },
     "execution_count": 22,
     "metadata": {},
     "output_type": "execute_result"
    }
   ],
   "source": [
    "df.isnull().sum()"
   ]
  },
  {
   "cell_type": "markdown",
   "id": "23eae056",
   "metadata": {},
   "source": [
    "Now we have removed all the null values from the dataset so that we can continue with or dataset to get the result"
   ]
  },
  {
   "cell_type": "code",
   "execution_count": 23,
   "id": "52455069",
   "metadata": {},
   "outputs": [
    {
     "data": {
      "text/html": [
       "<div>\n",
       "<style scoped>\n",
       "    .dataframe tbody tr th:only-of-type {\n",
       "        vertical-align: middle;\n",
       "    }\n",
       "\n",
       "    .dataframe tbody tr th {\n",
       "        vertical-align: top;\n",
       "    }\n",
       "\n",
       "    .dataframe thead th {\n",
       "        text-align: right;\n",
       "    }\n",
       "</style>\n",
       "<table border=\"1\" class=\"dataframe\">\n",
       "  <thead>\n",
       "    <tr style=\"text-align: right;\">\n",
       "      <th></th>\n",
       "      <th>Id_number</th>\n",
       "      <th>Date</th>\n",
       "      <th>AveragePrice</th>\n",
       "      <th>Total Volume</th>\n",
       "      <th>4046</th>\n",
       "      <th>4225</th>\n",
       "      <th>4770</th>\n",
       "      <th>Total Bags</th>\n",
       "      <th>Small Bags</th>\n",
       "      <th>Large Bags</th>\n",
       "      <th>XLarge Bags</th>\n",
       "      <th>type</th>\n",
       "      <th>year</th>\n",
       "      <th>region</th>\n",
       "    </tr>\n",
       "  </thead>\n",
       "  <tbody>\n",
       "    <tr>\n",
       "      <th>0</th>\n",
       "      <td>0.0</td>\n",
       "      <td>27-12-2015</td>\n",
       "      <td>1.33</td>\n",
       "      <td>64236.62</td>\n",
       "      <td>1036.74</td>\n",
       "      <td>54454.85</td>\n",
       "      <td>48.16</td>\n",
       "      <td>8696.87</td>\n",
       "      <td>8603.62</td>\n",
       "      <td>93.25</td>\n",
       "      <td>0.0</td>\n",
       "      <td>conventional</td>\n",
       "      <td>2015.0</td>\n",
       "      <td>Albany</td>\n",
       "    </tr>\n",
       "    <tr>\n",
       "      <th>1</th>\n",
       "      <td>1.0</td>\n",
       "      <td>20-12-2015</td>\n",
       "      <td>1.35</td>\n",
       "      <td>54876.98</td>\n",
       "      <td>674.28</td>\n",
       "      <td>44638.81</td>\n",
       "      <td>58.33</td>\n",
       "      <td>9505.56</td>\n",
       "      <td>9408.07</td>\n",
       "      <td>97.49</td>\n",
       "      <td>0.0</td>\n",
       "      <td>conventional</td>\n",
       "      <td>2015.0</td>\n",
       "      <td>Albany</td>\n",
       "    </tr>\n",
       "    <tr>\n",
       "      <th>2</th>\n",
       "      <td>2.0</td>\n",
       "      <td>13-12-2015</td>\n",
       "      <td>0.93</td>\n",
       "      <td>118220.22</td>\n",
       "      <td>794.70</td>\n",
       "      <td>109149.67</td>\n",
       "      <td>130.50</td>\n",
       "      <td>8145.35</td>\n",
       "      <td>8042.21</td>\n",
       "      <td>103.14</td>\n",
       "      <td>0.0</td>\n",
       "      <td>conventional</td>\n",
       "      <td>2015.0</td>\n",
       "      <td>Albany</td>\n",
       "    </tr>\n",
       "    <tr>\n",
       "      <th>3</th>\n",
       "      <td>3.0</td>\n",
       "      <td>06-12-2015</td>\n",
       "      <td>1.08</td>\n",
       "      <td>78992.15</td>\n",
       "      <td>1132.00</td>\n",
       "      <td>71976.41</td>\n",
       "      <td>72.58</td>\n",
       "      <td>5811.16</td>\n",
       "      <td>5677.40</td>\n",
       "      <td>133.76</td>\n",
       "      <td>0.0</td>\n",
       "      <td>conventional</td>\n",
       "      <td>2015.0</td>\n",
       "      <td>Albany</td>\n",
       "    </tr>\n",
       "    <tr>\n",
       "      <th>4</th>\n",
       "      <td>4.0</td>\n",
       "      <td>29-11-2015</td>\n",
       "      <td>1.28</td>\n",
       "      <td>51039.60</td>\n",
       "      <td>941.48</td>\n",
       "      <td>43838.39</td>\n",
       "      <td>75.78</td>\n",
       "      <td>6183.95</td>\n",
       "      <td>5986.26</td>\n",
       "      <td>197.69</td>\n",
       "      <td>0.0</td>\n",
       "      <td>conventional</td>\n",
       "      <td>2015.0</td>\n",
       "      <td>Albany</td>\n",
       "    </tr>\n",
       "  </tbody>\n",
       "</table>\n",
       "</div>"
      ],
      "text/plain": [
       "   Id_number        Date  AveragePrice  Total Volume     4046       4225  \\\n",
       "0        0.0  27-12-2015          1.33      64236.62  1036.74   54454.85   \n",
       "1        1.0  20-12-2015          1.35      54876.98   674.28   44638.81   \n",
       "2        2.0  13-12-2015          0.93     118220.22   794.70  109149.67   \n",
       "3        3.0  06-12-2015          1.08      78992.15  1132.00   71976.41   \n",
       "4        4.0  29-11-2015          1.28      51039.60   941.48   43838.39   \n",
       "\n",
       "     4770  Total Bags  Small Bags  Large Bags  XLarge Bags          type  \\\n",
       "0   48.16     8696.87     8603.62       93.25          0.0  conventional   \n",
       "1   58.33     9505.56     9408.07       97.49          0.0  conventional   \n",
       "2  130.50     8145.35     8042.21      103.14          0.0  conventional   \n",
       "3   72.58     5811.16     5677.40      133.76          0.0  conventional   \n",
       "4   75.78     6183.95     5986.26      197.69          0.0  conventional   \n",
       "\n",
       "     year  region  \n",
       "0  2015.0  Albany  \n",
       "1  2015.0  Albany  \n",
       "2  2015.0  Albany  \n",
       "3  2015.0  Albany  \n",
       "4  2015.0  Albany  "
      ]
     },
     "execution_count": 23,
     "metadata": {},
     "output_type": "execute_result"
    }
   ],
   "source": [
    "df.head()"
   ]
  },
  {
   "cell_type": "code",
   "execution_count": 24,
   "id": "ddc443fc",
   "metadata": {},
   "outputs": [
    {
     "data": {
      "text/html": [
       "<div>\n",
       "<style scoped>\n",
       "    .dataframe tbody tr th:only-of-type {\n",
       "        vertical-align: middle;\n",
       "    }\n",
       "\n",
       "    .dataframe tbody tr th {\n",
       "        vertical-align: top;\n",
       "    }\n",
       "\n",
       "    .dataframe thead th {\n",
       "        text-align: right;\n",
       "    }\n",
       "</style>\n",
       "<table border=\"1\" class=\"dataframe\">\n",
       "  <thead>\n",
       "    <tr style=\"text-align: right;\">\n",
       "      <th></th>\n",
       "      <th>Id_number</th>\n",
       "      <th>AveragePrice</th>\n",
       "      <th>Total Volume</th>\n",
       "      <th>4046</th>\n",
       "      <th>4225</th>\n",
       "      <th>4770</th>\n",
       "      <th>Total Bags</th>\n",
       "      <th>Small Bags</th>\n",
       "      <th>Large Bags</th>\n",
       "      <th>XLarge Bags</th>\n",
       "      <th>year</th>\n",
       "    </tr>\n",
       "  </thead>\n",
       "  <tbody>\n",
       "    <tr>\n",
       "      <th>count</th>\n",
       "      <td>16468.000000</td>\n",
       "      <td>16468.000000</td>\n",
       "      <td>1.646800e+04</td>\n",
       "      <td>1.646800e+04</td>\n",
       "      <td>1.646800e+04</td>\n",
       "      <td>1.646800e+04</td>\n",
       "      <td>1.646800e+04</td>\n",
       "      <td>1.646800e+04</td>\n",
       "      <td>1.646800e+04</td>\n",
       "      <td>16468.000000</td>\n",
       "      <td>16468.000000</td>\n",
       "    </tr>\n",
       "    <tr>\n",
       "      <th>mean</th>\n",
       "      <td>36.078394</td>\n",
       "      <td>1.079538</td>\n",
       "      <td>1.827431e+05</td>\n",
       "      <td>5.997330e+04</td>\n",
       "      <td>5.794388e+04</td>\n",
       "      <td>4.695622e+03</td>\n",
       "      <td>3.005232e+04</td>\n",
       "      <td>2.592323e+04</td>\n",
       "      <td>3.928102e+03</td>\n",
       "      <td>200.980491</td>\n",
       "      <td>2015.014999</td>\n",
       "    </tr>\n",
       "    <tr>\n",
       "      <th>std</th>\n",
       "      <td>5.354318</td>\n",
       "      <td>0.057331</td>\n",
       "      <td>1.419030e+06</td>\n",
       "      <td>6.197685e+05</td>\n",
       "      <td>5.373405e+05</td>\n",
       "      <td>4.426855e+04</td>\n",
       "      <td>2.448275e+05</td>\n",
       "      <td>2.088886e+05</td>\n",
       "      <td>3.792962e+04</td>\n",
       "      <td>2348.549525</td>\n",
       "      <td>0.121551</td>\n",
       "    </tr>\n",
       "    <tr>\n",
       "      <th>min</th>\n",
       "      <td>0.000000</td>\n",
       "      <td>0.490000</td>\n",
       "      <td>3.875074e+04</td>\n",
       "      <td>4.677200e+02</td>\n",
       "      <td>1.783770e+03</td>\n",
       "      <td>0.000000e+00</td>\n",
       "      <td>3.311770e+03</td>\n",
       "      <td>3.311770e+03</td>\n",
       "      <td>0.000000e+00</td>\n",
       "      <td>0.000000</td>\n",
       "      <td>2015.000000</td>\n",
       "    </tr>\n",
       "    <tr>\n",
       "      <th>25%</th>\n",
       "      <td>37.000000</td>\n",
       "      <td>1.080000</td>\n",
       "      <td>3.875074e+04</td>\n",
       "      <td>4.677200e+02</td>\n",
       "      <td>1.783770e+03</td>\n",
       "      <td>5.768000e+01</td>\n",
       "      <td>3.311770e+03</td>\n",
       "      <td>3.311770e+03</td>\n",
       "      <td>0.000000e+00</td>\n",
       "      <td>0.000000</td>\n",
       "      <td>2015.000000</td>\n",
       "    </tr>\n",
       "    <tr>\n",
       "      <th>50%</th>\n",
       "      <td>37.000000</td>\n",
       "      <td>1.080000</td>\n",
       "      <td>3.875074e+04</td>\n",
       "      <td>4.677200e+02</td>\n",
       "      <td>1.783770e+03</td>\n",
       "      <td>5.768000e+01</td>\n",
       "      <td>3.311770e+03</td>\n",
       "      <td>3.311770e+03</td>\n",
       "      <td>0.000000e+00</td>\n",
       "      <td>0.000000</td>\n",
       "      <td>2015.000000</td>\n",
       "    </tr>\n",
       "    <tr>\n",
       "      <th>75%</th>\n",
       "      <td>37.000000</td>\n",
       "      <td>1.080000</td>\n",
       "      <td>3.875074e+04</td>\n",
       "      <td>4.677200e+02</td>\n",
       "      <td>1.783770e+03</td>\n",
       "      <td>5.768000e+01</td>\n",
       "      <td>3.311770e+03</td>\n",
       "      <td>3.311770e+03</td>\n",
       "      <td>0.000000e+00</td>\n",
       "      <td>0.000000</td>\n",
       "      <td>2015.000000</td>\n",
       "    </tr>\n",
       "    <tr>\n",
       "      <th>max</th>\n",
       "      <td>51.000000</td>\n",
       "      <td>1.680000</td>\n",
       "      <td>4.465546e+07</td>\n",
       "      <td>1.893304e+07</td>\n",
       "      <td>1.895648e+07</td>\n",
       "      <td>1.381516e+06</td>\n",
       "      <td>6.736304e+06</td>\n",
       "      <td>5.893642e+06</td>\n",
       "      <td>1.121076e+06</td>\n",
       "      <td>108072.790000</td>\n",
       "      <td>2016.000000</td>\n",
       "    </tr>\n",
       "  </tbody>\n",
       "</table>\n",
       "</div>"
      ],
      "text/plain": [
       "          Id_number  AveragePrice  Total Volume          4046          4225  \\\n",
       "count  16468.000000  16468.000000  1.646800e+04  1.646800e+04  1.646800e+04   \n",
       "mean      36.078394      1.079538  1.827431e+05  5.997330e+04  5.794388e+04   \n",
       "std        5.354318      0.057331  1.419030e+06  6.197685e+05  5.373405e+05   \n",
       "min        0.000000      0.490000  3.875074e+04  4.677200e+02  1.783770e+03   \n",
       "25%       37.000000      1.080000  3.875074e+04  4.677200e+02  1.783770e+03   \n",
       "50%       37.000000      1.080000  3.875074e+04  4.677200e+02  1.783770e+03   \n",
       "75%       37.000000      1.080000  3.875074e+04  4.677200e+02  1.783770e+03   \n",
       "max       51.000000      1.680000  4.465546e+07  1.893304e+07  1.895648e+07   \n",
       "\n",
       "               4770    Total Bags    Small Bags    Large Bags    XLarge Bags  \\\n",
       "count  1.646800e+04  1.646800e+04  1.646800e+04  1.646800e+04   16468.000000   \n",
       "mean   4.695622e+03  3.005232e+04  2.592323e+04  3.928102e+03     200.980491   \n",
       "std    4.426855e+04  2.448275e+05  2.088886e+05  3.792962e+04    2348.549525   \n",
       "min    0.000000e+00  3.311770e+03  3.311770e+03  0.000000e+00       0.000000   \n",
       "25%    5.768000e+01  3.311770e+03  3.311770e+03  0.000000e+00       0.000000   \n",
       "50%    5.768000e+01  3.311770e+03  3.311770e+03  0.000000e+00       0.000000   \n",
       "75%    5.768000e+01  3.311770e+03  3.311770e+03  0.000000e+00       0.000000   \n",
       "max    1.381516e+06  6.736304e+06  5.893642e+06  1.121076e+06  108072.790000   \n",
       "\n",
       "               year  \n",
       "count  16468.000000  \n",
       "mean    2015.014999  \n",
       "std        0.121551  \n",
       "min     2015.000000  \n",
       "25%     2015.000000  \n",
       "50%     2015.000000  \n",
       "75%     2015.000000  \n",
       "max     2016.000000  "
      ]
     },
     "execution_count": 24,
     "metadata": {},
     "output_type": "execute_result"
    }
   ],
   "source": [
    "df.describe()"
   ]
  },
  {
   "cell_type": "markdown",
   "id": "7e378be3",
   "metadata": {},
   "source": [
    "Here we are using describe to describe the dataset"
   ]
  },
  {
   "cell_type": "code",
   "execution_count": 25,
   "id": "75f871a3",
   "metadata": {},
   "outputs": [
    {
     "name": "stdout",
     "output_type": "stream",
     "text": [
      "Categorical Columns:  ['Date', 'type', 'region']\n",
      "\n",
      "\n",
      "Numerical Columns:  ['Id_number', 'AveragePrice', 'Total Volume', '4046', '4225', '4770', 'Total Bags', 'Small Bags', 'Large Bags', 'XLarge Bags', 'year']\n"
     ]
    }
   ],
   "source": [
    "categorical_col=[]\n",
    "for i in df.dtypes.index:\n",
    "    if df.dtypes[i]==\"object\":\n",
    "        categorical_col.append(i)\n",
    "print(\"Categorical Columns: \", categorical_col)\n",
    "print(\"\\n\")\n",
    "\n",
    "numerical_col=[]\n",
    "for i in df.dtypes.index:\n",
    "    if df.dtypes[i]!=\"object\":\n",
    "        numerical_col.append(i)\n",
    "print(\"Numerical Columns: \", numerical_col)"
   ]
  },
  {
   "cell_type": "markdown",
   "id": "720f85ab",
   "metadata": {},
   "source": [
    "Now we need to check all the data type. As we cannot proceed further with strings therefore we need to convert the categorical data into numerical"
   ]
  },
  {
   "cell_type": "code",
   "execution_count": 26,
   "id": "096cfb2b",
   "metadata": {},
   "outputs": [
    {
     "data": {
      "text/plain": [
       "<AxesSubplot:>"
      ]
     },
     "execution_count": 26,
     "metadata": {},
     "output_type": "execute_result"
    },
    {
     "data": {
      "image/png": "[encoded data removed]",
      "text/plain": [
       "<Figure size 640x480 with 2 Axes>"
      ]
     },
     "metadata": {},
     "output_type": "display_data"
    }
   ],
   "source": [
    "sns.heatmap(df.isnull())"
   ]
  },
  {
   "cell_type": "markdown",
   "id": "ecec18ef",
   "metadata": {},
   "source": [
    "Now we are representing dataset with heatmap"
   ]
  },
  {
   "cell_type": "code",
   "execution_count": 27,
   "id": "8fd6a5da",
   "metadata": {},
   "outputs": [],
   "source": [
    "from sklearn.preprocessing import OrdinalEncoder"
   ]
  },
  {
   "cell_type": "code",
   "execution_count": 28,
   "id": "c367acf4",
   "metadata": {},
   "outputs": [
    {
     "data": {
      "text/plain": [
       "array(['Albany', 'Atlanta', 'BaltimoreWashington', 'Boise', 'Boston',\n",
       "       'BuffaloRochester', 'California', 'Charlotte', 'Chicago',\n",
       "       'Columbus', 'DallasFtWorth', 'Denver', 'Detroit', 'GrandRapids',\n",
       "       'GreatLakes', 'HarrisburgScranton', 'HartfordSpringfield',\n",
       "       'Houston', 'Indianapolis', 'Jacksonville', 'LasVegas',\n",
       "       'LosAngeles', 'Louisville', 'MiamiFtLauderdale', 'Midsouth',\n",
       "       'Nashville', 'NewYork', 'Northeast', 'NorthernNewEngland',\n",
       "       'Orlando', 'Philadelphia', 'PhoenixTucson', 'Pittsburgh', 'Plains',\n",
       "       'Portland', 'RaleighGreensboro', 'RichmondNorfolk', 'Roanoke',\n",
       "       'SanDiego', 'SanFrancisco', 'Seattle', 'SouthCarolina',\n",
       "       'SouthCentral', 'Southeast', 'Spokane', 'StLouis', 'Syracuse',\n",
       "       'Tampa', 'TotalUS', 'West', 'WestTexNewMexico'], dtype=object)"
      ]
     },
     "execution_count": 28,
     "metadata": {},
     "output_type": "execute_result"
    }
   ],
   "source": [
    "df['region'].unique()"
   ]
  },
  {
   "cell_type": "code",
   "execution_count": 31,
   "id": "9885fe85",
   "metadata": {},
   "outputs": [
    {
     "data": {
      "text/plain": [
       "Id_number       -4.509178\n",
       "AveragePrice    -0.597853\n",
       "Total Volume    20.170327\n",
       "4046            19.927599\n",
       "4225            20.602074\n",
       "4770            17.848307\n",
       "Total Bags      17.606810\n",
       "Small Bags      17.606449\n",
       "Large Bags      17.157423\n",
       "XLarge Bags     19.392479\n",
       "year             7.981159\n",
       "dtype: float64"
      ]
     },
     "execution_count": 31,
     "metadata": {},
     "output_type": "execute_result"
    }
   ],
   "source": [
    "df.skew()"
   ]
  },
  {
   "cell_type": "markdown",
   "id": "312c0c5d",
   "metadata": {},
   "source": [
    "Need to check the skewness of the dataset. So here above we can see that our data is highly skewed which needs to be reduced to get better result. "
   ]
  },
  {
   "cell_type": "code",
   "execution_count": 32,
   "id": "a7c587b9",
   "metadata": {},
   "outputs": [],
   "source": [
    "df['Id_number'] = np.cbrt(df['Id_number'])"
   ]
  },
  {
   "cell_type": "code",
   "execution_count": 33,
   "id": "4a47914b",
   "metadata": {},
   "outputs": [],
   "source": [
    "df['AveragePrice'] = np.cbrt(df['AveragePrice'])"
   ]
  },
  {
   "cell_type": "code",
   "execution_count": 34,
   "id": "d4379f5d",
   "metadata": {},
   "outputs": [],
   "source": [
    "df['Total Volume'] = np.cbrt(df['Total Volume'])"
   ]
  },
  {
   "cell_type": "code",
   "execution_count": 35,
   "id": "6e97ae0e",
   "metadata": {},
   "outputs": [],
   "source": [
    "df['4046'] = np.cbrt(df['4046'])"
   ]
  },
  {
   "cell_type": "code",
   "execution_count": 36,
   "id": "0f7bbf34",
   "metadata": {},
   "outputs": [],
   "source": [
    "df['4225'] = np.cbrt(df['4225'])"
   ]
  },
  {
   "cell_type": "code",
   "execution_count": 37,
   "id": "0773d69f",
   "metadata": {},
   "outputs": [],
   "source": [
    "df['4770'] = np.cbrt(df['4770'])"
   ]
  },
  {
   "cell_type": "code",
   "execution_count": 38,
   "id": "170a3cc4",
   "metadata": {},
   "outputs": [],
   "source": [
    "df['Total Bags'] = np.cbrt(df['Total Bags'])"
   ]
  },
  {
   "cell_type": "code",
   "execution_count": 39,
   "id": "e1539b1a",
   "metadata": {},
   "outputs": [],
   "source": [
    "df['Small Bags'] = np.cbrt(df['Small Bags'])"
   ]
  },
  {
   "cell_type": "code",
   "execution_count": 40,
   "id": "d7dd242a",
   "metadata": {},
   "outputs": [],
   "source": [
    "df['Large Bags'] = np.cbrt(df['Large Bags'])"
   ]
  },
  {
   "cell_type": "code",
   "execution_count": 41,
   "id": "7e73f472",
   "metadata": {},
   "outputs": [],
   "source": [
    "df['XLarge Bags'] = np.cbrt(df['XLarge Bags'])"
   ]
  },
  {
   "cell_type": "code",
   "execution_count": 42,
   "id": "90594e87",
   "metadata": {},
   "outputs": [],
   "source": [
    "df['year'] = np.cbrt(df['year'])"
   ]
  },
  {
   "cell_type": "markdown",
   "id": "305032a5",
   "metadata": {},
   "source": [
    "Here we are reducing the skewness from the dataset to get better result"
   ]
  },
  {
   "cell_type": "code",
   "execution_count": 43,
   "id": "ef1ca6d5",
   "metadata": {},
   "outputs": [
    {
     "data": {
      "text/plain": [
       "Id_number      -6.712126\n",
       "AveragePrice   -2.654543\n",
       "Total Volume    6.791526\n",
       "4046            6.237455\n",
       "4225            5.706705\n",
       "4770            6.085205\n",
       "Total Bags      6.145840\n",
       "Small Bags      6.294046\n",
       "Large Bags      5.716341\n",
       "XLarge Bags     8.128755\n",
       "year            7.981159\n",
       "dtype: float64"
      ]
     },
     "execution_count": 43,
     "metadata": {},
     "output_type": "execute_result"
    }
   ],
   "source": [
    "df.skew()"
   ]
  },
  {
   "cell_type": "code",
   "execution_count": 44,
   "id": "a0da7212",
   "metadata": {},
   "outputs": [],
   "source": [
    "df['Id_number'] = np.cbrt(df['Id_number'])\n",
    "df['AveragePrice'] = np.cbrt(df['AveragePrice'])\n",
    "df['Total Volume'] = np.cbrt(df['Total Volume'])\n",
    "df['Total Volume'] = np.cbrt(df['Total Volume'])\n",
    "df['4046'] = np.cbrt(df['4046'])\n",
    "df['4225'] = np.cbrt(df['4225'])\n",
    "df['4770'] = np.cbrt(df['4770'])\n",
    "df['Total Bags'] = np.cbrt(df['Total Bags'])\n",
    "df['Small Bags'] = np.cbrt(df['Small Bags'])\n",
    "df['Large Bags'] = np.cbrt(df['Large Bags'])\n",
    "df['XLarge Bags'] = np.cbrt(df['XLarge Bags'])\n",
    "df['year'] = np.cbrt(df['year'])"
   ]
  },
  {
   "cell_type": "code",
   "execution_count": 45,
   "id": "1e18a0bd",
   "metadata": {},
   "outputs": [
    {
     "data": {
      "text/plain": [
       "Id_number      -14.024446\n",
       "AveragePrice    -3.343873\n",
       "Total Volume     4.416507\n",
       "4046             4.104639\n",
       "4225             3.934897\n",
       "4770             4.204960\n",
       "Total Bags       4.211769\n",
       "Small Bags       4.338968\n",
       "Large Bags       3.376438\n",
       "XLarge Bags      5.078935\n",
       "year             7.981159\n",
       "dtype: float64"
      ]
     },
     "execution_count": 45,
     "metadata": {},
     "output_type": "execute_result"
    }
   ],
   "source": [
    "df.skew()"
   ]
  },
  {
   "cell_type": "code",
   "execution_count": 46,
   "id": "5e407eb7",
   "metadata": {},
   "outputs": [],
   "source": [
    "df['Id_number'] = np.cbrt(df['Id_number'])\n",
    "df['AveragePrice'] = np.cbrt(df['AveragePrice'])\n",
    "df['Total Volume'] = np.cbrt(df['Total Volume'])\n",
    "df['Total Volume'] = np.cbrt(df['Total Volume'])\n",
    "df['4046'] = np.cbrt(df['4046'])\n",
    "df['4225'] = np.cbrt(df['4225'])\n",
    "df['4770'] = np.cbrt(df['4770'])\n",
    "df['Total Bags'] = np.cbrt(df['Total Bags'])\n",
    "df['Small Bags'] = np.cbrt(df['Small Bags'])\n",
    "df['Large Bags'] = np.cbrt(df['Large Bags'])\n",
    "df['XLarge Bags'] = np.cbrt(df['XLarge Bags'])\n",
    "df['year'] = np.cbrt(df['year'])"
   ]
  },
  {
   "cell_type": "code",
   "execution_count": 47,
   "id": "679a2792",
   "metadata": {},
   "outputs": [
    {
     "data": {
      "text/plain": [
       "Id_number      -22.280559\n",
       "AveragePrice    -3.573786\n",
       "Total Volume     4.275442\n",
       "4046             3.753729\n",
       "4225             3.633123\n",
       "4770             3.560157\n",
       "Total Bags       3.852261\n",
       "Small Bags       3.967410\n",
       "Large Bags       3.047611\n",
       "XLarge Bags      4.541681\n",
       "year             7.981159\n",
       "dtype: float64"
      ]
     },
     "execution_count": 47,
     "metadata": {},
     "output_type": "execute_result"
    }
   ],
   "source": [
    "df.skew()"
   ]
  },
  {
   "cell_type": "markdown",
   "id": "47b3530e",
   "metadata": {},
   "source": [
    "Here we have tried our best to reduce the skewness from the dataset"
   ]
  },
  {
   "cell_type": "code",
   "execution_count": 48,
   "id": "6aff1bd8",
   "metadata": {},
   "outputs": [],
   "source": [
    "df.drop(['Id_number'], axis=1, inplace=True)\n"
   ]
  },
  {
   "cell_type": "code",
   "execution_count": 49,
   "id": "333d340d",
   "metadata": {},
   "outputs": [],
   "source": [
    "df.drop(['Date'], axis=1, inplace=True)\n"
   ]
  },
  {
   "cell_type": "code",
   "execution_count": 50,
   "id": "399f8399",
   "metadata": {},
   "outputs": [],
   "source": [
    "df.drop(['type'], axis=1, inplace=True)\n"
   ]
  },
  {
   "cell_type": "code",
   "execution_count": 51,
   "id": "10759141",
   "metadata": {},
   "outputs": [],
   "source": [
    "df.drop(['year'], axis=1, inplace=True)\n"
   ]
  },
  {
   "cell_type": "code",
   "execution_count": 54,
   "id": "0e61355c",
   "metadata": {},
   "outputs": [],
   "source": [
    "df.drop(['region'], axis=1, inplace=True)\n"
   ]
  },
  {
   "cell_type": "markdown",
   "id": "9eacb3dd",
   "metadata": {},
   "source": [
    "Here we have drop the above columns from the datset to get the better result"
   ]
  },
  {
   "cell_type": "code",
   "execution_count": 55,
   "id": "a29b90a0",
   "metadata": {},
   "outputs": [
    {
     "data": {
      "text/html": [
       "<div>\n",
       "<style scoped>\n",
       "    .dataframe tbody tr th:only-of-type {\n",
       "        vertical-align: middle;\n",
       "    }\n",
       "\n",
       "    .dataframe tbody tr th {\n",
       "        vertical-align: top;\n",
       "    }\n",
       "\n",
       "    .dataframe thead th {\n",
       "        text-align: right;\n",
       "    }\n",
       "</style>\n",
       "<table border=\"1\" class=\"dataframe\">\n",
       "  <thead>\n",
       "    <tr style=\"text-align: right;\">\n",
       "      <th></th>\n",
       "      <th>AveragePrice</th>\n",
       "      <th>Total Volume</th>\n",
       "      <th>4046</th>\n",
       "      <th>4225</th>\n",
       "      <th>4770</th>\n",
       "      <th>Total Bags</th>\n",
       "      <th>Small Bags</th>\n",
       "      <th>Large Bags</th>\n",
       "      <th>XLarge Bags</th>\n",
       "    </tr>\n",
       "  </thead>\n",
       "  <tbody>\n",
       "    <tr>\n",
       "      <th>count</th>\n",
       "      <td>16468.000000</td>\n",
       "      <td>16468.000000</td>\n",
       "      <td>16468.000000</td>\n",
       "      <td>16468.000000</td>\n",
       "      <td>16468.000000</td>\n",
       "      <td>16468.000000</td>\n",
       "      <td>16468.000000</td>\n",
       "      <td>16468.000000</td>\n",
       "      <td>16468.000000</td>\n",
       "    </tr>\n",
       "    <tr>\n",
       "      <th>mean</th>\n",
       "      <td>1.002784</td>\n",
       "      <td>1.045414</td>\n",
       "      <td>1.280112</td>\n",
       "      <td>1.341253</td>\n",
       "      <td>1.181968</td>\n",
       "      <td>1.366391</td>\n",
       "      <td>1.365416</td>\n",
       "      <td>0.115985</td>\n",
       "      <td>0.054731</td>\n",
       "    </tr>\n",
       "    <tr>\n",
       "      <th>std</th>\n",
       "      <td>0.002109</td>\n",
       "      <td>0.003610</td>\n",
       "      <td>0.086289</td>\n",
       "      <td>0.074488</td>\n",
       "      <td>0.074614</td>\n",
       "      <td>0.056463</td>\n",
       "      <td>0.053754</td>\n",
       "      <td>0.384802</td>\n",
       "      <td>0.257480</td>\n",
       "    </tr>\n",
       "    <tr>\n",
       "      <th>min</th>\n",
       "      <td>0.973926</td>\n",
       "      <td>1.044436</td>\n",
       "      <td>1.255707</td>\n",
       "      <td>1.319532</td>\n",
       "      <td>0.000000</td>\n",
       "      <td>1.350121</td>\n",
       "      <td>1.350121</td>\n",
       "      <td>0.000000</td>\n",
       "      <td>0.000000</td>\n",
       "    </tr>\n",
       "    <tr>\n",
       "      <th>25%</th>\n",
       "      <td>1.002854</td>\n",
       "      <td>1.044436</td>\n",
       "      <td>1.255707</td>\n",
       "      <td>1.319532</td>\n",
       "      <td>1.162046</td>\n",
       "      <td>1.350121</td>\n",
       "      <td>1.350121</td>\n",
       "      <td>0.000000</td>\n",
       "      <td>0.000000</td>\n",
       "    </tr>\n",
       "    <tr>\n",
       "      <th>50%</th>\n",
       "      <td>1.002854</td>\n",
       "      <td>1.044436</td>\n",
       "      <td>1.255707</td>\n",
       "      <td>1.319532</td>\n",
       "      <td>1.162046</td>\n",
       "      <td>1.350121</td>\n",
       "      <td>1.350121</td>\n",
       "      <td>0.000000</td>\n",
       "      <td>0.000000</td>\n",
       "    </tr>\n",
       "    <tr>\n",
       "      <th>75%</th>\n",
       "      <td>1.002854</td>\n",
       "      <td>1.044436</td>\n",
       "      <td>1.255707</td>\n",
       "      <td>1.319532</td>\n",
       "      <td>1.162046</td>\n",
       "      <td>1.350121</td>\n",
       "      <td>1.350121</td>\n",
       "      <td>0.000000</td>\n",
       "      <td>0.000000</td>\n",
       "    </tr>\n",
       "    <tr>\n",
       "      <th>max</th>\n",
       "      <td>1.019400</td>\n",
       "      <td>1.075179</td>\n",
       "      <td>1.860059</td>\n",
       "      <td>1.860144</td>\n",
       "      <td>1.688187</td>\n",
       "      <td>1.790212</td>\n",
       "      <td>1.781373</td>\n",
       "      <td>1.675176</td>\n",
       "      <td>1.536151</td>\n",
       "    </tr>\n",
       "  </tbody>\n",
       "</table>\n",
       "</div>"
      ],
      "text/plain": [
       "       AveragePrice  Total Volume          4046          4225          4770  \\\n",
       "count  16468.000000  16468.000000  16468.000000  16468.000000  16468.000000   \n",
       "mean       1.002784      1.045414      1.280112      1.341253      1.181968   \n",
       "std        0.002109      0.003610      0.086289      0.074488      0.074614   \n",
       "min        0.973926      1.044436      1.255707      1.319532      0.000000   \n",
       "25%        1.002854      1.044436      1.255707      1.319532      1.162046   \n",
       "50%        1.002854      1.044436      1.255707      1.319532      1.162046   \n",
       "75%        1.002854      1.044436      1.255707      1.319532      1.162046   \n",
       "max        1.019400      1.075179      1.860059      1.860144      1.688187   \n",
       "\n",
       "         Total Bags    Small Bags    Large Bags   XLarge Bags  \n",
       "count  16468.000000  16468.000000  16468.000000  16468.000000  \n",
       "mean       1.366391      1.365416      0.115985      0.054731  \n",
       "std        0.056463      0.053754      0.384802      0.257480  \n",
       "min        1.350121      1.350121      0.000000      0.000000  \n",
       "25%        1.350121      1.350121      0.000000      0.000000  \n",
       "50%        1.350121      1.350121      0.000000      0.000000  \n",
       "75%        1.350121      1.350121      0.000000      0.000000  \n",
       "max        1.790212      1.781373      1.675176      1.536151  "
      ]
     },
     "execution_count": 55,
     "metadata": {},
     "output_type": "execute_result"
    }
   ],
   "source": [
    "df.describe()"
   ]
  },
  {
   "cell_type": "code",
   "execution_count": 56,
   "id": "77ac159c",
   "metadata": {},
   "outputs": [
    {
     "data": {
      "text/html": [
       "<div>\n",
       "<style scoped>\n",
       "    .dataframe tbody tr th:only-of-type {\n",
       "        vertical-align: middle;\n",
       "    }\n",
       "\n",
       "    .dataframe tbody tr th {\n",
       "        vertical-align: top;\n",
       "    }\n",
       "\n",
       "    .dataframe thead th {\n",
       "        text-align: right;\n",
       "    }\n",
       "</style>\n",
       "<table border=\"1\" class=\"dataframe\">\n",
       "  <thead>\n",
       "    <tr style=\"text-align: right;\">\n",
       "      <th></th>\n",
       "      <th>AveragePrice</th>\n",
       "      <th>Total Volume</th>\n",
       "      <th>4046</th>\n",
       "      <th>4225</th>\n",
       "      <th>4770</th>\n",
       "      <th>Total Bags</th>\n",
       "      <th>Small Bags</th>\n",
       "      <th>Large Bags</th>\n",
       "      <th>XLarge Bags</th>\n",
       "    </tr>\n",
       "  </thead>\n",
       "  <tbody>\n",
       "    <tr>\n",
       "      <th>0</th>\n",
       "      <td>1.010618</td>\n",
       "      <td>1.046611</td>\n",
       "      <td>1.293277</td>\n",
       "      <td>1.497645</td>\n",
       "      <td>1.154308</td>\n",
       "      <td>1.399273</td>\n",
       "      <td>1.398714</td>\n",
       "      <td>1.182905</td>\n",
       "      <td>0.0</td>\n",
       "    </tr>\n",
       "    <tr>\n",
       "      <th>1</th>\n",
       "      <td>1.011177</td>\n",
       "      <td>1.045933</td>\n",
       "      <td>1.272834</td>\n",
       "      <td>1.486660</td>\n",
       "      <td>1.162528</td>\n",
       "      <td>1.403888</td>\n",
       "      <td>1.403352</td>\n",
       "      <td>1.184855</td>\n",
       "      <td>0.0</td>\n",
       "    </tr>\n",
       "    <tr>\n",
       "      <th>2</th>\n",
       "      <td>0.997316</td>\n",
       "      <td>1.049241</td>\n",
       "      <td>1.280604</td>\n",
       "      <td>1.536715</td>\n",
       "      <td>1.197722</td>\n",
       "      <td>1.395881</td>\n",
       "      <td>1.395223</td>\n",
       "      <td>1.187330</td>\n",
       "      <td>0.0</td>\n",
       "    </tr>\n",
       "    <tr>\n",
       "      <th>3</th>\n",
       "      <td>1.002854</td>\n",
       "      <td>1.047502</td>\n",
       "      <td>1.297494</td>\n",
       "      <td>1.513199</td>\n",
       "      <td>1.171977</td>\n",
       "      <td>1.378533</td>\n",
       "      <td>1.377344</td>\n",
       "      <td>1.198817</td>\n",
       "      <td>0.0</td>\n",
       "    </tr>\n",
       "    <tr>\n",
       "      <th>4</th>\n",
       "      <td>1.009185</td>\n",
       "      <td>1.045621</td>\n",
       "      <td>1.288668</td>\n",
       "      <td>1.485664</td>\n",
       "      <td>1.173851</td>\n",
       "      <td>1.381711</td>\n",
       "      <td>1.380049</td>\n",
       "      <td>1.216288</td>\n",
       "      <td>0.0</td>\n",
       "    </tr>\n",
       "  </tbody>\n",
       "</table>\n",
       "</div>"
      ],
      "text/plain": [
       "   AveragePrice  Total Volume      4046      4225      4770  Total Bags  \\\n",
       "0      1.010618      1.046611  1.293277  1.497645  1.154308    1.399273   \n",
       "1      1.011177      1.045933  1.272834  1.486660  1.162528    1.403888   \n",
       "2      0.997316      1.049241  1.280604  1.536715  1.197722    1.395881   \n",
       "3      1.002854      1.047502  1.297494  1.513199  1.171977    1.378533   \n",
       "4      1.009185      1.045621  1.288668  1.485664  1.173851    1.381711   \n",
       "\n",
       "   Small Bags  Large Bags  XLarge Bags  \n",
       "0    1.398714    1.182905          0.0  \n",
       "1    1.403352    1.184855          0.0  \n",
       "2    1.395223    1.187330          0.0  \n",
       "3    1.377344    1.198817          0.0  \n",
       "4    1.380049    1.216288          0.0  "
      ]
     },
     "execution_count": 56,
     "metadata": {},
     "output_type": "execute_result"
    }
   ],
   "source": [
    "df.head()"
   ]
  },
  {
   "cell_type": "code",
   "execution_count": 58,
   "id": "e4222607",
   "metadata": {},
   "outputs": [
    {
     "data": {
      "image/png": "[encoded data removed]",
      "text/plain": [
       "<Figure size 1500x800 with 8 Axes>"
      ]
     },
     "metadata": {},
     "output_type": "display_data"
    }
   ],
   "source": [
    "plt.figure(figsize=(15,8), facecolor= \"yellow\")\n",
    "plotnumber=1\n",
    "for col in df:\n",
    "    if plotnumber<=8:\n",
    "        ax=plt.subplot(2,4,plotnumber)\n",
    "        sns.distplot(df[col], color=\"m\")\n",
    "        plt.xlabel(col, fontsize = 14)\n",
    "        plt.yticks(rotation=0, fontsize=10)\n",
    "        plotnumber+=1\n",
    "        plt.tight_layout()"
   ]
  },
  {
   "cell_type": "markdown",
   "id": "c9c3d24c",
   "metadata": {},
   "source": [
    "Now we are representing the dataset by using distplot so that we can easily verify the skewnes of the dataset"
   ]
  },
  {
   "cell_type": "code",
   "execution_count": 59,
   "id": "11c336bd",
   "metadata": {},
   "outputs": [
    {
     "data": {
      "image/png": "[encoded data removed]",
      "text/plain": [
       "<Figure size 1000x600 with 9 Axes>"
      ]
     },
     "metadata": {},
     "output_type": "display_data"
    }
   ],
   "source": [
    "plt.figure(figsize=(10,6), facecolor= 'green')\n",
    "plotnumber=1\n",
    "for col in df:\n",
    "    if plotnumber<=10:\n",
    "        ax=plt.subplot(2,5, plotnumber)\n",
    "        sns.boxplot(df[col], palette=\"Set2_r\")\n",
    "        plt.xlabel(col, fontsize=15)\n",
    "        plt.yticks(rotation=0, fontsize=10)\n",
    "        plotnumber+=1\n",
    "    plt.tight_layout()"
   ]
  },
  {
   "cell_type": "markdown",
   "id": "9c2b5fdd",
   "metadata": {},
   "source": [
    "Above boxplot represent the datset to verify the skewness and outliers"
   ]
  },
  {
   "cell_type": "code",
   "execution_count": 60,
   "id": "913ebc21",
   "metadata": {},
   "outputs": [
    {
     "data": {
      "text/html": [
       "<div>\n",
       "<style scoped>\n",
       "    .dataframe tbody tr th:only-of-type {\n",
       "        vertical-align: middle;\n",
       "    }\n",
       "\n",
       "    .dataframe tbody tr th {\n",
       "        vertical-align: top;\n",
       "    }\n",
       "\n",
       "    .dataframe thead th {\n",
       "        text-align: right;\n",
       "    }\n",
       "</style>\n",
       "<table border=\"1\" class=\"dataframe\">\n",
       "  <thead>\n",
       "    <tr style=\"text-align: right;\">\n",
       "      <th></th>\n",
       "      <th>AveragePrice</th>\n",
       "      <th>Total Volume</th>\n",
       "      <th>4046</th>\n",
       "      <th>4225</th>\n",
       "      <th>4770</th>\n",
       "      <th>Total Bags</th>\n",
       "      <th>Small Bags</th>\n",
       "      <th>Large Bags</th>\n",
       "      <th>XLarge Bags</th>\n",
       "    </tr>\n",
       "  </thead>\n",
       "  <tbody>\n",
       "    <tr>\n",
       "      <th>AveragePrice</th>\n",
       "      <td>1.000000</td>\n",
       "      <td>-0.258839</td>\n",
       "      <td>-0.324378</td>\n",
       "      <td>-0.148732</td>\n",
       "      <td>-0.214471</td>\n",
       "      <td>-0.172718</td>\n",
       "      <td>-0.158709</td>\n",
       "      <td>-0.146001</td>\n",
       "      <td>-0.115292</td>\n",
       "    </tr>\n",
       "    <tr>\n",
       "      <th>Total Volume</th>\n",
       "      <td>-0.258839</td>\n",
       "      <td>1.000000</td>\n",
       "      <td>0.944857</td>\n",
       "      <td>0.969022</td>\n",
       "      <td>0.897139</td>\n",
       "      <td>0.980026</td>\n",
       "      <td>0.978616</td>\n",
       "      <td>0.875070</td>\n",
       "      <td>0.709710</td>\n",
       "    </tr>\n",
       "    <tr>\n",
       "      <th>4046</th>\n",
       "      <td>-0.324378</td>\n",
       "      <td>0.944857</td>\n",
       "      <td>1.000000</td>\n",
       "      <td>0.903615</td>\n",
       "      <td>0.889917</td>\n",
       "      <td>0.935768</td>\n",
       "      <td>0.925776</td>\n",
       "      <td>0.893581</td>\n",
       "      <td>0.692933</td>\n",
       "    </tr>\n",
       "    <tr>\n",
       "      <th>4225</th>\n",
       "      <td>-0.148732</td>\n",
       "      <td>0.969022</td>\n",
       "      <td>0.903615</td>\n",
       "      <td>1.000000</td>\n",
       "      <td>0.892555</td>\n",
       "      <td>0.975027</td>\n",
       "      <td>0.973921</td>\n",
       "      <td>0.908668</td>\n",
       "      <td>0.705782</td>\n",
       "    </tr>\n",
       "    <tr>\n",
       "      <th>4770</th>\n",
       "      <td>-0.214471</td>\n",
       "      <td>0.897139</td>\n",
       "      <td>0.889917</td>\n",
       "      <td>0.892555</td>\n",
       "      <td>1.000000</td>\n",
       "      <td>0.896045</td>\n",
       "      <td>0.897099</td>\n",
       "      <td>0.842801</td>\n",
       "      <td>0.757734</td>\n",
       "    </tr>\n",
       "    <tr>\n",
       "      <th>Total Bags</th>\n",
       "      <td>-0.172718</td>\n",
       "      <td>0.980026</td>\n",
       "      <td>0.935768</td>\n",
       "      <td>0.975027</td>\n",
       "      <td>0.896045</td>\n",
       "      <td>1.000000</td>\n",
       "      <td>0.997082</td>\n",
       "      <td>0.912482</td>\n",
       "      <td>0.737127</td>\n",
       "    </tr>\n",
       "    <tr>\n",
       "      <th>Small Bags</th>\n",
       "      <td>-0.158709</td>\n",
       "      <td>0.978616</td>\n",
       "      <td>0.925776</td>\n",
       "      <td>0.973921</td>\n",
       "      <td>0.897099</td>\n",
       "      <td>0.997082</td>\n",
       "      <td>1.000000</td>\n",
       "      <td>0.895299</td>\n",
       "      <td>0.734165</td>\n",
       "    </tr>\n",
       "    <tr>\n",
       "      <th>Large Bags</th>\n",
       "      <td>-0.146001</td>\n",
       "      <td>0.875070</td>\n",
       "      <td>0.893581</td>\n",
       "      <td>0.908668</td>\n",
       "      <td>0.842801</td>\n",
       "      <td>0.912482</td>\n",
       "      <td>0.895299</td>\n",
       "      <td>1.000000</td>\n",
       "      <td>0.677683</td>\n",
       "    </tr>\n",
       "    <tr>\n",
       "      <th>XLarge Bags</th>\n",
       "      <td>-0.115292</td>\n",
       "      <td>0.709710</td>\n",
       "      <td>0.692933</td>\n",
       "      <td>0.705782</td>\n",
       "      <td>0.757734</td>\n",
       "      <td>0.737127</td>\n",
       "      <td>0.734165</td>\n",
       "      <td>0.677683</td>\n",
       "      <td>1.000000</td>\n",
       "    </tr>\n",
       "  </tbody>\n",
       "</table>\n",
       "</div>"
      ],
      "text/plain": [
       "              AveragePrice  Total Volume      4046      4225      4770  \\\n",
       "AveragePrice      1.000000     -0.258839 -0.324378 -0.148732 -0.214471   \n",
       "Total Volume     -0.258839      1.000000  0.944857  0.969022  0.897139   \n",
       "4046             -0.324378      0.944857  1.000000  0.903615  0.889917   \n",
       "4225             -0.148732      0.969022  0.903615  1.000000  0.892555   \n",
       "4770             -0.214471      0.897139  0.889917  0.892555  1.000000   \n",
       "Total Bags       -0.172718      0.980026  0.935768  0.975027  0.896045   \n",
       "Small Bags       -0.158709      0.978616  0.925776  0.973921  0.897099   \n",
       "Large Bags       -0.146001      0.875070  0.893581  0.908668  0.842801   \n",
       "XLarge Bags      -0.115292      0.709710  0.692933  0.705782  0.757734   \n",
       "\n",
       "              Total Bags  Small Bags  Large Bags  XLarge Bags  \n",
       "AveragePrice   -0.172718   -0.158709   -0.146001    -0.115292  \n",
       "Total Volume    0.980026    0.978616    0.875070     0.709710  \n",
       "4046            0.935768    0.925776    0.893581     0.692933  \n",
       "4225            0.975027    0.973921    0.908668     0.705782  \n",
       "4770            0.896045    0.897099    0.842801     0.757734  \n",
       "Total Bags      1.000000    0.997082    0.912482     0.737127  \n",
       "Small Bags      0.997082    1.000000    0.895299     0.734165  \n",
       "Large Bags      0.912482    0.895299    1.000000     0.677683  \n",
       "XLarge Bags     0.737127    0.734165    0.677683     1.000000  "
      ]
     },
     "execution_count": 60,
     "metadata": {},
     "output_type": "execute_result"
    }
   ],
   "source": [
    "cor= df.corr()\n",
    "cor"
   ]
  },
  {
   "cell_type": "markdown",
   "id": "24ee29d8",
   "metadata": {},
   "source": [
    "We need to check the correlation between the dataset"
   ]
  },
  {
   "cell_type": "code",
   "execution_count": 61,
   "id": "d0f8da9c",
   "metadata": {},
   "outputs": [
    {
     "data": {
      "image/png": "[encoded data removed]",
      "text/plain": [
       "<Figure size 2000x1500 with 2 Axes>"
      ]
     },
     "metadata": {},
     "output_type": "display_data"
    }
   ],
   "source": [
    "plt.figure(figsize=(20,15))\n",
    "sns.heatmap(df.corr(), linewidths=0.1, fmt=\".1g\", linecolor=\"black\", annot= True, cmap= \"Blues_r\")\n",
    "plt.yticks(rotation=0);\n",
    "plt.show()"
   ]
  },
  {
   "cell_type": "markdown",
   "id": "18e29410",
   "metadata": {},
   "source": [
    "Above heatmap is also reflecting the correlation between the dataset"
   ]
  },
  {
   "cell_type": "code",
   "execution_count": 62,
   "id": "47d66fe2",
   "metadata": {},
   "outputs": [],
   "source": [
    "x=df.drop(\"AveragePrice\", axis=1)\n",
    "y=df[\"AveragePrice\"]"
   ]
  },
  {
   "cell_type": "markdown",
   "id": "d16f6632",
   "metadata": {},
   "source": [
    "Now we have to drop the target variable "
   ]
  },
  {
   "cell_type": "code",
   "execution_count": 63,
   "id": "084e7b4b",
   "metadata": {},
   "outputs": [
    {
     "data": {
      "text/html": [
       "<div>\n",
       "<style scoped>\n",
       "    .dataframe tbody tr th:only-of-type {\n",
       "        vertical-align: middle;\n",
       "    }\n",
       "\n",
       "    .dataframe tbody tr th {\n",
       "        vertical-align: top;\n",
       "    }\n",
       "\n",
       "    .dataframe thead th {\n",
       "        text-align: right;\n",
       "    }\n",
       "</style>\n",
       "<table border=\"1\" class=\"dataframe\">\n",
       "  <thead>\n",
       "    <tr style=\"text-align: right;\">\n",
       "      <th></th>\n",
       "      <th>Total Volume</th>\n",
       "      <th>4046</th>\n",
       "      <th>4225</th>\n",
       "      <th>4770</th>\n",
       "      <th>Total Bags</th>\n",
       "      <th>Small Bags</th>\n",
       "      <th>Large Bags</th>\n",
       "      <th>XLarge Bags</th>\n",
       "    </tr>\n",
       "  </thead>\n",
       "  <tbody>\n",
       "    <tr>\n",
       "      <th>0</th>\n",
       "      <td>0.331359</td>\n",
       "      <td>0.152570</td>\n",
       "      <td>2.099625</td>\n",
       "      <td>-0.370714</td>\n",
       "      <td>0.582362</td>\n",
       "      <td>0.619464</td>\n",
       "      <td>2.772732</td>\n",
       "      <td>-0.212571</td>\n",
       "    </tr>\n",
       "    <tr>\n",
       "      <th>1</th>\n",
       "      <td>0.143534</td>\n",
       "      <td>-0.084344</td>\n",
       "      <td>1.952148</td>\n",
       "      <td>-0.260545</td>\n",
       "      <td>0.664108</td>\n",
       "      <td>0.705751</td>\n",
       "      <td>2.777799</td>\n",
       "      <td>-0.212571</td>\n",
       "    </tr>\n",
       "    <tr>\n",
       "      <th>2</th>\n",
       "      <td>1.060024</td>\n",
       "      <td>0.005704</td>\n",
       "      <td>2.624168</td>\n",
       "      <td>0.211147</td>\n",
       "      <td>0.522299</td>\n",
       "      <td>0.554512</td>\n",
       "      <td>2.784230</td>\n",
       "      <td>-0.212571</td>\n",
       "    </tr>\n",
       "    <tr>\n",
       "      <th>3</th>\n",
       "      <td>0.578163</td>\n",
       "      <td>0.201447</td>\n",
       "      <td>2.308445</td>\n",
       "      <td>-0.133900</td>\n",
       "      <td>0.215039</td>\n",
       "      <td>0.221909</td>\n",
       "      <td>2.814083</td>\n",
       "      <td>-0.212571</td>\n",
       "    </tr>\n",
       "    <tr>\n",
       "      <th>4</th>\n",
       "      <td>0.057114</td>\n",
       "      <td>0.099161</td>\n",
       "      <td>1.938777</td>\n",
       "      <td>-0.108780</td>\n",
       "      <td>0.271329</td>\n",
       "      <td>0.272232</td>\n",
       "      <td>2.859488</td>\n",
       "      <td>-0.212571</td>\n",
       "    </tr>\n",
       "    <tr>\n",
       "      <th>...</th>\n",
       "      <td>...</td>\n",
       "      <td>...</td>\n",
       "      <td>...</td>\n",
       "      <td>...</td>\n",
       "      <td>...</td>\n",
       "      <td>...</td>\n",
       "      <td>...</td>\n",
       "      <td>...</td>\n",
       "    </tr>\n",
       "    <tr>\n",
       "      <th>16463</th>\n",
       "      <td>-0.271026</td>\n",
       "      <td>-0.282835</td>\n",
       "      <td>-0.291618</td>\n",
       "      <td>-0.267010</td>\n",
       "      <td>-0.288173</td>\n",
       "      <td>-0.284555</td>\n",
       "      <td>-0.301424</td>\n",
       "      <td>-0.212571</td>\n",
       "    </tr>\n",
       "    <tr>\n",
       "      <th>16464</th>\n",
       "      <td>-0.271026</td>\n",
       "      <td>-0.282835</td>\n",
       "      <td>-0.291618</td>\n",
       "      <td>-0.267010</td>\n",
       "      <td>-0.288173</td>\n",
       "      <td>-0.284555</td>\n",
       "      <td>-0.301424</td>\n",
       "      <td>-0.212571</td>\n",
       "    </tr>\n",
       "    <tr>\n",
       "      <th>16465</th>\n",
       "      <td>-0.271026</td>\n",
       "      <td>-0.282835</td>\n",
       "      <td>-0.291618</td>\n",
       "      <td>-0.267010</td>\n",
       "      <td>-0.288173</td>\n",
       "      <td>-0.284555</td>\n",
       "      <td>-0.301424</td>\n",
       "      <td>-0.212571</td>\n",
       "    </tr>\n",
       "    <tr>\n",
       "      <th>16466</th>\n",
       "      <td>-0.271026</td>\n",
       "      <td>-0.282835</td>\n",
       "      <td>-0.291618</td>\n",
       "      <td>-0.267010</td>\n",
       "      <td>-0.288173</td>\n",
       "      <td>-0.284555</td>\n",
       "      <td>-0.301424</td>\n",
       "      <td>-0.212571</td>\n",
       "    </tr>\n",
       "    <tr>\n",
       "      <th>16467</th>\n",
       "      <td>-0.271026</td>\n",
       "      <td>-0.282835</td>\n",
       "      <td>-0.291618</td>\n",
       "      <td>-0.267010</td>\n",
       "      <td>-0.288173</td>\n",
       "      <td>-0.284555</td>\n",
       "      <td>-0.301424</td>\n",
       "      <td>-0.212571</td>\n",
       "    </tr>\n",
       "  </tbody>\n",
       "</table>\n",
       "<p>16468 rows × 8 columns</p>\n",
       "</div>"
      ],
      "text/plain": [
       "       Total Volume      4046      4225      4770  Total Bags  Small Bags  \\\n",
       "0          0.331359  0.152570  2.099625 -0.370714    0.582362    0.619464   \n",
       "1          0.143534 -0.084344  1.952148 -0.260545    0.664108    0.705751   \n",
       "2          1.060024  0.005704  2.624168  0.211147    0.522299    0.554512   \n",
       "3          0.578163  0.201447  2.308445 -0.133900    0.215039    0.221909   \n",
       "4          0.057114  0.099161  1.938777 -0.108780    0.271329    0.272232   \n",
       "...             ...       ...       ...       ...         ...         ...   \n",
       "16463     -0.271026 -0.282835 -0.291618 -0.267010   -0.288173   -0.284555   \n",
       "16464     -0.271026 -0.282835 -0.291618 -0.267010   -0.288173   -0.284555   \n",
       "16465     -0.271026 -0.282835 -0.291618 -0.267010   -0.288173   -0.284555   \n",
       "16466     -0.271026 -0.282835 -0.291618 -0.267010   -0.288173   -0.284555   \n",
       "16467     -0.271026 -0.282835 -0.291618 -0.267010   -0.288173   -0.284555   \n",
       "\n",
       "       Large Bags  XLarge Bags  \n",
       "0        2.772732    -0.212571  \n",
       "1        2.777799    -0.212571  \n",
       "2        2.784230    -0.212571  \n",
       "3        2.814083    -0.212571  \n",
       "4        2.859488    -0.212571  \n",
       "...           ...          ...  \n",
       "16463   -0.301424    -0.212571  \n",
       "16464   -0.301424    -0.212571  \n",
       "16465   -0.301424    -0.212571  \n",
       "16466   -0.301424    -0.212571  \n",
       "16467   -0.301424    -0.212571  \n",
       "\n",
       "[16468 rows x 8 columns]"
      ]
     },
     "execution_count": 63,
     "metadata": {},
     "output_type": "execute_result"
    }
   ],
   "source": [
    "from sklearn.preprocessing import StandardScaler\n",
    "scaler= StandardScaler()\n",
    "x=pd.DataFrame(scaler.fit_transform(x), columns=x.columns)\n",
    "x"
   ]
  },
  {
   "cell_type": "code",
   "execution_count": 71,
   "id": "37c2f8e1",
   "metadata": {},
   "outputs": [],
   "source": [
    "from sklearn.model_selection import train_test_split\n",
    "\n",
    "X_train, X_test, y_train, y_test = train_test_split(x, y, test_size=0.2, random_state=42)"
   ]
  },
  {
   "cell_type": "code",
   "execution_count": 72,
   "id": "c3cf0c67",
   "metadata": {},
   "outputs": [
    {
     "data": {
      "text/plain": [
       "LinearRegression()"
      ]
     },
     "execution_count": 72,
     "metadata": {},
     "output_type": "execute_result"
    }
   ],
   "source": [
    "from sklearn.linear_model import LinearRegression\n",
    "\n",
    "model = LinearRegression()\n",
    "model.fit(X_train, y_train)"
   ]
  },
  {
   "cell_type": "code",
   "execution_count": 73,
   "id": "3a770697",
   "metadata": {},
   "outputs": [
    {
     "name": "stdout",
     "output_type": "stream",
     "text": [
      "Mean Squared Error: 2.8632244240219878e-06\n",
      "R-squared (R2) Score: 0.30960675578903585\n"
     ]
    }
   ],
   "source": [
    "y_pred = model.predict(X_test)\n",
    "\n",
    "from sklearn.metrics import mean_squared_error, r2_score\n",
    "\n",
    "mse = mean_squared_error(y_test, y_pred)\n",
    "r2 = r2_score(y_test, y_pred)\n",
    "\n",
    "print(f'Mean Squared Error: {mse}')\n",
    "print(f'R-squared (R2) Score: {r2}')"
   ]
  },
  {
   "cell_type": "markdown",
   "id": "7462019a",
   "metadata": {},
   "source": [
    "Creating the models for the dataset"
   ]
  },
  {
   "cell_type": "code",
   "execution_count": 74,
   "id": "b5caf09a",
   "metadata": {},
   "outputs": [
    {
     "data": {
      "text/plain": [
       "['AveragePrice.pkl']"
      ]
     },
     "execution_count": 74,
     "metadata": {},
     "output_type": "execute_result"
    }
   ],
   "source": [
    "import joblib\n",
    "joblib.dump(model,\"AveragePrice.pkl\")"
   ]
  },
  {
   "cell_type": "code",
   "execution_count": 75,
   "id": "682beee0",
   "metadata": {},
   "outputs": [
    {
     "data": {
      "text/plain": [
       "array([1.0028462, 1.0028462, 1.0028462, ..., 1.0028462, 1.0028462,\n",
       "       1.0028462])"
      ]
     },
     "execution_count": 75,
     "metadata": {},
     "output_type": "execute_result"
    }
   ],
   "source": [
    "model = joblib.load(\"AveragePrice.pkl\")\n",
    "prediction = model.predict(X_test)\n",
    "prediction"
   ]
  },
  {
   "cell_type": "code",
   "execution_count": 76,
   "id": "9db3e51e",
   "metadata": {},
   "outputs": [
    {
     "data": {
      "text/html": [
       "<div>\n",
       "<style scoped>\n",
       "    .dataframe tbody tr th:only-of-type {\n",
       "        vertical-align: middle;\n",
       "    }\n",
       "\n",
       "    .dataframe tbody tr th {\n",
       "        vertical-align: top;\n",
       "    }\n",
       "\n",
       "    .dataframe thead th {\n",
       "        text-align: right;\n",
       "    }\n",
       "</style>\n",
       "<table border=\"1\" class=\"dataframe\">\n",
       "  <thead>\n",
       "    <tr style=\"text-align: right;\">\n",
       "      <th></th>\n",
       "      <th>Predicted</th>\n",
       "      <th>Original</th>\n",
       "    </tr>\n",
       "  </thead>\n",
       "  <tbody>\n",
       "    <tr>\n",
       "      <th>0</th>\n",
       "      <td>1.002846</td>\n",
       "      <td>1.002854</td>\n",
       "    </tr>\n",
       "    <tr>\n",
       "      <th>1</th>\n",
       "      <td>1.002846</td>\n",
       "      <td>1.002854</td>\n",
       "    </tr>\n",
       "    <tr>\n",
       "      <th>2</th>\n",
       "      <td>1.002846</td>\n",
       "      <td>1.002854</td>\n",
       "    </tr>\n",
       "    <tr>\n",
       "      <th>3</th>\n",
       "      <td>1.002846</td>\n",
       "      <td>1.002854</td>\n",
       "    </tr>\n",
       "    <tr>\n",
       "      <th>4</th>\n",
       "      <td>1.002846</td>\n",
       "      <td>1.002854</td>\n",
       "    </tr>\n",
       "    <tr>\n",
       "      <th>...</th>\n",
       "      <td>...</td>\n",
       "      <td>...</td>\n",
       "    </tr>\n",
       "    <tr>\n",
       "      <th>3289</th>\n",
       "      <td>1.002846</td>\n",
       "      <td>1.002854</td>\n",
       "    </tr>\n",
       "    <tr>\n",
       "      <th>3290</th>\n",
       "      <td>1.002846</td>\n",
       "      <td>1.002854</td>\n",
       "    </tr>\n",
       "    <tr>\n",
       "      <th>3291</th>\n",
       "      <td>1.002846</td>\n",
       "      <td>1.002854</td>\n",
       "    </tr>\n",
       "    <tr>\n",
       "      <th>3292</th>\n",
       "      <td>1.002846</td>\n",
       "      <td>1.002854</td>\n",
       "    </tr>\n",
       "    <tr>\n",
       "      <th>3293</th>\n",
       "      <td>1.002846</td>\n",
       "      <td>1.002854</td>\n",
       "    </tr>\n",
       "  </tbody>\n",
       "</table>\n",
       "<p>3294 rows × 2 columns</p>\n",
       "</div>"
      ],
      "text/plain": [
       "      Predicted  Original\n",
       "0      1.002846  1.002854\n",
       "1      1.002846  1.002854\n",
       "2      1.002846  1.002854\n",
       "3      1.002846  1.002854\n",
       "4      1.002846  1.002854\n",
       "...         ...       ...\n",
       "3289   1.002846  1.002854\n",
       "3290   1.002846  1.002854\n",
       "3291   1.002846  1.002854\n",
       "3292   1.002846  1.002854\n",
       "3293   1.002846  1.002854\n",
       "\n",
       "[3294 rows x 2 columns]"
      ]
     },
     "execution_count": 76,
     "metadata": {},
     "output_type": "execute_result"
    }
   ],
   "source": [
    "a = np.array(y_test) \n",
    "df = pd.DataFrame()\n",
    "df[\"Predicted\"] = prediction\n",
    "df[\"Original\"]=a\n",
    "df"
   ]
  },
  {
   "cell_type": "markdown",
   "id": "92a8cc95",
   "metadata": {},
   "source": [
    "Finally we have predicted the average price in our dataset"
   ]
  },
  {
   "cell_type": "code",
   "execution_count": null,
   "id": "60ed4085",
   "metadata": {},
   "outputs": [],
   "source": []
  }
 ],
 "metadata": {
  "kernelspec": {
   "display_name": "Python 3 (ipykernel)",
   "language": "python",
   "name": "python3"
  },
  "language_info": {
   "codemirror_mode": {
    "name": "ipython",
    "version": 3
   },
   "file_extension": ".py",
   "mimetype": "text/x-python",
   "name": "python",
   "nbconvert_exporter": "python",
   "pygments_lexer": "ipython3",
   "version": "3.9.13"
  }
 },
 "nbformat": 4,
 "nbformat_minor": 5
}
